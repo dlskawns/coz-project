{
  "nbformat": 4,
  "nbformat_minor": 0,
  "metadata": {
    "colab": {
      "name": "CP2_cx_analysis.ipynb",
      "provenance": [],
      "toc_visible": true,
      "authorship_tag": "ABX9TyNWsN6hI/HSXpfuFYGFMktO",
      "include_colab_link": true
    },
    "kernelspec": {
      "name": "python3",
      "display_name": "Python 3"
    },
    "language_info": {
      "name": "python"
    }
  },
  "cells": [
    {
      "cell_type": "markdown",
      "metadata": {
        "id": "view-in-github",
        "colab_type": "text"
      },
      "source": [
        "<a href=\"https://colab.research.google.com/github/dlskawns/coz-project/blob/main/CP2_cx_analysis.ipynb\" target=\"_parent\"><img src=\"https://colab.research.google.com/assets/colab-badge.svg\" alt=\"Open In Colab\"/></a>"
      ]
    },
    {
      "cell_type": "markdown",
      "source": [
        "## 6/15 - 9,10기 CP2 경험 분석"
      ],
      "metadata": {
        "id": "tSeEIOL2rQt3"
      }
    },
    {
      "cell_type": "markdown",
      "source": [
        "## 환경설정\n"
      ],
      "metadata": {
        "id": "grJki4T6cEse"
      }
    },
    {
      "cell_type": "code",
      "execution_count": 1,
      "metadata": {
        "id": "NSSrVOMPrNlU"
      },
      "outputs": [],
      "source": [
        "# 경고 없애기\n",
        "import warnings\n",
        "warnings.filterwarnings(action='ignore')"
      ]
    },
    {
      "cell_type": "code",
      "source": [
        "## 나눔폰츠 설치 -> 실행 후 런타임 리셋해야함\n",
        "# !sudo apt-get install -y fonts-nanum\n",
        "# !sudo fc-cache -fv\n",
        "# !rm ~/.cache/matplotlib -rf"
      ],
      "metadata": {
        "id": "vBHLC0xe22XA"
      },
      "execution_count": null,
      "outputs": []
    },
    {
      "cell_type": "code",
      "source": [
        "# 나눔폰트 설치\n",
        "!apt-get update -qq\n",
        "!apt-get install fonts-nanum* -qq"
      ],
      "metadata": {
        "colab": {
          "base_uri": "https://localhost:8080/"
        },
        "id": "mz1yl4xQAeLS",
        "outputId": "76f726ec-2917-4153-8e46-4286f81aba0c"
      },
      "execution_count": 2,
      "outputs": [
        {
          "output_type": "stream",
          "name": "stdout",
          "text": [
            "Selecting previously unselected package fonts-nanum-eco.\n",
            "(Reading database ... \r(Reading database ... 5%\r(Reading database ... 10%\r(Reading database ... 15%\r(Reading database ... 20%\r(Reading database ... 25%\r(Reading database ... 30%\r(Reading database ... 35%\r(Reading database ... 40%\r(Reading database ... 45%\r(Reading database ... 50%\r(Reading database ... 55%\r(Reading database ... 60%\r(Reading database ... 65%\r(Reading database ... 70%\r(Reading database ... 75%\r(Reading database ... 80%\r(Reading database ... 85%\r(Reading database ... 90%\r(Reading database ... 95%\r(Reading database ... 100%\r(Reading database ... 155650 files and directories currently installed.)\n",
            "Preparing to unpack .../fonts-nanum-eco_1.000-6_all.deb ...\n",
            "Unpacking fonts-nanum-eco (1.000-6) ...\n",
            "Selecting previously unselected package fonts-nanum-extra.\n",
            "Preparing to unpack .../fonts-nanum-extra_20170925-1_all.deb ...\n",
            "Unpacking fonts-nanum-extra (20170925-1) ...\n",
            "Selecting previously unselected package fonts-nanum-coding.\n",
            "Preparing to unpack .../fonts-nanum-coding_2.5-1_all.deb ...\n",
            "Unpacking fonts-nanum-coding (2.5-1) ...\n",
            "Setting up fonts-nanum-extra (20170925-1) ...\n",
            "Setting up fonts-nanum-coding (2.5-1) ...\n",
            "Setting up fonts-nanum-eco (1.000-6) ...\n",
            "Processing triggers for fontconfig (2.12.6-0ubuntu2) ...\n"
          ]
        }
      ]
    },
    {
      "cell_type": "code",
      "source": [
        "import matplotlib.pyplot as plt\n",
        "import matplotlib as mpl\n",
        "import matplotlib.font_manager as fm\n",
        "from matplotlib import font_manager,rc\n",
        "\n",
        "font_list = fm.findSystemFonts()\n",
        "font_path= '/usr/share/fonts/truetype/nanum/NanumGothic.ttf'\n",
        "font_name=font_manager.FontProperties(fname=font_path).get_name()\n",
        "rc('font',family=font_name)"
      ],
      "metadata": {
        "id": "4DhCMDCFAeLS"
      },
      "execution_count": 3,
      "outputs": []
    },
    {
      "cell_type": "markdown",
      "source": [
        "## 데이터셋 불러오기"
      ],
      "metadata": {
        "id": "OTG_3bGKcIAc"
      }
    },
    {
      "cell_type": "code",
      "execution_count": 4,
      "metadata": {
        "colab": {
          "base_uri": "https://localhost:8080/"
        },
        "id": "z8BzZT-S_t8S",
        "outputId": "09f5212b-af1c-42b7-b783-934d205f19e1"
      },
      "outputs": [
        {
          "output_type": "stream",
          "name": "stdout",
          "text": [
            "Mounted at /content/drive\n"
          ]
        }
      ],
      "source": [
        "from google.colab import drive\n",
        "\n",
        "drive.mount('/content/drive')"
      ]
    },
    {
      "cell_type": "code",
      "source": [
        "import pandas as pd\n",
        "\n",
        "# CP1 데이터셋 (사용안함)\n",
        "df1 = pd.read_excel('/content/drive/MyDrive/고객만족도조사0615_2xlsx.xlsx', sheet_name= 6)\n",
        "\n",
        "# CP2 데이터셋 \n",
        "df2 = pd.read_excel('/content/drive/MyDrive/고객만족도조사0615_2xlsx.xlsx', sheet_name= 7)\n"
      ],
      "metadata": {
        "id": "uk3-TB_J_2po"
      },
      "execution_count": 5,
      "outputs": []
    },
    {
      "cell_type": "markdown",
      "source": [
        "## 초간단 EDA 및 특성공학"
      ],
      "metadata": {
        "id": "Xom2wOyhdaPk"
      }
    },
    {
      "cell_type": "code",
      "source": [
        "# 특성 확인\n",
        "df2.columns"
      ],
      "metadata": {
        "colab": {
          "base_uri": "https://localhost:8080/"
        },
        "id": "pFaVNGkaxIUn",
        "outputId": "c4232e48-86e6-4abf-eb67-d66019542ccb"
      },
      "execution_count": 8,
      "outputs": [
        {
          "output_type": "execute_result",
          "data": {
            "text/plain": [
              "Index(['개인 정보 수집 동의 ', '휴대폰 번호', '기수', '연령', '성별', '최종학력', '전공',\n",
              "       '타사 프로그램 수강여부 ', '타사 프로그램 만족도 ', '소요시간', '자기주도학습 점수', '근무 희망 분야 ',\n",
              "       '주제 선정 방법', 'CP2 기업 프로젝트 선정 이유', 'CP2 자기 주도  프로젝트 선정 이유',\n",
              "       'CP2에서 가장 어려운 점(기업)', 'CP2에서 가장 어려운 점(자기 주도 프로젝트)', 'CP2 기업 프로젝트 추천점수',\n",
              "       'CP2 자기 주도 프로젝트 추천점수', 'CP2 주제', 'CP2 주제 선정 이유',\n",
              "       'CP2 주제와 연관 있는 Section', 'CP2 완성도에 대한 만족도', 'CP1~CP2 심리적 안전감 변화 ',\n",
              "       'CP1~CP2 심리적 안전감 변화 이유', '심리적 불안전 요인', '심리적 불안전 해소에 도움되는 것 ', '기타의견',\n",
              "       'Submitted At', 'Token'],\n",
              "      dtype='object')"
            ]
          },
          "metadata": {},
          "execution_count": 8
        }
      ]
    },
    {
      "cell_type": "code",
      "source": [
        "# 기수 및 기수 별 인원확인\n",
        "for i, j in zip(df2.기수.value_counts().index, df2.기수.value_counts().values):\n",
        "  print(f\"{int(i)}기: {j}명\")"
      ],
      "metadata": {
        "colab": {
          "base_uri": "https://localhost:8080/"
        },
        "id": "iFNwXuZjx6OW",
        "outputId": "1c8c0fe4-05da-464d-f2c6-124399ea2fd5"
      },
      "execution_count": 260,
      "outputs": [
        {
          "output_type": "stream",
          "name": "stdout",
          "text": [
            "7기: 20명\n",
            "8기: 15명\n",
            "9기: 15명\n",
            "10기: 10명\n"
          ]
        }
      ]
    },
    {
      "cell_type": "code",
      "source": [
        "# 추천점수 결측치 해결\n",
        "df2['CP2 자기 주도 프로젝트 추천점수'] = df2['CP2 자기 주도 프로젝트 추천점수'].fillna('').map(lambda x: int(x[0]) if x != '' else x)\n",
        "df2['CP2 기업 프로젝트 추천점수'] = df2['CP2 기업 프로젝트 추천점수'].fillna('').map(lambda x: int(x[0]) if x != '' else x)\n",
        "# 만족도 결측치 해결\n",
        "df2['CP2 완성도에 대한 만족도'] = df2['CP2 완성도에 대한 만족도'].map(lambda x: int(x[0]))"
      ],
      "metadata": {
        "id": "MdL4HfJv0veX"
      },
      "execution_count": 6,
      "outputs": []
    },
    {
      "cell_type": "code",
      "source": [
        "# 9,10기 데이터\n",
        "df910 = df2[(df2['기수']==9)|(df2['기수']==10)]\n",
        "\n",
        "# 7,8기 데이터\n",
        "df78 = df2[(df2['기수']==7)|(df2['기수']==8)]"
      ],
      "metadata": {
        "id": "PfAxKWHx1gwQ"
      },
      "execution_count": 7,
      "outputs": []
    },
    {
      "cell_type": "code",
      "source": [
        "# 기업 분류와 코드스테이츠 여부를 파악하는 컬럼 이름 변경\n",
        "df910.rename(columns= {'Unnamed: 34': '기업여부', 'Unnamed: 35': '코드여부'}, inplace = True)"
      ],
      "metadata": {
        "id": "qFdojtZs-Gs4"
      },
      "execution_count": 8,
      "outputs": []
    },
    {
      "cell_type": "markdown",
      "source": [
        "#### [전체] 완성 만족도 및 추천 점수 데이터"
      ],
      "metadata": {
        "id": "VnOuEJ_bsy_z"
      }
    },
    {
      "cell_type": "code",
      "source": [
        "import numpy as np\n",
        "#평균 점수 파악\n",
        "print(f\"7,8기 자기주도 프로젝트 추천점수 평균: {round(np.mean(df78[df78['CP2 자기 주도 프로젝트 추천점수']!='']['CP2 자기 주도 프로젝트 추천점수']),2)}\")\n",
        "print(f\"7,8기 기업 프로젝트 추천점수 평균: {round(np.mean(df78[df78['CP2 기업 프로젝트 추천점수']!='']['CP2 기업 프로젝트 추천점수']),2)}\")\n",
        "print(f\"\\n9,10기 자기주도 프로젝트 추천점수 평균: {round(np.mean(df910[df910['CP2 자기 주도 프로젝트 추천점수']!='']['CP2 자기 주도 프로젝트 추천점수']),2)}\")\n",
        "print(f\"9,10기 기업 프로젝트 추천점수 평균: {round(np.mean(df910[df910['CP2 기업 프로젝트 추천점수']!='']['CP2 기업 프로젝트 추천점수']),2)}\")"
      ],
      "metadata": {
        "colab": {
          "base_uri": "https://localhost:8080/"
        },
        "id": "fJ7pq8vnyQxg",
        "outputId": "77d322f9-197e-4bc0-ad10-136120ebdd24"
      },
      "execution_count": 263,
      "outputs": [
        {
          "output_type": "stream",
          "name": "stdout",
          "text": [
            "7,8기 자기주도 프로젝트 추천점수 평균: 4.89\n",
            "7,8기 기업 프로젝트 추천점수 평균: 4.81\n",
            "\n",
            "9,10기 자기주도 프로젝트 추천점수 평균: 4.0\n",
            "9,10기 기업 프로젝트 추천점수 평균: 4.7\n"
          ]
        }
      ]
    },
    {
      "cell_type": "markdown",
      "source": [
        "9,10기 들어 자기주도 프로젝트 진행한 수강생들의 평균 점수가 더 낮음"
      ],
      "metadata": {
        "id": "rAE9Xes1oarI"
      }
    },
    {
      "cell_type": "code",
      "source": [
        "print(f\"전체 자기 주도 프로젝트 추천점수 평균: {np.mean(df2[df2['CP2 자기 주도 프로젝트 추천점수']!='']['CP2 자기 주도 프로젝트 추천점수'])}\")\n",
        "print(f\"전체 기업 프로젝트 추천점수 평균: {np.mean(df2[df2['CP2 기업 프로젝트 추천점수']!='']['CP2 기업 프로젝트 추천점수'])}\")"
      ],
      "metadata": {
        "colab": {
          "base_uri": "https://localhost:8080/"
        },
        "id": "94ikujEXyWjT",
        "outputId": "e6cf38aa-264b-4e22-8dda-93fa4c0e957b"
      },
      "execution_count": 90,
      "outputs": [
        {
          "output_type": "stream",
          "name": "stdout",
          "text": [
            "전체 자기 주도 프로젝트 추천점수 평균: 4.571428571428571\n",
            "전체 기업 프로젝트 추천점수 평균: 4.760869565217392\n"
          ]
        }
      ]
    },
    {
      "cell_type": "code",
      "source": [
        "print(f\"7,8기 CP2 완성도에 대한 만족도 평균: {np.mean(df78[df78['CP2 완성도에 대한 만족도']!='']['CP2 완성도에 대한 만족도'])}\")\n",
        "print(f\"9,10기 CP2 완성도에 대한 만족도 평균: {np.mean(df910[df910['CP2 완성도에 대한 만족도']!='']['CP2 완성도에 대한 만족도'])}\")\n",
        "print(f\"전체 CP2 완성도에 대한 만족도 평균: {np.mean(df2[df2['CP2 완성도에 대한 만족도']!='']['CP2 완성도에 대한 만족도'])}\")"
      ],
      "metadata": {
        "colab": {
          "base_uri": "https://localhost:8080/"
        },
        "id": "FnPYAQnc1Tqk",
        "outputId": "ecb52963-3c9d-42ff-f70c-a68d8a49bdf6"
      },
      "execution_count": 91,
      "outputs": [
        {
          "output_type": "stream",
          "name": "stdout",
          "text": [
            "7,8기 CP2 완성도에 대한 만족도 평균: 4.228571428571429\n",
            "9,10기 CP2 완성도에 대한 만족도 평균: 3.92\n",
            "전체 CP2 완성도에 대한 만족도 평균: 4.1\n"
          ]
        }
      ]
    },
    {
      "cell_type": "code",
      "source": [
        "df910['CP2에서 가장 어려운 점(기업)'].fillna('없음', inplace = True)\n",
        "df910['CP2에서 가장 어려운 점(자기 주도 프로젝트)'].fillna('없음', inplace = True)\n",
        "\n",
        "df910['CP2 어려운점'] = df910['CP2에서 가장 어려운 점(기업)']+df910['CP2에서 가장 어려운 점(자기 주도 프로젝트)']\n",
        "df910['CP2 어려운점'] = df910['CP2 어려운점'].map(lambda x: x.replace('없음',''))"
      ],
      "metadata": {
        "id": "WP0MeVa9W-g5"
      },
      "execution_count": 9,
      "outputs": []
    },
    {
      "cell_type": "markdown",
      "source": [
        "#### [기업 별] 9,10기 완성 만족도 및 추천 점수 데이터"
      ],
      "metadata": {
        "id": "k3dxb-q7sgfW"
      }
    },
    {
      "cell_type": "code",
      "source": [
        "\n",
        "# 개인, 기업 프로젝트 컬럼을 합쳐주는 작업\n",
        "df910['추천점수'] = df910['CP2 자기 주도 프로젝트 추천점수'].map(lambda x: 0 if x == '' else x)+\\\n",
        "df910['CP2 기업 프로젝트 추천점수'].map(lambda x: 0 if x == '' else x)\n",
        "\n",
        "# 추천점수 파악을 위한 새로운 데이터프레임 생성\n",
        "df_rec = df910.groupby('기업여부')['CP2 완성도에 대한 만족도','추천점수'].mean().reset_index()\n",
        "\n",
        "#인원 파악을 위한 '인원'컬럼 추가\n",
        "df_rec['인원'] = df910.groupby('기업여부')['기업여부'].count().values\n",
        "\n",
        "# 기업별 완성 만족도 및 추천 점수, 인원\n",
        "df_rec.rename(columns = {'CP2 완성도에 대한 만족도': '만족도'}, inplace = True)\n",
        "df_rec"
      ],
      "metadata": {
        "colab": {
          "base_uri": "https://localhost:8080/",
          "height": 269
        },
        "outputId": "d30bc605-0204-4a0e-f8bc-a061eaaade1f",
        "id": "G5Xb0oNgsgfW"
      },
      "execution_count": 10,
      "outputs": [
        {
          "output_type": "execute_result",
          "data": {
            "text/plain": [
              "      기업여부   만족도      추천점수  인원\n",
              "0       개인  2.40  4.000000   5\n",
              "1     넥스트랩  2.50  1.500000   2\n",
              "2      누비랩  4.50  4.500000   2\n",
              "3    분석&추천  5.00  5.714286   7\n",
              "4       와플  2.75  3.750000   4\n",
              "5     파이토치  5.00  7.000000   1\n",
              "6  후케어스코리아  5.25  5.000000   4"
            ],
            "text/html": [
              "\n",
              "  <div id=\"df-7ead0060-774b-484f-8839-5365e8d65665\">\n",
              "    <div class=\"colab-df-container\">\n",
              "      <div>\n",
              "<style scoped>\n",
              "    .dataframe tbody tr th:only-of-type {\n",
              "        vertical-align: middle;\n",
              "    }\n",
              "\n",
              "    .dataframe tbody tr th {\n",
              "        vertical-align: top;\n",
              "    }\n",
              "\n",
              "    .dataframe thead th {\n",
              "        text-align: right;\n",
              "    }\n",
              "</style>\n",
              "<table border=\"1\" class=\"dataframe\">\n",
              "  <thead>\n",
              "    <tr style=\"text-align: right;\">\n",
              "      <th></th>\n",
              "      <th>기업여부</th>\n",
              "      <th>만족도</th>\n",
              "      <th>추천점수</th>\n",
              "      <th>인원</th>\n",
              "    </tr>\n",
              "  </thead>\n",
              "  <tbody>\n",
              "    <tr>\n",
              "      <th>0</th>\n",
              "      <td>개인</td>\n",
              "      <td>2.40</td>\n",
              "      <td>4.000000</td>\n",
              "      <td>5</td>\n",
              "    </tr>\n",
              "    <tr>\n",
              "      <th>1</th>\n",
              "      <td>넥스트랩</td>\n",
              "      <td>2.50</td>\n",
              "      <td>1.500000</td>\n",
              "      <td>2</td>\n",
              "    </tr>\n",
              "    <tr>\n",
              "      <th>2</th>\n",
              "      <td>누비랩</td>\n",
              "      <td>4.50</td>\n",
              "      <td>4.500000</td>\n",
              "      <td>2</td>\n",
              "    </tr>\n",
              "    <tr>\n",
              "      <th>3</th>\n",
              "      <td>분석&amp;추천</td>\n",
              "      <td>5.00</td>\n",
              "      <td>5.714286</td>\n",
              "      <td>7</td>\n",
              "    </tr>\n",
              "    <tr>\n",
              "      <th>4</th>\n",
              "      <td>와플</td>\n",
              "      <td>2.75</td>\n",
              "      <td>3.750000</td>\n",
              "      <td>4</td>\n",
              "    </tr>\n",
              "    <tr>\n",
              "      <th>5</th>\n",
              "      <td>파이토치</td>\n",
              "      <td>5.00</td>\n",
              "      <td>7.000000</td>\n",
              "      <td>1</td>\n",
              "    </tr>\n",
              "    <tr>\n",
              "      <th>6</th>\n",
              "      <td>후케어스코리아</td>\n",
              "      <td>5.25</td>\n",
              "      <td>5.000000</td>\n",
              "      <td>4</td>\n",
              "    </tr>\n",
              "  </tbody>\n",
              "</table>\n",
              "</div>\n",
              "      <button class=\"colab-df-convert\" onclick=\"convertToInteractive('df-7ead0060-774b-484f-8839-5365e8d65665')\"\n",
              "              title=\"Convert this dataframe to an interactive table.\"\n",
              "              style=\"display:none;\">\n",
              "        \n",
              "  <svg xmlns=\"http://www.w3.org/2000/svg\" height=\"24px\"viewBox=\"0 0 24 24\"\n",
              "       width=\"24px\">\n",
              "    <path d=\"M0 0h24v24H0V0z\" fill=\"none\"/>\n",
              "    <path d=\"M18.56 5.44l.94 2.06.94-2.06 2.06-.94-2.06-.94-.94-2.06-.94 2.06-2.06.94zm-11 1L8.5 8.5l.94-2.06 2.06-.94-2.06-.94L8.5 2.5l-.94 2.06-2.06.94zm10 10l.94 2.06.94-2.06 2.06-.94-2.06-.94-.94-2.06-.94 2.06-2.06.94z\"/><path d=\"M17.41 7.96l-1.37-1.37c-.4-.4-.92-.59-1.43-.59-.52 0-1.04.2-1.43.59L10.3 9.45l-7.72 7.72c-.78.78-.78 2.05 0 2.83L4 21.41c.39.39.9.59 1.41.59.51 0 1.02-.2 1.41-.59l7.78-7.78 2.81-2.81c.8-.78.8-2.07 0-2.86zM5.41 20L4 18.59l7.72-7.72 1.47 1.35L5.41 20z\"/>\n",
              "  </svg>\n",
              "      </button>\n",
              "      \n",
              "  <style>\n",
              "    .colab-df-container {\n",
              "      display:flex;\n",
              "      flex-wrap:wrap;\n",
              "      gap: 12px;\n",
              "    }\n",
              "\n",
              "    .colab-df-convert {\n",
              "      background-color: #E8F0FE;\n",
              "      border: none;\n",
              "      border-radius: 50%;\n",
              "      cursor: pointer;\n",
              "      display: none;\n",
              "      fill: #1967D2;\n",
              "      height: 32px;\n",
              "      padding: 0 0 0 0;\n",
              "      width: 32px;\n",
              "    }\n",
              "\n",
              "    .colab-df-convert:hover {\n",
              "      background-color: #E2EBFA;\n",
              "      box-shadow: 0px 1px 2px rgba(60, 64, 67, 0.3), 0px 1px 3px 1px rgba(60, 64, 67, 0.15);\n",
              "      fill: #174EA6;\n",
              "    }\n",
              "\n",
              "    [theme=dark] .colab-df-convert {\n",
              "      background-color: #3B4455;\n",
              "      fill: #D2E3FC;\n",
              "    }\n",
              "\n",
              "    [theme=dark] .colab-df-convert:hover {\n",
              "      background-color: #434B5C;\n",
              "      box-shadow: 0px 1px 3px 1px rgba(0, 0, 0, 0.15);\n",
              "      filter: drop-shadow(0px 1px 2px rgba(0, 0, 0, 0.3));\n",
              "      fill: #FFFFFF;\n",
              "    }\n",
              "  </style>\n",
              "\n",
              "      <script>\n",
              "        const buttonEl =\n",
              "          document.querySelector('#df-7ead0060-774b-484f-8839-5365e8d65665 button.colab-df-convert');\n",
              "        buttonEl.style.display =\n",
              "          google.colab.kernel.accessAllowed ? 'block' : 'none';\n",
              "\n",
              "        async function convertToInteractive(key) {\n",
              "          const element = document.querySelector('#df-7ead0060-774b-484f-8839-5365e8d65665');\n",
              "          const dataTable =\n",
              "            await google.colab.kernel.invokeFunction('convertToInteractive',\n",
              "                                                     [key], {});\n",
              "          if (!dataTable) return;\n",
              "\n",
              "          const docLinkHtml = 'Like what you see? Visit the ' +\n",
              "            '<a target=\"_blank\" href=https://colab.research.google.com/notebooks/data_table.ipynb>data table notebook</a>'\n",
              "            + ' to learn more about interactive tables.';\n",
              "          element.innerHTML = '';\n",
              "          dataTable['output_type'] = 'display_data';\n",
              "          await google.colab.output.renderOutput(dataTable, element);\n",
              "          const docLink = document.createElement('div');\n",
              "          docLink.innerHTML = docLinkHtml;\n",
              "          element.appendChild(docLink);\n",
              "        }\n",
              "      </script>\n",
              "    </div>\n",
              "  </div>\n",
              "  "
            ]
          },
          "metadata": {},
          "execution_count": 10
        }
      ]
    },
    {
      "cell_type": "code",
      "source": [
        "# 멀티 플랏을 위한 멜팅작업\n",
        "df_melt = df_rec[['기업여부','만족도','추천점수']].melt(id_vars = '기업여부', var_name = '항목', value_name = '점수' )"
      ],
      "metadata": {
        "id": "PzF076H_sgfX"
      },
      "execution_count": 11,
      "outputs": []
    },
    {
      "cell_type": "code",
      "source": [
        "import seaborn as sns"
      ],
      "metadata": {
        "id": "u7gU9dHNUzpt"
      },
      "execution_count": 12,
      "outputs": []
    },
    {
      "cell_type": "code",
      "source": [
        "# 추천점수 높은 순으로 나열\n",
        "fig, ax = plt.subplots(2,1)\n",
        "ax1 = sns.barplot(x = '기업여부', y = '점수', hue = '항목', data = df_melt, \n",
        "            order = df_rec.sort_values(ascending = False, by = '추천점수')['기업여부'].values, ax = ax[0])\n",
        "for p in ax1.patches:\n",
        "  ax1.annotate('{:.2f}점'.format(p.get_height(), p.get_height()/ttl*100), (p.get_x()+0.025, p.get_height()+0.01), size=12)\n",
        "plt.title('CP2 진행 기업 별 만족도 및 추천점수')\n",
        "\n",
        "ax2 = sns.barplot(df_rec.sort_values(ascending = False, by = '추천점수')['기업여부'].values, df_rec.sort_values(ascending = False, by = '추천점수')['인원'].values, ax = ax[1]) \n",
        "for p in ax2.patches:\n",
        "  ax2.annotate('{:.0f}명'.format(p.get_height(), p.get_height()/ttl*100), (p.get_x()+0.025, p.get_height()+0.01), size=12)\n",
        "\n",
        "plt.title('CP2 진행 기업 별 인원')\n",
        "plt.rcParams['figure.figsize'] = (15,15);\n",
        "plt.show();"
      ],
      "metadata": {
        "colab": {
          "base_uri": "https://localhost:8080/",
          "height": 867
        },
        "outputId": "f5beb3b9-c234-42c9-da59-b723afebfaed",
        "id": "LFLT2vSKsgfX"
      },
      "execution_count": 298,
      "outputs": [
        {
          "output_type": "display_data",
          "data": {
            "text/plain": [
              "<Figure size 1080x1080 with 2 Axes>"
            ],
            "image/png": "[encoded data removed]"
          },
          "metadata": {}
        }
      ]
    },
    {
      "cell_type": "code",
      "source": [
        "ax = sns.countplot(df910['CP2 어려운점'], order = df910['CP2 어려운점'].value_counts().index)\n",
        "ttl = len\n",
        "for p in ax.patches:\n",
        "  ax.annotate('{:.0f}명({:.2f}%)'.format(p.get_height(), p.get_height()/ttl*100), (p.get_x()+0.025, p.get_height()+0.01), size=12)\n",
        "plt.title('전체 CP2 진행 관련 어려운점')\n",
        "plt.rcParams['figure.figsize'] = (10,5)\n",
        "plt.show();"
      ],
      "metadata": {
        "colab": {
          "base_uri": "https://localhost:8080/",
          "height": 353
        },
        "outputId": "45702876-6398-4cb5-ba70-bbd9dad65407",
        "id": "dLh3-Dy-sgfX"
      },
      "execution_count": 269,
      "outputs": [
        {
          "output_type": "display_data",
          "data": {
            "text/plain": [
              "<Figure size 720x360 with 1 Axes>"
            ],
            "image/png": "[encoded data removed]"
          },
          "metadata": {}
        }
      ]
    },
    {
      "cell_type": "code",
      "source": [
        "df910.columns"
      ],
      "metadata": {
        "colab": {
          "base_uri": "https://localhost:8080/"
        },
        "id": "WdhKd08XJoGJ",
        "outputId": "5399143c-174c-4435-ff90-5f8d332fe7f3"
      },
      "execution_count": 311,
      "outputs": [
        {
          "output_type": "execute_result",
          "data": {
            "text/plain": [
              "Index(['개인 정보 수집 동의 ', '휴대폰 번호', '기수', '연령', '성별', '최종학력', '전공',\n",
              "       '타사 프로그램 수강여부 ', '타사 프로그램 만족도 ', '소요시간', '자기주도학습 점수', '근무 희망 분야 ',\n",
              "       '주제 선정 방법', 'CP2 기업 프로젝트 선정 이유', 'CP2 자기 주도  프로젝트 선정 이유',\n",
              "       'CP2에서 가장 어려운 점(기업)', 'CP2에서 가장 어려운 점(자기 주도 프로젝트)', 'CP2 기업 프로젝트 추천점수',\n",
              "       'CP2 자기 주도 프로젝트 추천점수', 'CP2 주제', 'CP2 주제 선정 이유',\n",
              "       'CP2 주제와 연관 있는 Section', 'CP2 완성도에 대한 만족도', 'CP1~CP2 심리적 안전감 변화 ',\n",
              "       'CP1~CP2 심리적 안전감 변화 이유', '심리적 불안전 요인', '심리적 불안전 해소에 도움되는 것 ', '기타의견',\n",
              "       'Submitted At', 'Token', 'Unnamed: 30', 'Unnamed: 31', 'Unnamed: 32',\n",
              "       'Unnamed: 33', '기업여부', '코드여부', '추천점수', 'CP2 어려운점'],\n",
              "      dtype='object')"
            ]
          },
          "metadata": {},
          "execution_count": 311
        }
      ]
    },
    {
      "cell_type": "code",
      "source": [
        "import numpy as np\n",
        "rec_scores = []\n",
        "sat_scores = []\n",
        "for i in df910['CP2 어려운점'].value_counts().index:\n",
        "  rec_scores.append(round(np.mean(df910[df910['CP2 어려운점']==i]['추천점수']),2))\n",
        "  sat_scores.append(round(np.mean(df910[df910['CP2 어려운점']==i]['CP2 완성도에 대한 만족도']),2))"
      ],
      "metadata": {
        "id": "ZcWCv5o_IXMt"
      },
      "execution_count": 15,
      "outputs": []
    },
    {
      "cell_type": "code",
      "source": [
        "df910['CP2 어려운점'].value_counts().index[i]"
      ],
      "metadata": {
        "colab": {
          "base_uri": "https://localhost:8080/",
          "height": 35
        },
        "id": "v-n1jiqEUGuk",
        "outputId": "9393d7e6-ed57-44a4-eb49-10f8d0d9b923"
      },
      "execution_count": 25,
      "outputs": [
        {
          "output_type": "execute_result",
          "data": {
            "text/plain": [
              "'기업과의 커뮤니케이션'"
            ],
            "application/vnd.google.colaboratory.intrinsic+json": {
              "type": "string"
            }
          },
          "metadata": {},
          "execution_count": 25
        }
      ]
    },
    {
      "cell_type": "code",
      "source": [
        "ax1 = sns.lineplot(df910['CP2 어려운점'].value_counts().index, rec_scores)\n",
        "ax2 = sns.lineplot(df910['CP2 어려운점'].value_counts().index, sat_scores)\n",
        "\n",
        "plt.rcParams['figure.figsize'] = (8,5)\n",
        "plt.legend(['추천 점수','완성도의 만족도 점수'])\n",
        "plt.title('CP2에서의 어려움 유형 별 만족도 및 추천도')\n",
        "plt.show()"
      ],
      "metadata": {
        "colab": {
          "base_uri": "https://localhost:8080/",
          "height": 334
        },
        "id": "MlCN04CTJaNA",
        "outputId": "3eb16c51-ae44-4ddc-92c8-e0eb8be59030"
      },
      "execution_count": 26,
      "outputs": [
        {
          "output_type": "display_data",
          "data": {
            "text/plain": [
              "<Figure size 576x360 with 1 Axes>"
            ],
            "image/png": "[encoded data removed]"
          },
          "metadata": {
            "needs_background": "light"
          }
        }
      ]
    },
    {
      "cell_type": "markdown",
      "source": [
        "유형 별로 보았을 때,   \n",
        "**'프로젝트에 대한 부담'**과 **'기업의 참여도'**가 추천 점수 및 만족도 점수가 매우 낮음을 확인"
      ],
      "metadata": {
        "id": "h10foQCWM3o2"
      }
    },
    {
      "cell_type": "code",
      "source": [
        "# 프로젝트에 대한 부담 유형의 기업여부 및 추천점수, 만족도점수 파악\n",
        "df910[df910['CP2 어려운점']=='프로젝트에 대한 부담'][['기업여부','추천점수', 'CP2 완성도에 대한 만족도','기타의견']]"
      ],
      "metadata": {
        "colab": {
          "base_uri": "https://localhost:8080/",
          "height": 243
        },
        "id": "tEp9sELvLPwQ",
        "outputId": "0927010c-ff30-4578-e41f-82e8bf4ec5d2"
      },
      "execution_count": 334,
      "outputs": [
        {
          "output_type": "execute_result",
          "data": {
            "text/plain": [
              "     기업여부  추천점수  CP2 완성도에 대한 만족도  \\\n",
              "40     개인     4                2   \n",
              "53     개인     1                1   \n",
              "57   넥스트랩     2                2   \n",
              "58  분석&추천     6                4   \n",
              "\n",
              "                                                 기타의견  \n",
              "40  개개인의 역량에 따른 프로젝트 난이도에 대한 계획 설정을 스스로 조율하기 어렵다는 ...  \n",
              "53                                                없음.  \n",
              "57                                                NaN  \n",
              "58          발표에 대한 자세한 안내 사항을 자세히 안내해주시면 더 좋을 것 같습니다.  "
            ],
            "text/html": [
              "\n",
              "  <div id=\"df-ed91f0a9-38dc-4d4a-86b1-98e5a27f7dac\">\n",
              "    <div class=\"colab-df-container\">\n",
              "      <div>\n",
              "<style scoped>\n",
              "    .dataframe tbody tr th:only-of-type {\n",
              "        vertical-align: middle;\n",
              "    }\n",
              "\n",
              "    .dataframe tbody tr th {\n",
              "        vertical-align: top;\n",
              "    }\n",
              "\n",
              "    .dataframe thead th {\n",
              "        text-align: right;\n",
              "    }\n",
              "</style>\n",
              "<table border=\"1\" class=\"dataframe\">\n",
              "  <thead>\n",
              "    <tr style=\"text-align: right;\">\n",
              "      <th></th>\n",
              "      <th>기업여부</th>\n",
              "      <th>추천점수</th>\n",
              "      <th>CP2 완성도에 대한 만족도</th>\n",
              "      <th>기타의견</th>\n",
              "    </tr>\n",
              "  </thead>\n",
              "  <tbody>\n",
              "    <tr>\n",
              "      <th>40</th>\n",
              "      <td>개인</td>\n",
              "      <td>4</td>\n",
              "      <td>2</td>\n",
              "      <td>개개인의 역량에 따른 프로젝트 난이도에 대한 계획 설정을 스스로 조율하기 어렵다는 ...</td>\n",
              "    </tr>\n",
              "    <tr>\n",
              "      <th>53</th>\n",
              "      <td>개인</td>\n",
              "      <td>1</td>\n",
              "      <td>1</td>\n",
              "      <td>없음.</td>\n",
              "    </tr>\n",
              "    <tr>\n",
              "      <th>57</th>\n",
              "      <td>넥스트랩</td>\n",
              "      <td>2</td>\n",
              "      <td>2</td>\n",
              "      <td>NaN</td>\n",
              "    </tr>\n",
              "    <tr>\n",
              "      <th>58</th>\n",
              "      <td>분석&amp;추천</td>\n",
              "      <td>6</td>\n",
              "      <td>4</td>\n",
              "      <td>발표에 대한 자세한 안내 사항을 자세히 안내해주시면 더 좋을 것 같습니다.</td>\n",
              "    </tr>\n",
              "  </tbody>\n",
              "</table>\n",
              "</div>\n",
              "      <button class=\"colab-df-convert\" onclick=\"convertToInteractive('df-ed91f0a9-38dc-4d4a-86b1-98e5a27f7dac')\"\n",
              "              title=\"Convert this dataframe to an interactive table.\"\n",
              "              style=\"display:none;\">\n",
              "        \n",
              "  <svg xmlns=\"http://www.w3.org/2000/svg\" height=\"24px\"viewBox=\"0 0 24 24\"\n",
              "       width=\"24px\">\n",
              "    <path d=\"M0 0h24v24H0V0z\" fill=\"none\"/>\n",
              "    <path d=\"M18.56 5.44l.94 2.06.94-2.06 2.06-.94-2.06-.94-.94-2.06-.94 2.06-2.06.94zm-11 1L8.5 8.5l.94-2.06 2.06-.94-2.06-.94L8.5 2.5l-.94 2.06-2.06.94zm10 10l.94 2.06.94-2.06 2.06-.94-2.06-.94-.94-2.06-.94 2.06-2.06.94z\"/><path d=\"M17.41 7.96l-1.37-1.37c-.4-.4-.92-.59-1.43-.59-.52 0-1.04.2-1.43.59L10.3 9.45l-7.72 7.72c-.78.78-.78 2.05 0 2.83L4 21.41c.39.39.9.59 1.41.59.51 0 1.02-.2 1.41-.59l7.78-7.78 2.81-2.81c.8-.78.8-2.07 0-2.86zM5.41 20L4 18.59l7.72-7.72 1.47 1.35L5.41 20z\"/>\n",
              "  </svg>\n",
              "      </button>\n",
              "      \n",
              "  <style>\n",
              "    .colab-df-container {\n",
              "      display:flex;\n",
              "      flex-wrap:wrap;\n",
              "      gap: 12px;\n",
              "    }\n",
              "\n",
              "    .colab-df-convert {\n",
              "      background-color: #E8F0FE;\n",
              "      border: none;\n",
              "      border-radius: 50%;\n",
              "      cursor: pointer;\n",
              "      display: none;\n",
              "      fill: #1967D2;\n",
              "      height: 32px;\n",
              "      padding: 0 0 0 0;\n",
              "      width: 32px;\n",
              "    }\n",
              "\n",
              "    .colab-df-convert:hover {\n",
              "      background-color: #E2EBFA;\n",
              "      box-shadow: 0px 1px 2px rgba(60, 64, 67, 0.3), 0px 1px 3px 1px rgba(60, 64, 67, 0.15);\n",
              "      fill: #174EA6;\n",
              "    }\n",
              "\n",
              "    [theme=dark] .colab-df-convert {\n",
              "      background-color: #3B4455;\n",
              "      fill: #D2E3FC;\n",
              "    }\n",
              "\n",
              "    [theme=dark] .colab-df-convert:hover {\n",
              "      background-color: #434B5C;\n",
              "      box-shadow: 0px 1px 3px 1px rgba(0, 0, 0, 0.15);\n",
              "      filter: drop-shadow(0px 1px 2px rgba(0, 0, 0, 0.3));\n",
              "      fill: #FFFFFF;\n",
              "    }\n",
              "  </style>\n",
              "\n",
              "      <script>\n",
              "        const buttonEl =\n",
              "          document.querySelector('#df-ed91f0a9-38dc-4d4a-86b1-98e5a27f7dac button.colab-df-convert');\n",
              "        buttonEl.style.display =\n",
              "          google.colab.kernel.accessAllowed ? 'block' : 'none';\n",
              "\n",
              "        async function convertToInteractive(key) {\n",
              "          const element = document.querySelector('#df-ed91f0a9-38dc-4d4a-86b1-98e5a27f7dac');\n",
              "          const dataTable =\n",
              "            await google.colab.kernel.invokeFunction('convertToInteractive',\n",
              "                                                     [key], {});\n",
              "          if (!dataTable) return;\n",
              "\n",
              "          const docLinkHtml = 'Like what you see? Visit the ' +\n",
              "            '<a target=\"_blank\" href=https://colab.research.google.com/notebooks/data_table.ipynb>data table notebook</a>'\n",
              "            + ' to learn more about interactive tables.';\n",
              "          element.innerHTML = '';\n",
              "          dataTable['output_type'] = 'display_data';\n",
              "          await google.colab.output.renderOutput(dataTable, element);\n",
              "          const docLink = document.createElement('div');\n",
              "          docLink.innerHTML = docLinkHtml;\n",
              "          element.appendChild(docLink);\n",
              "        }\n",
              "      </script>\n",
              "    </div>\n",
              "  </div>\n",
              "  "
            ]
          },
          "metadata": {},
          "execution_count": 334
        }
      ]
    },
    {
      "cell_type": "code",
      "source": [
        "# 프로젝트에 대한 부담 유형의 기업여부 및 추천점수, 만족도점수 파악\n",
        "df910[df910['CP2 어려운점']=='기업의 참여도'][['기업여부','추천점수', 'CP2 완성도에 대한 만족도','기타의견']]"
      ],
      "metadata": {
        "colab": {
          "base_uri": "https://localhost:8080/",
          "height": 436
        },
        "id": "Gyirdh2EMf1d",
        "outputId": "73fb071e-4a99-4f8e-de54-63f7b3ed1cdf"
      },
      "execution_count": 335,
      "outputs": [
        {
          "output_type": "execute_result",
          "data": {
            "text/plain": [
              "       기업여부  추천점수  CP2 완성도에 대한 만족도  \\\n",
              "41       와플     2                2   \n",
              "49  후케어스코리아     4                4   \n",
              "52       와플     4                2   \n",
              "\n",
              "                                                 기타의견  \n",
              "41  기업 협업 프로젝트 진행 시 기업의 적극적인 참여가 필요할 것 같습니다.  이전 기...  \n",
              "49  뭐.. 만족스럽지는 않았지만 불만족스럽지도 않았다. 회사에 데이터가 많고, 사수가 ...  \n",
              "52                기업에서 수강생에 주어진 과제에 대한 관심을 더 가지면 좋겠다.  "
            ],
            "text/html": [
              "\n",
              "  <div id=\"df-645e19b2-b0e7-4317-a75c-b35e2588719e\">\n",
              "    <div class=\"colab-df-container\">\n",
              "      <div>\n",
              "<style scoped>\n",
              "    .dataframe tbody tr th:only-of-type {\n",
              "        vertical-align: middle;\n",
              "    }\n",
              "\n",
              "    .dataframe tbody tr th {\n",
              "        vertical-align: top;\n",
              "    }\n",
              "\n",
              "    .dataframe thead th {\n",
              "        text-align: right;\n",
              "    }\n",
              "</style>\n",
              "<table border=\"1\" class=\"dataframe\">\n",
              "  <thead>\n",
              "    <tr style=\"text-align: right;\">\n",
              "      <th></th>\n",
              "      <th>기업여부</th>\n",
              "      <th>추천점수</th>\n",
              "      <th>CP2 완성도에 대한 만족도</th>\n",
              "      <th>기타의견</th>\n",
              "    </tr>\n",
              "  </thead>\n",
              "  <tbody>\n",
              "    <tr>\n",
              "      <th>41</th>\n",
              "      <td>와플</td>\n",
              "      <td>2</td>\n",
              "      <td>2</td>\n",
              "      <td>기업 협업 프로젝트 진행 시 기업의 적극적인 참여가 필요할 것 같습니다.  이전 기...</td>\n",
              "    </tr>\n",
              "    <tr>\n",
              "      <th>49</th>\n",
              "      <td>후케어스코리아</td>\n",
              "      <td>4</td>\n",
              "      <td>4</td>\n",
              "      <td>뭐.. 만족스럽지는 않았지만 불만족스럽지도 않았다. 회사에 데이터가 많고, 사수가 ...</td>\n",
              "    </tr>\n",
              "    <tr>\n",
              "      <th>52</th>\n",
              "      <td>와플</td>\n",
              "      <td>4</td>\n",
              "      <td>2</td>\n",
              "      <td>기업에서 수강생에 주어진 과제에 대한 관심을 더 가지면 좋겠다.</td>\n",
              "    </tr>\n",
              "  </tbody>\n",
              "</table>\n",
              "</div>\n",
              "      <button class=\"colab-df-convert\" onclick=\"convertToInteractive('df-645e19b2-b0e7-4317-a75c-b35e2588719e')\"\n",
              "              title=\"Convert this dataframe to an interactive table.\"\n",
              "              style=\"display:none;\">\n",
              "        \n",
              "  <svg xmlns=\"http://www.w3.org/2000/svg\" height=\"24px\"viewBox=\"0 0 24 24\"\n",
              "       width=\"24px\">\n",
              "    <path d=\"M0 0h24v24H0V0z\" fill=\"none\"/>\n",
              "    <path d=\"M18.56 5.44l.94 2.06.94-2.06 2.06-.94-2.06-.94-.94-2.06-.94 2.06-2.06.94zm-11 1L8.5 8.5l.94-2.06 2.06-.94-2.06-.94L8.5 2.5l-.94 2.06-2.06.94zm10 10l.94 2.06.94-2.06 2.06-.94-2.06-.94-.94-2.06-.94 2.06-2.06.94z\"/><path d=\"M17.41 7.96l-1.37-1.37c-.4-.4-.92-.59-1.43-.59-.52 0-1.04.2-1.43.59L10.3 9.45l-7.72 7.72c-.78.78-.78 2.05 0 2.83L4 21.41c.39.39.9.59 1.41.59.51 0 1.02-.2 1.41-.59l7.78-7.78 2.81-2.81c.8-.78.8-2.07 0-2.86zM5.41 20L4 18.59l7.72-7.72 1.47 1.35L5.41 20z\"/>\n",
              "  </svg>\n",
              "      </button>\n",
              "      \n",
              "  <style>\n",
              "    .colab-df-container {\n",
              "      display:flex;\n",
              "      flex-wrap:wrap;\n",
              "      gap: 12px;\n",
              "    }\n",
              "\n",
              "    .colab-df-convert {\n",
              "      background-color: #E8F0FE;\n",
              "      border: none;\n",
              "      border-radius: 50%;\n",
              "      cursor: pointer;\n",
              "      display: none;\n",
              "      fill: #1967D2;\n",
              "      height: 32px;\n",
              "      padding: 0 0 0 0;\n",
              "      width: 32px;\n",
              "    }\n",
              "\n",
              "    .colab-df-convert:hover {\n",
              "      background-color: #E2EBFA;\n",
              "      box-shadow: 0px 1px 2px rgba(60, 64, 67, 0.3), 0px 1px 3px 1px rgba(60, 64, 67, 0.15);\n",
              "      fill: #174EA6;\n",
              "    }\n",
              "\n",
              "    [theme=dark] .colab-df-convert {\n",
              "      background-color: #3B4455;\n",
              "      fill: #D2E3FC;\n",
              "    }\n",
              "\n",
              "    [theme=dark] .colab-df-convert:hover {\n",
              "      background-color: #434B5C;\n",
              "      box-shadow: 0px 1px 3px 1px rgba(0, 0, 0, 0.15);\n",
              "      filter: drop-shadow(0px 1px 2px rgba(0, 0, 0, 0.3));\n",
              "      fill: #FFFFFF;\n",
              "    }\n",
              "  </style>\n",
              "\n",
              "      <script>\n",
              "        const buttonEl =\n",
              "          document.querySelector('#df-645e19b2-b0e7-4317-a75c-b35e2588719e button.colab-df-convert');\n",
              "        buttonEl.style.display =\n",
              "          google.colab.kernel.accessAllowed ? 'block' : 'none';\n",
              "\n",
              "        async function convertToInteractive(key) {\n",
              "          const element = document.querySelector('#df-645e19b2-b0e7-4317-a75c-b35e2588719e');\n",
              "          const dataTable =\n",
              "            await google.colab.kernel.invokeFunction('convertToInteractive',\n",
              "                                                     [key], {});\n",
              "          if (!dataTable) return;\n",
              "\n",
              "          const docLinkHtml = 'Like what you see? Visit the ' +\n",
              "            '<a target=\"_blank\" href=https://colab.research.google.com/notebooks/data_table.ipynb>data table notebook</a>'\n",
              "            + ' to learn more about interactive tables.';\n",
              "          element.innerHTML = '';\n",
              "          dataTable['output_type'] = 'display_data';\n",
              "          await google.colab.output.renderOutput(dataTable, element);\n",
              "          const docLink = document.createElement('div');\n",
              "          docLink.innerHTML = docLinkHtml;\n",
              "          element.appendChild(docLink);\n",
              "        }\n",
              "      </script>\n",
              "    </div>\n",
              "  </div>\n",
              "  "
            ]
          },
          "metadata": {},
          "execution_count": 335
        }
      ]
    },
    {
      "cell_type": "markdown",
      "source": [
        "## Text 분석"
      ],
      "metadata": {
        "id": "eDOIHMkd8Tqq"
      }
    },
    {
      "cell_type": "markdown",
      "source": [
        "### 키워드 추출 -> 데이터 부족으로인해 의미없음"
      ],
      "metadata": {
        "id": "vaiYdJt3rmgV"
      }
    },
    {
      "cell_type": "markdown",
      "source": [
        "#### 메캅 환경설정"
      ],
      "metadata": {
        "id": "Qi4_hdCIr8h6"
      }
    },
    {
      "cell_type": "code",
      "source": [
        "%%bash\n",
        "apt-get update\n",
        "apt-get install g++ openjdk-8-jdk python-dev python3-dev\n",
        "pip3 install JPype1\n",
        "pip3 install konlpy"
      ],
      "metadata": {
        "id": "7bL-MrauxDsP"
      },
      "execution_count": null,
      "outputs": []
    },
    {
      "cell_type": "code",
      "source": [
        "%env JAVA_HOME \"/usr/lib/jvm/java-8-openjdk-amd64\""
      ],
      "metadata": {
        "id": "JAbmbUixxcbc",
        "colab": {
          "base_uri": "https://localhost:8080/"
        },
        "outputId": "2e7385d5-919d-41af-8f26-7b2e852ec1d4"
      },
      "execution_count": 59,
      "outputs": [
        {
          "output_type": "stream",
          "name": "stdout",
          "text": [
            "env: JAVA_HOME=\"/usr/lib/jvm/java-8-openjdk-amd64\"\n"
          ]
        }
      ]
    },
    {
      "cell_type": "code",
      "source": [
        "%%bash\n",
        "bash <(curl -s https://raw.githubusercontent.com/konlpy/konlpy/master/scripts/mecab.sh)\n",
        "pip3 install /tmp/mecab-python-0.996"
      ],
      "metadata": {
        "id": "Sy49xGRvxcUT"
      },
      "execution_count": null,
      "outputs": []
    },
    {
      "cell_type": "markdown",
      "source": [
        "#### 명사 추출"
      ],
      "metadata": {
        "id": "FjKSLl_XsA1Y"
      }
    },
    {
      "cell_type": "code",
      "source": [
        "from konlpy.tag import Mecab\n",
        "mecab = Mecab()"
      ],
      "metadata": {
        "id": "BVR0JA3S8WIk"
      },
      "execution_count": 61,
      "outputs": []
    },
    {
      "cell_type": "code",
      "source": [
        "stopword = ['프로젝트','CP2']"
      ],
      "metadata": {
        "id": "p8NLjKpV9jnF"
      },
      "execution_count": 64,
      "outputs": []
    },
    {
      "cell_type": "code",
      "source": [
        "df2['기타의견'] = df2['기타의견'].fillna('없음')"
      ],
      "metadata": {
        "id": "_TC2DImB-O1p"
      },
      "execution_count": 104,
      "outputs": []
    },
    {
      "cell_type": "code",
      "source": [
        "import re\n",
        "from collections import Counter\n",
        "\n",
        "def token_counter(df, text_pos, num, stopword):\n",
        "  sentence_tag = []\n",
        "  for text in df['기타의견']:\n",
        "    # 특수문자제거\n",
        "    con = re.compile(r'[^ A-Za-z0-9가-힣+]')\n",
        "    cleaned = con.sub('', text).lower()\n",
        "    morphs = mecab.pos(cleaned)\n",
        "    sentence_tag.append(morphs)\n",
        "  container = 0\n",
        "  result = []\n",
        "  for sentence in sentence_tag:\n",
        "    for word, tag in sentence:\n",
        "      if (tag == text_pos)and (len(word) > 1) and (word not in stopword):\n",
        "        result.append(word)\n",
        "  counts = Counter(result)\n",
        "  top_keyword = counts.most_common(num) \n",
        "  return top_keyword\n"
      ],
      "metadata": {
        "id": "h7Oh7Gw-99vz"
      },
      "execution_count": 66,
      "outputs": []
    },
    {
      "cell_type": "code",
      "source": [
        "token_counter(df2, 'NNG', 100, stopword)"
      ],
      "metadata": {
        "id": "52e-HhYj9-Lo"
      },
      "execution_count": null,
      "outputs": []
    },
    {
      "cell_type": "markdown",
      "source": [
        "### 9,10기 Text(기타의견) 추출"
      ],
      "metadata": {
        "id": "VT4wHbupkf2A"
      }
    },
    {
      "cell_type": "code",
      "source": [
        "for i in df910['기타의견']:\n",
        "  print('>>>', i, '\\n')"
      ],
      "metadata": {
        "colab": {
          "base_uri": "https://localhost:8080/"
        },
        "id": "mgNb3XDvwkd1",
        "outputId": "9f73e7c5-a33e-4ffe-eec8-7bcba5838a0d"
      },
      "execution_count": 220,
      "outputs": [
        {
          "output_type": "stream",
          "name": "stdout",
          "text": [
            ">>> . \n",
            "\n",
            ">>> 없습니다 \n",
            "\n",
            ">>> 협업 환경이 갑작스럽게 주어지다보니 진행 방향성을 잡는데 시간이 오래 걸렸습니다. 한달이라는 시간이 짧게 느껴질정도로 몰입하였고, 프로젝트 진입전에 협업 환경을 구축하는 팁이 전수되면 좋을 것 같습니다. \n",
            "\n",
            ">>> 여러 주제에 대한 관심과 커리큘럼, 그리고 관리 필요 \n",
            "\n",
            ">>> 없습니다. \n",
            "\n",
            ">>> 개개인의 역량에 따른 프로젝트 난이도에 대한 계획 설정을 스스로 조율하기 어렵다는 점이 있는 것 같습니다. 그래 메타인지를 하지 못하는 상황이 오는 것 같습니다. 시간이 지나면서 깨우치긴 하겠지만 이것도 개인의 역량인 것 같습니다. 개선점에 대해선 잘 모르겠습니다. \n",
            "\n",
            ">>> 기업 협업 프로젝트 진행 시 기업의 적극적인 참여가 필요할 것 같습니다.  이전 기업 만족도 조사에도 썼지만 데이터를 1주차가 넘어가는 주말에 받고  2주차부터 질문사항을 남겼는데 2주 어느 시점이 지난 후 부터는 피드백도 없으시고  어떠한 액션이 없으셨습니다. 정제되지 않은 데이터를 넣어봤자 모델에서 제대로 성능이 나올리 만무하고 그렇기에 저희 프로젝트에서 데이터 전처리 단계가 가장 중요하다고 팀원과 의논을 마친 뒤였고 저와 제 팀원 모두 도메인 지식이 없었던 만큼 피드백이 절실했었습니다. 피드백이 없는 상태에서 시간이 갈수록 포기해야하나 싶었지만 피드백을 주시지 않으셔도 팀 내부의 방향대로 가진 데이터로 어떤 결말이든 마무리라도 짓자라는 생각으로 해당 데이터나 라이브러리 등 힌트가 될 만한 것에 대한 조사를 정말 많이하면서 진행하였으나 전공자가 아니기에 당장에 학습하는 것에 한계가 있고 그외에도 기업 데이터 특유의 문제 (특정 코드에서 연산이 이루어지는데 어떤 처리를 위한 연산인지 검색을 해도 나오지 않는 문제일 때)가 문제시 될 때는 정말 막막했습니다. 지금이야 어떻게든 시간이 지나 끝이 났지만 다시 생각하면 팀 프로젝트가 아니었다면 차라리 중간에 그만두고 자기주도 프로젝트를 하는게 낫겠다는 생각이 들만큼 심정적으로 괴로웠던 것 같습니다. 기업 피드백이 아예 없어지기 전까지 저와 제 팀원 모두 프로젝트 동시 진행을 위해 공식시간인 오전 9시부터  오후 11시,12시까지 누구 하나 빠지지않고 매일매일 성실히 임하였고 프로젝트 기간 내 주말도 프로젝트 진행을 위해 3주까지는 밤낮없이 진행하였습니다. 그렇게 열심히 하였기에 중간에 기업 피드백이 없는 시점부터 더 부정적인 생각이 들었던 것같습니다. 취업 전 인턴십처럼 기업을 체험해볼 수 있는 좋은 기회라는 생각에 선택한 기업 협업 프로젝트였지만 그것이 수강생들에게 좋은 기회가 될 지, 악영향이 될 지는 기업의 태도에 따라서도 너무 크게 좌지우지 되는 것 같습니다. 이 모든 선택이 저의 몫이기 때문에 제 팀원의 말을 인용하여 실패한 프로젝트도 저의 프로젝트로 받아들이고 앞으로 더 많은 프로젝트를 진행하여 포트폴리오를 쌓아나갈 것 이지만, 이후에 같은 일이 반복되어 이후 기수의 수강생들이 불편을 겪는 일이 없었으면 좋겠습니다. \n",
            "\n",
            ">>> 팀원을 고르는 데 있어 사전에 희망 팀원 조사를 거치면 좋겠습니다. 지금 팀원에 만족하지만, 가나다순으로 그냥 잘라서 조를 편성한 것 같아서 이 점을 개선했으면 좋겠습니다. 그리고 성과발표회 시간을 좀 더 주셔서 뒷순서에 발표하는 조에게도 충분한 피드백이 돌아갔으면 좋겠습니다. 시간 관리가 잘 되지 않아 마지막조는 부랴부랴 끝내는 느낌이 강했습니다. \n",
            "\n",
            ">>> 기업 지원시 기업이 희망하는 인원을 미리 알려주면 더 좋았을것 같습니다. \n",
            "\n",
            ">>> nan \n",
            "\n",
            ">>> 추천모델링을 학습하고 적용하기에 조금 짧은 시간이였습니다. 데이터 분석의 비중을 조금 낮추는게 좋을것 같습니다. \n",
            "\n",
            ">>> 기업 협업이 생각보다 저를 성장하는데 많은 도움이 되지 않은 것 같습니다. 정확한 주제및 데이터를 선정하고 무엇을 원하는지  알고 협업 하면 더 좋은 결과를 만들었을 것으로 생각합니다. \n",
            "\n",
            ">>> nan \n",
            "\n",
            ">>> 협력 기업 선택전 안내 내용과 실제 작업 내용에 차이가 있는 부분은 서로 오해의 소지가 있고, 해당 사항을 확인하는데 시간 소요가 많았습니다. 주제 선정은 명료하게 되어 주어진 기간동안 프로젝트에 전념하면 좋을 것 같습니다. \n",
            "\n",
            ">>> 뭐.. 만족스럽지는 않았지만 불만족스럽지도 않았다. 회사에 데이터가 많고, 사수가 있다면 여러가지 모방하며 배울 수 있었겠지만 그러지 않았고, 그러지 않아서 내 맘대로 해보고 싶은 것 해볼 수 있어서 또 나쁘지 않았다. \n",
            "\n",
            ">>> 기업과의 커뮤니케이션이 좀 더 원활하게 이루어졌으면 좋겠습니다. \n",
            "\n",
            ">>> 이 부분은 코드스테이츠가 아닌 기업측에서 미리 신경써주셨어야 할 일이긴 하지만 저희가 기업을 선택할 때 공지되었던 내용과 전혀 다른 내용의 서비스를 진행하게 되는 경우는 앞으로는 일어나지 않았으면 합니다. 코드스테이츠측에서도 서비스 내용이 바뀐 것에 대해 전혀 모르고 계셨던 부분이 충격이었습니다... (기업이 코드스테이츠에게도 서비스가 변경된 내용을 알리지 않은 점이 충격이었다는 뜻입니다!) \n",
            "\n",
            ">>> 기업에서 수강생에 주어진 과제에 대한 관심을 더 가지면 좋겠다. \n",
            "\n",
            ">>> 없음. \n",
            "\n",
            ">>> 프로젝트를 시작할 때 기업 측에서 간단하게 설명해주셔서 프로젝트가 진행되면서도 프로젝트의 주제와 목적을 정확히 파악하기 어려웠습니다. \n",
            "\n",
            ">>> \"CP2에서 가장 어려운 점\" 질문에서 \"기업과의 커뮤니케이션\"을 뽑은 이유를 작성하겠습니다.  한달이란 기간은 다른프로젝트보다 상대적으로 많았지만, 도메인지식 학습 및 하드스킬습득,  스토리텔링에 필요한 소프트스킬을 장착하기엔 그렇게 넉넉하지도 않은 시간이라 생각했습니다.   그렇게 넉넉하지 않은 시간 내에서 헬프데스크와 이슈셰어링을 보내드리면 다음날 답변이 오는 형식이었기에 당장 급한 저로썬 이기적인 생각에 심리적으로 거부감이 있었고, 6개월 과정 내에서 아직도 적응하지 못한 의사소통 방법이라 생각합니다. 전적으로 제가 편견을 가지고, 적절히 활용하지 못한면이 가장 큰 이유이겠으나, 다른 동기분들도 아직 이질감을 느끼시는 분들이 계신것으로 알아 공유드리게 되었습니다.  필드에 나가서 이러한 의사소통 방식을 익히라는 의도는 알았으나 역시 즉답형에 비해서 명쾌하진 않다보니 괜히 꺼려진 느낌입니다.  추가로 의사소통면에서 답답했던 점은, gather town을 통해 답답한 면을 해소하러 갔으나,  코드스테이츠 컨셉상 역시나 명확한 답변을 듣기는 어려웠다는 점 입니다. 제 질의방법이나 스킬이 부족했다는 증빙이기도 하지만, 주도적 프로젝트 완성보단 포트폴리오 완성에 욕심이 났던 저에겐 \"좀 더 힌트를 주셨어도 쓰기위해 노력해야 해서 날로먹는건 아닐텐데...끝까지 매몰차시군\" 이라는 생각이 들기도 했습니다. (물론 CP2만이 코치님들께 과업이 아닐것이고 24시간 대기하실수가 없기에 당연히 어려운것을 알기에 일종의 투정(?) 이라 생각합니다.  위와같이 디테일한 측면에선 제가 원하는 답변이 나오지 않아 아쉬웠지만(일종의 투정임을 인정합니다.) 그래도, 전체적인 방향성에 대해선 안내를 받을 수 있었던 협업이었기에, 부분적으로 만족하고 있습니다. (부분적 만족의 이유는 미천한 제 실력에 비해 과분한 프로젝트가 나온 것 같아 개인적으론 만족중이지만, 이 만족이 어떤 부분을 어떻게 어떤 툴을 통해 업그레이드 하면 효과적일지 \"몰라서\" 오는 찝찝한 만족(뭘 더 해야 좋아질까?)인 것 같아 두려워서 입니다.)  이렇게 적으면서 확실히 코드스테이츠에서 보셨을때 투정어린 요소들이 많단것이 느껴집니다. 시인을 하면서 이슈셰어링이나 헬프데스크 활용 시도도 안해 놓고 사측으로 핑계를 대는 것 같다는게 더 와닿긴 했는데, 직접 필드 나가서 겪어보는게 \"코드스테이츠가 천국이었구나\" 를 알아 내는 가장 빠른 길일 것 같습니다. 적으며 자기주도적 의지가 많이 부족한 나 자신을 다시 깨닫게 되었습니다.  남준코치님 방향성 설정 안내해주셔서 정말 감사하고, 간접적으로 말씀해주시는것의 수위조절도 정말 힘든건데, 비록 제가 의도캐치는 하지 못했지만 노력해주셔서 감사합니다! \n",
            "\n",
            ">>> CP1 과 CP2가 하나의 큰 틀에서 진행됐으면 좋겠습니다. CP1은 약 일주일, CP2 는 약 한달입니다. 다른 기간에 같은 결과물을 기대할 수는 없습니다. 때문에 CP1에는 CP2를 하기전 사전 학습을 하고 CP2를 위한 토이 프로젝트 개념으로 수행하고 난 뒤 얻은 피드백을 가지고 CP2를 진행한다면 일관성이 있고 보다 완성도가 높은 결과물을 도출해 낼 수있을거라 생각합니다. \n",
            "\n",
            ">>> nan \n",
            "\n",
            ">>> 발표에 대한 자세한 안내 사항을 자세히 안내해주시면 더 좋을 것 같습니다. \n",
            "\n",
            ">>> nan \n",
            "\n"
          ]
        }
      ]
    },
    {
      "cell_type": "markdown",
      "source": [
        ""
      ],
      "metadata": {
        "id": "3VCbB16_tIZ4"
      }
    },
    {
      "cell_type": "markdown",
      "source": [
        "### 기업 별 Text 추출"
      ],
      "metadata": {
        "id": "im5DUGlRtIz3"
      }
    },
    {
      "cell_type": "code",
      "source": [
        "def printing(df, 기업):\n",
        "  for i in df[df['기업여부']==기업]['기타의견']:\n",
        "    if type(i) != float and len(i)> 5:\n",
        "      print(f\">>>{i}\\n\")\n",
        "    else:\n",
        "      pass"
      ],
      "metadata": {
        "id": "459sN2lW6hNN"
      },
      "execution_count": 232,
      "outputs": []
    },
    {
      "cell_type": "code",
      "source": [
        "printing(df910, '와플')"
      ],
      "metadata": {
        "colab": {
          "base_uri": "https://localhost:8080/"
        },
        "id": "nHdLZkPHhu7x",
        "outputId": "2c290b93-c9cf-454b-b089-5375db5c2ebd"
      },
      "execution_count": 224,
      "outputs": [
        {
          "output_type": "stream",
          "name": "stdout",
          "text": [
            ">>>기업 협업 프로젝트 진행 시 기업의 적극적인 참여가 필요할 것 같습니다.  이전 기업 만족도 조사에도 썼지만 데이터를 1주차가 넘어가는 주말에 받고  2주차부터 질문사항을 남겼는데 2주 어느 시점이 지난 후 부터는 피드백도 없으시고  어떠한 액션이 없으셨습니다. 정제되지 않은 데이터를 넣어봤자 모델에서 제대로 성능이 나올리 만무하고 그렇기에 저희 프로젝트에서 데이터 전처리 단계가 가장 중요하다고 팀원과 의논을 마친 뒤였고 저와 제 팀원 모두 도메인 지식이 없었던 만큼 피드백이 절실했었습니다. 피드백이 없는 상태에서 시간이 갈수록 포기해야하나 싶었지만 피드백을 주시지 않으셔도 팀 내부의 방향대로 가진 데이터로 어떤 결말이든 마무리라도 짓자라는 생각으로 해당 데이터나 라이브러리 등 힌트가 될 만한 것에 대한 조사를 정말 많이하면서 진행하였으나 전공자가 아니기에 당장에 학습하는 것에 한계가 있고 그외에도 기업 데이터 특유의 문제 (특정 코드에서 연산이 이루어지는데 어떤 처리를 위한 연산인지 검색을 해도 나오지 않는 문제일 때)가 문제시 될 때는 정말 막막했습니다. 지금이야 어떻게든 시간이 지나 끝이 났지만 다시 생각하면 팀 프로젝트가 아니었다면 차라리 중간에 그만두고 자기주도 프로젝트를 하는게 낫겠다는 생각이 들만큼 심정적으로 괴로웠던 것 같습니다. 기업 피드백이 아예 없어지기 전까지 저와 제 팀원 모두 프로젝트 동시 진행을 위해 공식시간인 오전 9시부터  오후 11시,12시까지 누구 하나 빠지지않고 매일매일 성실히 임하였고 프로젝트 기간 내 주말도 프로젝트 진행을 위해 3주까지는 밤낮없이 진행하였습니다. 그렇게 열심히 하였기에 중간에 기업 피드백이 없는 시점부터 더 부정적인 생각이 들었던 것같습니다. 취업 전 인턴십처럼 기업을 체험해볼 수 있는 좋은 기회라는 생각에 선택한 기업 협업 프로젝트였지만 그것이 수강생들에게 좋은 기회가 될 지, 악영향이 될 지는 기업의 태도에 따라서도 너무 크게 좌지우지 되는 것 같습니다. 이 모든 선택이 저의 몫이기 때문에 제 팀원의 말을 인용하여 실패한 프로젝트도 저의 프로젝트로 받아들이고 앞으로 더 많은 프로젝트를 진행하여 포트폴리오를 쌓아나갈 것 이지만, 이후에 같은 일이 반복되어 이후 기수의 수강생들이 불편을 겪는 일이 없었으면 좋겠습니다.\n",
            "\n",
            ">>>기업과의 커뮤니케이션이 좀 더 원활하게 이루어졌으면 좋겠습니다.\n",
            "\n",
            ">>>기업에서 수강생에 주어진 과제에 대한 관심을 더 가지면 좋겠다.\n",
            "\n",
            ">>>프로젝트를 시작할 때 기업 측에서 간단하게 설명해주셔서 프로젝트가 진행되면서도 프로젝트의 주제와 목적을 정확히 파악하기 어려웠습니다.\n",
            "\n"
          ]
        }
      ]
    },
    {
      "cell_type": "code",
      "source": [
        "printing(df910, '후케어스코리아')"
      ],
      "metadata": {
        "colab": {
          "base_uri": "https://localhost:8080/"
        },
        "id": "QM1SXgry6d4S",
        "outputId": "93808b0e-9bb8-444b-f33b-8bcc8de4a4af"
      },
      "execution_count": 230,
      "outputs": [
        {
          "output_type": "stream",
          "name": "stdout",
          "text": [
            ">>>뭐.. 만족스럽지는 않았지만 불만족스럽지도 않았다. 회사에 데이터가 많고, 사수가 있다면 여러가지 모방하며 배울 수 있었겠지만 그러지 않았고, 그러지 않아서 내 맘대로 해보고 싶은 것 해볼 수 있어서 또 나쁘지 않았다.\n",
            "\n",
            ">>>이 부분은 코드스테이츠가 아닌 기업측에서 미리 신경써주셨어야 할 일이긴 하지만 저희가 기업을 선택할 때 공지되었던 내용과 전혀 다른 내용의 서비스를 진행하게 되는 경우는 앞으로는 일어나지 않았으면 합니다. 코드스테이츠측에서도 서비스 내용이 바뀐 것에 대해 전혀 모르고 계셨던 부분이 충격이었습니다... (기업이 코드스테이츠에게도 서비스가 변경된 내용을 알리지 않은 점이 충격이었다는 뜻입니다!)\n",
            "\n"
          ]
        }
      ]
    },
    {
      "cell_type": "code",
      "source": [
        "printing(df910, '누비랩')"
      ],
      "metadata": {
        "colab": {
          "base_uri": "https://localhost:8080/"
        },
        "id": "pu18TANK9oEK",
        "outputId": "c956950d-abbe-4412-a3e5-68c9ecd0f280"
      },
      "execution_count": 234,
      "outputs": [
        {
          "output_type": "stream",
          "name": "stdout",
          "text": [
            ">>>기업 지원시 기업이 희망하는 인원을 미리 알려주면 더 좋았을것 같습니다.\n",
            "\n",
            ">>>협력 기업 선택전 안내 내용과 실제 작업 내용에 차이가 있는 부분은 서로 오해의 소지가 있고, 해당 사항을 확인하는데 시간 소요가 많았습니다. 주제 선정은 명료하게 되어 주어진 기간동안 프로젝트에 전념하면 좋을 것 같습니다.\n",
            "\n"
          ]
        }
      ]
    },
    {
      "cell_type": "code",
      "source": [
        "printing(df910, '넥스트랩')"
      ],
      "metadata": {
        "colab": {
          "base_uri": "https://localhost:8080/"
        },
        "id": "Ee7WL0zH-RZG",
        "outputId": "b3263774-eb5d-470f-d00b-683d1dd73143"
      },
      "execution_count": 235,
      "outputs": [
        {
          "output_type": "stream",
          "name": "stdout",
          "text": [
            ">>>기업 협업이 생각보다 저를 성장하는데 많은 도움이 되지 않은 것 같습니다. 정확한 주제및 데이터를 선정하고 무엇을 원하는지  알고 협업 하면 더 좋은 결과를 만들었을 것으로 생각합니다.\n",
            "\n"
          ]
        }
      ]
    },
    {
      "cell_type": "code",
      "source": [
        "printing(df910, '분석&추천')"
      ],
      "metadata": {
        "colab": {
          "base_uri": "https://localhost:8080/"
        },
        "id": "0tbQWKxc_lXc",
        "outputId": "601820a1-31a0-41f0-dda1-9942ad445b59"
      },
      "execution_count": 236,
      "outputs": [
        {
          "output_type": "stream",
          "name": "stdout",
          "text": [
            ">>>협업 환경이 갑작스럽게 주어지다보니 진행 방향성을 잡는데 시간이 오래 걸렸습니다. 한달이라는 시간이 짧게 느껴질정도로 몰입하였고, 프로젝트 진입전에 협업 환경을 구축하는 팁이 전수되면 좋을 것 같습니다.\n",
            "\n",
            ">>>팀원을 고르는 데 있어 사전에 희망 팀원 조사를 거치면 좋겠습니다. 지금 팀원에 만족하지만, 가나다순으로 그냥 잘라서 조를 편성한 것 같아서 이 점을 개선했으면 좋겠습니다. 그리고 성과발표회 시간을 좀 더 주셔서 뒷순서에 발표하는 조에게도 충분한 피드백이 돌아갔으면 좋겠습니다. 시간 관리가 잘 되지 않아 마지막조는 부랴부랴 끝내는 느낌이 강했습니다.\n",
            "\n",
            ">>>추천모델링을 학습하고 적용하기에 조금 짧은 시간이였습니다. 데이터 분석의 비중을 조금 낮추는게 좋을것 같습니다.\n",
            "\n",
            ">>>\"CP2에서 가장 어려운 점\" 질문에서 \"기업과의 커뮤니케이션\"을 뽑은 이유를 작성하겠습니다.  한달이란 기간은 다른프로젝트보다 상대적으로 많았지만, 도메인지식 학습 및 하드스킬습득,  스토리텔링에 필요한 소프트스킬을 장착하기엔 그렇게 넉넉하지도 않은 시간이라 생각했습니다.   그렇게 넉넉하지 않은 시간 내에서 헬프데스크와 이슈셰어링을 보내드리면 다음날 답변이 오는 형식이었기에 당장 급한 저로썬 이기적인 생각에 심리적으로 거부감이 있었고, 6개월 과정 내에서 아직도 적응하지 못한 의사소통 방법이라 생각합니다. 전적으로 제가 편견을 가지고, 적절히 활용하지 못한면이 가장 큰 이유이겠으나, 다른 동기분들도 아직 이질감을 느끼시는 분들이 계신것으로 알아 공유드리게 되었습니다.  필드에 나가서 이러한 의사소통 방식을 익히라는 의도는 알았으나 역시 즉답형에 비해서 명쾌하진 않다보니 괜히 꺼려진 느낌입니다.  추가로 의사소통면에서 답답했던 점은, gather town을 통해 답답한 면을 해소하러 갔으나,  코드스테이츠 컨셉상 역시나 명확한 답변을 듣기는 어려웠다는 점 입니다. 제 질의방법이나 스킬이 부족했다는 증빙이기도 하지만, 주도적 프로젝트 완성보단 포트폴리오 완성에 욕심이 났던 저에겐 \"좀 더 힌트를 주셨어도 쓰기위해 노력해야 해서 날로먹는건 아닐텐데...끝까지 매몰차시군\" 이라는 생각이 들기도 했습니다. (물론 CP2만이 코치님들께 과업이 아닐것이고 24시간 대기하실수가 없기에 당연히 어려운것을 알기에 일종의 투정(?) 이라 생각합니다.  위와같이 디테일한 측면에선 제가 원하는 답변이 나오지 않아 아쉬웠지만(일종의 투정임을 인정합니다.) 그래도, 전체적인 방향성에 대해선 안내를 받을 수 있었던 협업이었기에, 부분적으로 만족하고 있습니다. (부분적 만족의 이유는 미천한 제 실력에 비해 과분한 프로젝트가 나온 것 같아 개인적으론 만족중이지만, 이 만족이 어떤 부분을 어떻게 어떤 툴을 통해 업그레이드 하면 효과적일지 \"몰라서\" 오는 찝찝한 만족(뭘 더 해야 좋아질까?)인 것 같아 두려워서 입니다.)  이렇게 적으면서 확실히 코드스테이츠에서 보셨을때 투정어린 요소들이 많단것이 느껴집니다. 시인을 하면서 이슈셰어링이나 헬프데스크 활용 시도도 안해 놓고 사측으로 핑계를 대는 것 같다는게 더 와닿긴 했는데, 직접 필드 나가서 겪어보는게 \"코드스테이츠가 천국이었구나\" 를 알아 내는 가장 빠른 길일 것 같습니다. 적으며 자기주도적 의지가 많이 부족한 나 자신을 다시 깨닫게 되었습니다.  남준코치님 방향성 설정 안내해주셔서 정말 감사하고, 간접적으로 말씀해주시는것의 수위조절도 정말 힘든건데, 비록 제가 의도캐치는 하지 못했지만 노력해주셔서 감사합니다!\n",
            "\n",
            ">>>발표에 대한 자세한 안내 사항을 자세히 안내해주시면 더 좋을 것 같습니다.\n",
            "\n"
          ]
        }
      ]
    },
    {
      "cell_type": "code",
      "source": [
        "printing(df910, '파이토치')"
      ],
      "metadata": {
        "id": "YUtTAeToApfu"
      },
      "execution_count": 237,
      "outputs": []
    },
    {
      "cell_type": "code",
      "source": [
        "printing(df910, '개인')"
      ],
      "metadata": {
        "colab": {
          "base_uri": "https://localhost:8080/"
        },
        "id": "Tr5ZnNpMArmL",
        "outputId": "86807afa-433b-4b93-f7a5-5c416ac096eb"
      },
      "execution_count": 238,
      "outputs": [
        {
          "output_type": "stream",
          "name": "stdout",
          "text": [
            ">>>여러 주제에 대한 관심과 커리큘럼, 그리고 관리 필요\n",
            "\n",
            ">>>개개인의 역량에 따른 프로젝트 난이도에 대한 계획 설정을 스스로 조율하기 어렵다는 점이 있는 것 같습니다. 그래 메타인지를 하지 못하는 상황이 오는 것 같습니다. 시간이 지나면서 깨우치긴 하겠지만 이것도 개인의 역량인 것 같습니다. 개선점에 대해선 잘 모르겠습니다.\n",
            "\n",
            ">>>CP1 과 CP2가 하나의 큰 틀에서 진행됐으면 좋겠습니다. CP1은 약 일주일, CP2 는 약 한달입니다. 다른 기간에 같은 결과물을 기대할 수는 없습니다. 때문에 CP1에는 CP2를 하기전 사전 학습을 하고 CP2를 위한 토이 프로젝트 개념으로 수행하고 난 뒤 얻은 피드백을 가지고 CP2를 진행한다면 일관성이 있고 보다 완성도가 높은 결과물을 도출해 낼 수있을거라 생각합니다.\n",
            "\n"
          ]
        }
      ]
    },
    {
      "cell_type": "markdown",
      "source": [
        "와플: 기업의 참여, 관심, 설명 등 커뮤니케이션의 부재 다수  \n",
        "\n",
        "후케어스코리아: 사전 정보의 오류에 대한 불만 제기  \n",
        "\n",
        "누비랩: 희망 인원을 미리 공지해주길 원함, 주제를 명확하게 전달하길 원함  \n",
        "\n",
        "넥스트랩: 정확한 주제 및 데이터 선정 후 무엇을 원하는지 알고 협업하길 원함.\n",
        "  * 넥스트랩의 경우 임동혁님으로 추정하며, A to Z가 정해져 있던 프로젝트  \n",
        "\n",
        "분석&추천: 협업 관련 팁 추가 / 팀원 관련 사전 조사 필요 / 난이도에 따른 힌트 및 레퍼런스 추가 / 발표 방식에 대한 안내 디테일 추가\n",
        "\n",
        "개인: 개인 플젝 대상자에 대한 관심 / 난이도 설정 도움 필요(?) / CP1과 CP2의 연계성 필요\n",
        "\n",
        "\n",
        "\n"
      ],
      "metadata": {
        "id": "d7w3sLI79Ql7"
      }
    }
  ]
}