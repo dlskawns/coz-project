{
  "nbformat": 4,
  "nbformat_minor": 0,
  "metadata": {
    "colab": {
      "name": "1. CP2_Intro.ipynb",
      "provenance": [],
      "authorship_tag": "ABX9TyOiXQyZVzX/0mECqmv97Gph",
      "include_colab_link": true
    },
    "kernelspec": {
      "name": "python3",
      "display_name": "Python 3"
    },
    "language_info": {
      "name": "python"
    }
  },
  "cells": [
    {
      "cell_type": "markdown",
      "metadata": {
        "id": "view-in-github",
        "colab_type": "text"
      },
      "source": [
        "<a href=\"https://colab.research.google.com/github/dlskawns/coz-project/blob/main/1_CP2_Intro.ipynb\" target=\"_parent\"><img src=\"https://colab.research.google.com/assets/colab-badge.svg\" alt=\"Open In Colab\"/></a>"
      ]
    },
    {
      "cell_type": "markdown",
      "source": [
        "# 이커머스 플랫폼 데이터 분석\n",
        "\n",
        "이커머스 플랫폼 데이터를 분석하기 위해 우리는 무엇을 알아야 할까요?  \n",
        "이커머스 시장에서 고객 유치를 하고, 운영을 어떻게 하는지 알아야 분석을 할 수 있습니다.  \n",
        "이러한 이커머스 시장에서 기본적으로 파악해야 할 요소들이 무엇인지 확인해본 뒤에, 이번 프로젝트에서 고객 행동 데이터를 바탕으로 분석을 진행 해볼 예정이빈다. \n",
        "\n",
        "<br>\n",
        "\n",
        "## 이커머스 데이터 분석\n",
        "\n",
        "이커머스 도메인의 지식을 학습하고, 기업 입장으로 비즈니스 관점에서의 분석을 진행해 세부 문제를 파악하여 기업에서 취해야 할 의사결정을 돕도록 분석 결과를 도출합니다.\n",
        "\n",
        "----\n",
        "문제 정의 -> 데이터 수집, 확인 -> 분석 및 실험, 가설 검증 -> 결과 시각화 및 인사이트 도출 -> 원인 규명 및 Action Item 수립\n",
        "\n",
        "---\n",
        "\n",
        "### 1. 문제의 정의\n",
        "\n",
        "이커머스에서의 ‘**비즈니스’**적인 문제를 정의합니다. 이커머스 도메인 뿐이 아닌 다양한 사기업의 비즈니스 목표는 기본적으로 **‘수익’** \n",
        "\n",
        "**수익, 이익을 높이기 위한 방법:**\n",
        "\n",
        "- 매출의 증대 → 이번 프로젝트에서의 초점\n",
        "- 제품 원가 절감\n",
        "- 판관비 절감\n",
        "\n",
        "\n",
        "👁️ 데이터를 분석해서 매출 증대에 영향을 주는(매출 증대를 저해하는) 원인이 무엇인지를 찾아봅시다.\n",
        "\n",
        "**이커머스 시장에서 매출 증대를 위해 알아 볼 것들은 무엇이 있을까요?**\n",
        "\n",
        "- 분석적으로 확인해보고, 잘 가꿔나가야 하는 요인들\n",
        "    - CVR - 전환율\n",
        "    - Sales Rate - 판매율\n",
        "    - Segmentation - 고객 세그멘테이션\n",
        "    - …\n",
        "- 마케팅 관련 실질적 Action Plan과 관련된 요인\n",
        "    - Promotion - 행사\n",
        "    - Advertisement - 광고\n",
        "    - Recommendation - 추천, 노출\n",
        "\n",
        "👁️ 세부적인 문제 설정을 위해서는 어떤 지표를 파악해야 할지, 이커머스에 어떠한 마케팅적인 액션 요인들이 있는지 학습해야겠죠?\n",
        "\n"
      ],
      "metadata": {
        "id": "QbLjp04AEGrX"
      }
    },
    {
      "cell_type": "markdown",
      "source": [
        "### 2. 데이터 수집\n",
        "기존에 제공된 데이터를 활용합니다.  \n",
        "제공받은 주체(나)는 이커머스 플랫폼의 데이터 팀으로써 데이터 셋을 수집한 것을 가정합니다.\n",
        "  * 한정된 데이터셋(결측치와 이상치가 존재하는)을 활용해 분석 역량을 발휘해봅니다.\n",
        "  * \n",
        "\n",
        "<br>\n",
        "\n",
        "\n",
        "### 3. 데이터 분석 진행. 가설 설정, 검증. 다양한 실험 모형 적용 및 확인\n",
        "\n",
        "\n",
        "\n",
        "### 4. 분석 결과 시각화 및 인사이트 도출 → 문제의 원인 파악\n",
        "\n",
        "### 5. 최종 Action Plan 수립"
      ],
      "metadata": {
        "id": "O1HRv74qaEv2"
      }
    },
    {
      "cell_type": "code",
      "execution_count": null,
      "metadata": {
        "id": "SU4RukcnED08"
      },
      "outputs": [],
      "source": [
        ""
      ]
    }
  ]
}