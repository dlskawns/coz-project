{
  "nbformat": 4,
  "nbformat_minor": 0,
  "metadata": {
    "colab": {
      "name": "CP2 기획 프로젝트.ipynb",
      "provenance": [],
      "machine_shape": "hm",
      "collapsed_sections": [],
      "authorship_tag": "ABX9TyMhAcidOPKoSGXeGr+6DDGZ",
      "include_colab_link": true
    },
    "kernelspec": {
      "name": "python3",
      "display_name": "Python 3"
    },
    "language_info": {
      "name": "python"
    },
    "accelerator": "GPU"
  },
  "cells": [
    {
      "cell_type": "markdown",
      "metadata": {
        "id": "view-in-github",
        "colab_type": "text"
      },
      "source": [
        "<a href=\"https://colab.research.google.com/github/dlskawns/coz-project/blob/main/CP2_%EA%B8%B0%ED%9A%8D_%ED%94%84%EB%A1%9C%EC%A0%9D%ED%8A%B8.ipynb\" target=\"_parent\"><img src=\"https://colab.research.google.com/assets/colab-badge.svg\" alt=\"Open In Colab\"/></a>"
      ]
    },
    {
      "cell_type": "code",
      "source": [
        ""
      ],
      "metadata": {
        "id": "dMchzUMNmkuh"
      },
      "execution_count": null,
      "outputs": []
    },
    {
      "cell_type": "code",
      "source": [
        "import warnings\n",
        "\n",
        "warnings.filterwarnings('ignore')"
      ],
      "metadata": {
        "id": "7ItIEKg1mkte"
      },
      "execution_count": 1,
      "outputs": []
    },
    {
      "cell_type": "code",
      "execution_count": 2,
      "metadata": {
        "colab": {
          "base_uri": "https://localhost:8080/"
        },
        "id": "xTigdcJRT-BI",
        "outputId": "4842e12f-3af4-47d7-f314-4da7466cd203"
      },
      "outputs": [
        {
          "output_type": "stream",
          "name": "stdout",
          "text": [
            "Mounted at /content/drive\n"
          ]
        }
      ],
      "source": [
        "from google.colab import drive\n",
        "\n",
        "drive.mount('/content/drive')"
      ]
    },
    {
      "cell_type": "code",
      "source": [
        "import pandas as pd\n",
        "\n",
        "df = pd.read_csv('/content/drive/MyDrive/2019-Oct.csv')"
      ],
      "metadata": {
        "id": "TzeG_7kSuozg"
      },
      "execution_count": 3,
      "outputs": []
    },
    {
      "cell_type": "code",
      "source": [
        "df.head()"
      ],
      "metadata": {
        "colab": {
          "base_uri": "https://localhost:8080/",
          "height": 206
        },
        "id": "o6IINl1vHc-d",
        "outputId": "ad6a133c-0bb0-431e-a991-f9e29bc05eab"
      },
      "execution_count": 4,
      "outputs": [
        {
          "output_type": "execute_result",
          "data": {
            "text/plain": [
              "                event_time event_type  product_id          category_id  \\\n",
              "0  2019-10-01 00:00:00 UTC       view    44600062  2103807459595387724   \n",
              "1  2019-10-01 00:00:00 UTC       view     3900821  2053013552326770905   \n",
              "2  2019-10-01 00:00:01 UTC       view    17200506  2053013559792632471   \n",
              "3  2019-10-01 00:00:01 UTC       view     1307067  2053013558920217191   \n",
              "4  2019-10-01 00:00:04 UTC       view     1004237  2053013555631882655   \n",
              "\n",
              "                         category_code     brand    price    user_id  \\\n",
              "0                                  NaN  shiseido    35.79  541312140   \n",
              "1  appliances.environment.water_heater      aqua    33.20  554748717   \n",
              "2           furniture.living_room.sofa       NaN   543.10  519107250   \n",
              "3                   computers.notebook    lenovo   251.74  550050854   \n",
              "4               electronics.smartphone     apple  1081.98  535871217   \n",
              "\n",
              "                           user_session  \n",
              "0  72d76fde-8bb3-4e00-8c23-a032dfed738c  \n",
              "1  9333dfbd-b87a-4708-9857-6336556b0fcc  \n",
              "2  566511c2-e2e3-422b-b695-cf8e6e792ca8  \n",
              "3  7c90fc70-0e80-4590-96f3-13c02c18c713  \n",
              "4  c6bd7419-2748-4c56-95b4-8cec9ff8b80d  "
            ],
            "text/html": [
              "\n",
              "  <div id=\"df-846f9c55-7ad0-4762-b783-c1c2dde8a023\">\n",
              "    <div class=\"colab-df-container\">\n",
              "      <div>\n",
              "<style scoped>\n",
              "    .dataframe tbody tr th:only-of-type {\n",
              "        vertical-align: middle;\n",
              "    }\n",
              "\n",
              "    .dataframe tbody tr th {\n",
              "        vertical-align: top;\n",
              "    }\n",
              "\n",
              "    .dataframe thead th {\n",
              "        text-align: right;\n",
              "    }\n",
              "</style>\n",
              "<table border=\"1\" class=\"dataframe\">\n",
              "  <thead>\n",
              "    <tr style=\"text-align: right;\">\n",
              "      <th></th>\n",
              "      <th>event_time</th>\n",
              "      <th>event_type</th>\n",
              "      <th>product_id</th>\n",
              "      <th>category_id</th>\n",
              "      <th>category_code</th>\n",
              "      <th>brand</th>\n",
              "      <th>price</th>\n",
              "      <th>user_id</th>\n",
              "      <th>user_session</th>\n",
              "    </tr>\n",
              "  </thead>\n",
              "  <tbody>\n",
              "    <tr>\n",
              "      <th>0</th>\n",
              "      <td>2019-10-01 00:00:00 UTC</td>\n",
              "      <td>view</td>\n",
              "      <td>44600062</td>\n",
              "      <td>2103807459595387724</td>\n",
              "      <td>NaN</td>\n",
              "      <td>shiseido</td>\n",
              "      <td>35.79</td>\n",
              "      <td>541312140</td>\n",
              "      <td>72d76fde-8bb3-4e00-8c23-a032dfed738c</td>\n",
              "    </tr>\n",
              "    <tr>\n",
              "      <th>1</th>\n",
              "      <td>2019-10-01 00:00:00 UTC</td>\n",
              "      <td>view</td>\n",
              "      <td>3900821</td>\n",
              "      <td>2053013552326770905</td>\n",
              "      <td>appliances.environment.water_heater</td>\n",
              "      <td>aqua</td>\n",
              "      <td>33.20</td>\n",
              "      <td>554748717</td>\n",
              "      <td>9333dfbd-b87a-4708-9857-6336556b0fcc</td>\n",
              "    </tr>\n",
              "    <tr>\n",
              "      <th>2</th>\n",
              "      <td>2019-10-01 00:00:01 UTC</td>\n",
              "      <td>view</td>\n",
              "      <td>17200506</td>\n",
              "      <td>2053013559792632471</td>\n",
              "      <td>furniture.living_room.sofa</td>\n",
              "      <td>NaN</td>\n",
              "      <td>543.10</td>\n",
              "      <td>519107250</td>\n",
              "      <td>566511c2-e2e3-422b-b695-cf8e6e792ca8</td>\n",
              "    </tr>\n",
              "    <tr>\n",
              "      <th>3</th>\n",
              "      <td>2019-10-01 00:00:01 UTC</td>\n",
              "      <td>view</td>\n",
              "      <td>1307067</td>\n",
              "      <td>2053013558920217191</td>\n",
              "      <td>computers.notebook</td>\n",
              "      <td>lenovo</td>\n",
              "      <td>251.74</td>\n",
              "      <td>550050854</td>\n",
              "      <td>7c90fc70-0e80-4590-96f3-13c02c18c713</td>\n",
              "    </tr>\n",
              "    <tr>\n",
              "      <th>4</th>\n",
              "      <td>2019-10-01 00:00:04 UTC</td>\n",
              "      <td>view</td>\n",
              "      <td>1004237</td>\n",
              "      <td>2053013555631882655</td>\n",
              "      <td>electronics.smartphone</td>\n",
              "      <td>apple</td>\n",
              "      <td>1081.98</td>\n",
              "      <td>535871217</td>\n",
              "      <td>c6bd7419-2748-4c56-95b4-8cec9ff8b80d</td>\n",
              "    </tr>\n",
              "  </tbody>\n",
              "</table>\n",
              "</div>\n",
              "      <button class=\"colab-df-convert\" onclick=\"convertToInteractive('df-846f9c55-7ad0-4762-b783-c1c2dde8a023')\"\n",
              "              title=\"Convert this dataframe to an interactive table.\"\n",
              "              style=\"display:none;\">\n",
              "        \n",
              "  <svg xmlns=\"http://www.w3.org/2000/svg\" height=\"24px\"viewBox=\"0 0 24 24\"\n",
              "       width=\"24px\">\n",
              "    <path d=\"M0 0h24v24H0V0z\" fill=\"none\"/>\n",
              "    <path d=\"M18.56 5.44l.94 2.06.94-2.06 2.06-.94-2.06-.94-.94-2.06-.94 2.06-2.06.94zm-11 1L8.5 8.5l.94-2.06 2.06-.94-2.06-.94L8.5 2.5l-.94 2.06-2.06.94zm10 10l.94 2.06.94-2.06 2.06-.94-2.06-.94-.94-2.06-.94 2.06-2.06.94z\"/><path d=\"M17.41 7.96l-1.37-1.37c-.4-.4-.92-.59-1.43-.59-.52 0-1.04.2-1.43.59L10.3 9.45l-7.72 7.72c-.78.78-.78 2.05 0 2.83L4 21.41c.39.39.9.59 1.41.59.51 0 1.02-.2 1.41-.59l7.78-7.78 2.81-2.81c.8-.78.8-2.07 0-2.86zM5.41 20L4 18.59l7.72-7.72 1.47 1.35L5.41 20z\"/>\n",
              "  </svg>\n",
              "      </button>\n",
              "      \n",
              "  <style>\n",
              "    .colab-df-container {\n",
              "      display:flex;\n",
              "      flex-wrap:wrap;\n",
              "      gap: 12px;\n",
              "    }\n",
              "\n",
              "    .colab-df-convert {\n",
              "      background-color: #E8F0FE;\n",
              "      border: none;\n",
              "      border-radius: 50%;\n",
              "      cursor: pointer;\n",
              "      display: none;\n",
              "      fill: #1967D2;\n",
              "      height: 32px;\n",
              "      padding: 0 0 0 0;\n",
              "      width: 32px;\n",
              "    }\n",
              "\n",
              "    .colab-df-convert:hover {\n",
              "      background-color: #E2EBFA;\n",
              "      box-shadow: 0px 1px 2px rgba(60, 64, 67, 0.3), 0px 1px 3px 1px rgba(60, 64, 67, 0.15);\n",
              "      fill: #174EA6;\n",
              "    }\n",
              "\n",
              "    [theme=dark] .colab-df-convert {\n",
              "      background-color: #3B4455;\n",
              "      fill: #D2E3FC;\n",
              "    }\n",
              "\n",
              "    [theme=dark] .colab-df-convert:hover {\n",
              "      background-color: #434B5C;\n",
              "      box-shadow: 0px 1px 3px 1px rgba(0, 0, 0, 0.15);\n",
              "      filter: drop-shadow(0px 1px 2px rgba(0, 0, 0, 0.3));\n",
              "      fill: #FFFFFF;\n",
              "    }\n",
              "  </style>\n",
              "\n",
              "      <script>\n",
              "        const buttonEl =\n",
              "          document.querySelector('#df-846f9c55-7ad0-4762-b783-c1c2dde8a023 button.colab-df-convert');\n",
              "        buttonEl.style.display =\n",
              "          google.colab.kernel.accessAllowed ? 'block' : 'none';\n",
              "\n",
              "        async function convertToInteractive(key) {\n",
              "          const element = document.querySelector('#df-846f9c55-7ad0-4762-b783-c1c2dde8a023');\n",
              "          const dataTable =\n",
              "            await google.colab.kernel.invokeFunction('convertToInteractive',\n",
              "                                                     [key], {});\n",
              "          if (!dataTable) return;\n",
              "\n",
              "          const docLinkHtml = 'Like what you see? Visit the ' +\n",
              "            '<a target=\"_blank\" href=https://colab.research.google.com/notebooks/data_table.ipynb>data table notebook</a>'\n",
              "            + ' to learn more about interactive tables.';\n",
              "          element.innerHTML = '';\n",
              "          dataTable['output_type'] = 'display_data';\n",
              "          await google.colab.output.renderOutput(dataTable, element);\n",
              "          const docLink = document.createElement('div');\n",
              "          docLink.innerHTML = docLinkHtml;\n",
              "          element.appendChild(docLink);\n",
              "        }\n",
              "      </script>\n",
              "    </div>\n",
              "  </div>\n",
              "  "
            ]
          },
          "metadata": {},
          "execution_count": 4
        }
      ]
    },
    {
      "cell_type": "code",
      "source": [
        "df.event_type.unique()"
      ],
      "metadata": {
        "colab": {
          "base_uri": "https://localhost:8080/"
        },
        "id": "-r2mZXOwHc4c",
        "outputId": "6faed3de-a1ad-497e-8892-dfa6dc4efd44"
      },
      "execution_count": null,
      "outputs": [
        {
          "output_type": "execute_result",
          "data": {
            "text/plain": [
              "array(['view', 'purchase', 'cart'], dtype=object)"
            ]
          },
          "metadata": {},
          "execution_count": 4
        }
      ]
    },
    {
      "cell_type": "code",
      "source": [
        "df['date'] = pd.to_datetime(df['event_time'])"
      ],
      "metadata": {
        "id": "hkmb4ICzHc1k"
      },
      "execution_count": null,
      "outputs": []
    },
    {
      "cell_type": "code",
      "source": [
        "df['date'][0]"
      ],
      "metadata": {
        "colab": {
          "base_uri": "https://localhost:8080/"
        },
        "id": "r_YenknbTv1O",
        "outputId": "2cba434f-dc5d-419f-b922-e8f6a4eadc20"
      },
      "execution_count": null,
      "outputs": [
        {
          "output_type": "execute_result",
          "data": {
            "text/plain": [
              "Timestamp('2019-10-01 00:00:00+0000', tz='UTC')"
            ]
          },
          "metadata": {},
          "execution_count": 26
        }
      ]
    },
    {
      "cell_type": "code",
      "source": [
        "df['date'] = df['event_time'].map(lambda x: x[:10])"
      ],
      "metadata": {
        "id": "emq1KhQcaO1v"
      },
      "execution_count": null,
      "outputs": []
    },
    {
      "cell_type": "code",
      "source": [
        "# 일자 확인 -> 10-01 ~ 10-31 데이터\n",
        "df['date'].unique()"
      ],
      "metadata": {
        "colab": {
          "base_uri": "https://localhost:8080/"
        },
        "id": "80wkAOdedOeU",
        "outputId": "e9f21d1f-404f-4d7b-826e-d7767f7fb96f"
      },
      "execution_count": null,
      "outputs": [
        {
          "output_type": "execute_result",
          "data": {
            "text/plain": [
              "array(['2019-10-01', '2019-10-02', '2019-10-03', '2019-10-04',\n",
              "       '2019-10-05', '2019-10-06', '2019-10-07', '2019-10-08',\n",
              "       '2019-10-09', '2019-10-10', '2019-10-11', '2019-10-12',\n",
              "       '2019-10-13', '2019-10-14', '2019-10-15', '2019-10-16',\n",
              "       '2019-10-17', '2019-10-18', '2019-10-19', '2019-10-20',\n",
              "       '2019-10-21', '2019-10-22', '2019-10-23', '2019-10-24',\n",
              "       '2019-10-25', '2019-10-26', '2019-10-27', '2019-10-28',\n",
              "       '2019-10-29', '2019-10-30', '2019-10-31'], dtype=object)"
            ]
          },
          "metadata": {},
          "execution_count": 5
        }
      ]
    },
    {
      "cell_type": "code",
      "source": [
        "# 유저 수\n",
        "len(df['user_id'].unique())"
      ],
      "metadata": {
        "colab": {
          "base_uri": "https://localhost:8080/"
        },
        "id": "CHr2U8WMddXe",
        "outputId": "ddb6d8e2-e415-47b7-bfb4-9c0b9a52606a"
      },
      "execution_count": null,
      "outputs": [
        {
          "output_type": "execute_result",
          "data": {
            "text/plain": [
              "3022290"
            ]
          },
          "metadata": {},
          "execution_count": 41
        }
      ]
    },
    {
      "cell_type": "code",
      "source": [
        "# 상품 수\n",
        "len(df['product_id'].unique())"
      ],
      "metadata": {
        "colab": {
          "base_uri": "https://localhost:8080/"
        },
        "id": "afpcUGaaddPl",
        "outputId": "cf960609-7b81-4542-a500-8faa2b9eeb57"
      },
      "execution_count": null,
      "outputs": [
        {
          "output_type": "execute_result",
          "data": {
            "text/plain": [
              "166794"
            ]
          },
          "metadata": {},
          "execution_count": 42
        }
      ]
    },
    {
      "cell_type": "code",
      "source": [
        "# 카테고리 수\n",
        "len(df['category_code'].unique())"
      ],
      "metadata": {
        "colab": {
          "base_uri": "https://localhost:8080/"
        },
        "id": "0wh0T599ddMu",
        "outputId": "f9ef0005-e304-4637-ecee-1bd00739b9a2"
      },
      "execution_count": null,
      "outputs": [
        {
          "output_type": "execute_result",
          "data": {
            "text/plain": [
              "127"
            ]
          },
          "metadata": {},
          "execution_count": 45
        }
      ]
    },
    {
      "cell_type": "code",
      "source": [
        "# 브랜드 수\n",
        "len(df['brand'].unique())"
      ],
      "metadata": {
        "colab": {
          "base_uri": "https://localhost:8080/"
        },
        "id": "gN1kJ29DjXZ3",
        "outputId": "b8db72e8-fc0b-4147-b4da-4c65c6b4a413"
      },
      "execution_count": null,
      "outputs": [
        {
          "output_type": "execute_result",
          "data": {
            "text/plain": [
              "3445"
            ]
          },
          "metadata": {},
          "execution_count": 46
        }
      ]
    },
    {
      "cell_type": "code",
      "source": [
        "df[df['user']=='purchase']"
      ],
      "metadata": {
        "id": "6Prjs6hHkHBx"
      },
      "execution_count": null,
      "outputs": []
    },
    {
      "cell_type": "code",
      "source": [
        "import seaborn as sns\n",
        "\n",
        "sns.countplot(df['event_type'])"
      ],
      "metadata": {
        "colab": {
          "base_uri": "https://localhost:8080/",
          "height": 366
        },
        "id": "c-yTtOl7kWN8",
        "outputId": "8daaa2fe-b01f-4962-ec61-033176ebc50b"
      },
      "execution_count": null,
      "outputs": [
        {
          "output_type": "stream",
          "name": "stderr",
          "text": [
            "/usr/local/lib/python3.7/dist-packages/seaborn/_decorators.py:43: FutureWarning: Pass the following variable as a keyword arg: x. From version 0.12, the only valid positional argument will be `data`, and passing other arguments without an explicit keyword will result in an error or misinterpretation.\n",
            "  FutureWarning\n"
          ]
        },
        {
          "output_type": "execute_result",
          "data": {
            "text/plain": [
              "<matplotlib.axes._subplots.AxesSubplot at 0x7f53091e8fd0>"
            ]
          },
          "metadata": {},
          "execution_count": 48
        },
        {
          "output_type": "display_data",
          "data": {
            "text/plain": [
              "<Figure size 432x288 with 1 Axes>"
            ],
            "image/png": "[encoded data removed]"
          },
          "metadata": {
            "needs_background": "light"
          }
        }
      ]
    },
    {
      "cell_type": "code",
      "source": [
        "# purchase한 유저의 수\n",
        "p_user = df[df['event_type']=='purchase']['user_id'].values\n",
        "p_product = df[df['event_type']=='purchase']['product_id'].unique()"
      ],
      "metadata": {
        "id": "Vx7O_LU9lG4_"
      },
      "execution_count": null,
      "outputs": []
    },
    {
      "cell_type": "code",
      "source": [
        "purchased_df = df[(df['product_id'].isin(p_product))&(df['user_id'].isin(p_user))]"
      ],
      "metadata": {
        "id": "JW_blyDjwFl5"
      },
      "execution_count": null,
      "outputs": []
    },
    {
      "cell_type": "code",
      "source": [
        "purchased_df.groupby(['product_id','user_id'])['event_type'].count()"
      ],
      "metadata": {
        "colab": {
          "base_uri": "https://localhost:8080/"
        },
        "id": "6freWL-s8jos",
        "outputId": "a5514b42-dc4e-42cd-b2f7-dcd003d70ae3"
      },
      "execution_count": null,
      "outputs": [
        {
          "output_type": "execute_result",
          "data": {
            "text/plain": [
              "product_id  user_id  \n",
              "1000978     512366656    1\n",
              "            512399128    1\n",
              "            512448158    1\n",
              "            512457400    4\n",
              "            512458113    3\n",
              "                        ..\n",
              "60500002    563964152    1\n",
              "            564022246    1\n",
              "            564294383    1\n",
              "60500009    514446250    4\n",
              "            529839452    1\n",
              "Name: event_type, Length: 5125172, dtype: int64"
            ]
          },
          "metadata": {},
          "execution_count": 5
        }
      ]
    },
    {
      "cell_type": "code",
      "source": [
        "df[(df['product_id']==1000978)&(df['user_id']==543856131)]"
      ],
      "metadata": {
        "colab": {
          "base_uri": "https://localhost:8080/",
          "height": 269
        },
        "id": "rnAGnZWd9YxC",
        "outputId": "9090ec9c-efd7-4b7d-e53b-84eaab25d628"
      },
      "execution_count": null,
      "outputs": [
        {
          "output_type": "execute_result",
          "data": {
            "text/plain": [
              "                       event_time event_type  product_id          category_id  \\\n",
              "29058703  2019-10-21 18:11:12 UTC       view     1000978  2053013555631882655   \n",
              "29060613  2019-10-21 18:12:34 UTC       view     1000978  2053013555631882655   \n",
              "29061934  2019-10-21 18:13:29 UTC   purchase     1000978  2053013555631882655   \n",
              "29062548  2019-10-21 18:13:54 UTC       view     1000978  2053013555631882655   \n",
              "33629489  2019-10-25 06:37:50 UTC       view     1000978  2053013555631882655   \n",
              "33630868  2019-10-25 06:38:52 UTC   purchase     1000978  2053013555631882655   \n",
              "33631894  2019-10-25 06:39:37 UTC       view     1000978  2053013555631882655   \n",
              "\n",
              "                   category_code    brand   price    user_id  \\\n",
              "29058703  electronics.smartphone  samsung  333.49  543856131   \n",
              "29060613  electronics.smartphone  samsung  333.49  543856131   \n",
              "29061934  electronics.smartphone  samsung  333.49  543856131   \n",
              "29062548  electronics.smartphone  samsung  333.49  543856131   \n",
              "33629489  electronics.smartphone  samsung  333.49  543856131   \n",
              "33630868  electronics.smartphone  samsung  333.49  543856131   \n",
              "33631894  electronics.smartphone  samsung  333.49  543856131   \n",
              "\n",
              "                                  user_session  \n",
              "29058703  b040fde0-f103-4016-8cfd-9b1433b287ff  \n",
              "29060613  b040fde0-f103-4016-8cfd-9b1433b287ff  \n",
              "29061934  b040fde0-f103-4016-8cfd-9b1433b287ff  \n",
              "29062548  b040fde0-f103-4016-8cfd-9b1433b287ff  \n",
              "33629489  633ce9d4-a793-4cd9-ad10-ceb7de93f984  \n",
              "33630868  633ce9d4-a793-4cd9-ad10-ceb7de93f984  \n",
              "33631894  633ce9d4-a793-4cd9-ad10-ceb7de93f984  "
            ],
            "text/html": [
              "\n",
              "  <div id=\"df-08cda3fc-acf2-4ad0-822c-b70e5470dad1\">\n",
              "    <div class=\"colab-df-container\">\n",
              "      <div>\n",
              "<style scoped>\n",
              "    .dataframe tbody tr th:only-of-type {\n",
              "        vertical-align: middle;\n",
              "    }\n",
              "\n",
              "    .dataframe tbody tr th {\n",
              "        vertical-align: top;\n",
              "    }\n",
              "\n",
              "    .dataframe thead th {\n",
              "        text-align: right;\n",
              "    }\n",
              "</style>\n",
              "<table border=\"1\" class=\"dataframe\">\n",
              "  <thead>\n",
              "    <tr style=\"text-align: right;\">\n",
              "      <th></th>\n",
              "      <th>event_time</th>\n",
              "      <th>event_type</th>\n",
              "      <th>product_id</th>\n",
              "      <th>category_id</th>\n",
              "      <th>category_code</th>\n",
              "      <th>brand</th>\n",
              "      <th>price</th>\n",
              "      <th>user_id</th>\n",
              "      <th>user_session</th>\n",
              "    </tr>\n",
              "  </thead>\n",
              "  <tbody>\n",
              "    <tr>\n",
              "      <th>29058703</th>\n",
              "      <td>2019-10-21 18:11:12 UTC</td>\n",
              "      <td>view</td>\n",
              "      <td>1000978</td>\n",
              "      <td>2053013555631882655</td>\n",
              "      <td>electronics.smartphone</td>\n",
              "      <td>samsung</td>\n",
              "      <td>333.49</td>\n",
              "      <td>543856131</td>\n",
              "      <td>b040fde0-f103-4016-8cfd-9b1433b287ff</td>\n",
              "    </tr>\n",
              "    <tr>\n",
              "      <th>29060613</th>\n",
              "      <td>2019-10-21 18:12:34 UTC</td>\n",
              "      <td>view</td>\n",
              "      <td>1000978</td>\n",
              "      <td>2053013555631882655</td>\n",
              "      <td>electronics.smartphone</td>\n",
              "      <td>samsung</td>\n",
              "      <td>333.49</td>\n",
              "      <td>543856131</td>\n",
              "      <td>b040fde0-f103-4016-8cfd-9b1433b287ff</td>\n",
              "    </tr>\n",
              "    <tr>\n",
              "      <th>29061934</th>\n",
              "      <td>2019-10-21 18:13:29 UTC</td>\n",
              "      <td>purchase</td>\n",
              "      <td>1000978</td>\n",
              "      <td>2053013555631882655</td>\n",
              "      <td>electronics.smartphone</td>\n",
              "      <td>samsung</td>\n",
              "      <td>333.49</td>\n",
              "      <td>543856131</td>\n",
              "      <td>b040fde0-f103-4016-8cfd-9b1433b287ff</td>\n",
              "    </tr>\n",
              "    <tr>\n",
              "      <th>29062548</th>\n",
              "      <td>2019-10-21 18:13:54 UTC</td>\n",
              "      <td>view</td>\n",
              "      <td>1000978</td>\n",
              "      <td>2053013555631882655</td>\n",
              "      <td>electronics.smartphone</td>\n",
              "      <td>samsung</td>\n",
              "      <td>333.49</td>\n",
              "      <td>543856131</td>\n",
              "      <td>b040fde0-f103-4016-8cfd-9b1433b287ff</td>\n",
              "    </tr>\n",
              "    <tr>\n",
              "      <th>33629489</th>\n",
              "      <td>2019-10-25 06:37:50 UTC</td>\n",
              "      <td>view</td>\n",
              "      <td>1000978</td>\n",
              "      <td>2053013555631882655</td>\n",
              "      <td>electronics.smartphone</td>\n",
              "      <td>samsung</td>\n",
              "      <td>333.49</td>\n",
              "      <td>543856131</td>\n",
              "      <td>633ce9d4-a793-4cd9-ad10-ceb7de93f984</td>\n",
              "    </tr>\n",
              "    <tr>\n",
              "      <th>33630868</th>\n",
              "      <td>2019-10-25 06:38:52 UTC</td>\n",
              "      <td>purchase</td>\n",
              "      <td>1000978</td>\n",
              "      <td>2053013555631882655</td>\n",
              "      <td>electronics.smartphone</td>\n",
              "      <td>samsung</td>\n",
              "      <td>333.49</td>\n",
              "      <td>543856131</td>\n",
              "      <td>633ce9d4-a793-4cd9-ad10-ceb7de93f984</td>\n",
              "    </tr>\n",
              "    <tr>\n",
              "      <th>33631894</th>\n",
              "      <td>2019-10-25 06:39:37 UTC</td>\n",
              "      <td>view</td>\n",
              "      <td>1000978</td>\n",
              "      <td>2053013555631882655</td>\n",
              "      <td>electronics.smartphone</td>\n",
              "      <td>samsung</td>\n",
              "      <td>333.49</td>\n",
              "      <td>543856131</td>\n",
              "      <td>633ce9d4-a793-4cd9-ad10-ceb7de93f984</td>\n",
              "    </tr>\n",
              "  </tbody>\n",
              "</table>\n",
              "</div>\n",
              "      <button class=\"colab-df-convert\" onclick=\"convertToInteractive('df-08cda3fc-acf2-4ad0-822c-b70e5470dad1')\"\n",
              "              title=\"Convert this dataframe to an interactive table.\"\n",
              "              style=\"display:none;\">\n",
              "        \n",
              "  <svg xmlns=\"http://www.w3.org/2000/svg\" height=\"24px\"viewBox=\"0 0 24 24\"\n",
              "       width=\"24px\">\n",
              "    <path d=\"M0 0h24v24H0V0z\" fill=\"none\"/>\n",
              "    <path d=\"M18.56 5.44l.94 2.06.94-2.06 2.06-.94-2.06-.94-.94-2.06-.94 2.06-2.06.94zm-11 1L8.5 8.5l.94-2.06 2.06-.94-2.06-.94L8.5 2.5l-.94 2.06-2.06.94zm10 10l.94 2.06.94-2.06 2.06-.94-2.06-.94-.94-2.06-.94 2.06-2.06.94z\"/><path d=\"M17.41 7.96l-1.37-1.37c-.4-.4-.92-.59-1.43-.59-.52 0-1.04.2-1.43.59L10.3 9.45l-7.72 7.72c-.78.78-.78 2.05 0 2.83L4 21.41c.39.39.9.59 1.41.59.51 0 1.02-.2 1.41-.59l7.78-7.78 2.81-2.81c.8-.78.8-2.07 0-2.86zM5.41 20L4 18.59l7.72-7.72 1.47 1.35L5.41 20z\"/>\n",
              "  </svg>\n",
              "      </button>\n",
              "      \n",
              "  <style>\n",
              "    .colab-df-container {\n",
              "      display:flex;\n",
              "      flex-wrap:wrap;\n",
              "      gap: 12px;\n",
              "    }\n",
              "\n",
              "    .colab-df-convert {\n",
              "      background-color: #E8F0FE;\n",
              "      border: none;\n",
              "      border-radius: 50%;\n",
              "      cursor: pointer;\n",
              "      display: none;\n",
              "      fill: #1967D2;\n",
              "      height: 32px;\n",
              "      padding: 0 0 0 0;\n",
              "      width: 32px;\n",
              "    }\n",
              "\n",
              "    .colab-df-convert:hover {\n",
              "      background-color: #E2EBFA;\n",
              "      box-shadow: 0px 1px 2px rgba(60, 64, 67, 0.3), 0px 1px 3px 1px rgba(60, 64, 67, 0.15);\n",
              "      fill: #174EA6;\n",
              "    }\n",
              "\n",
              "    [theme=dark] .colab-df-convert {\n",
              "      background-color: #3B4455;\n",
              "      fill: #D2E3FC;\n",
              "    }\n",
              "\n",
              "    [theme=dark] .colab-df-convert:hover {\n",
              "      background-color: #434B5C;\n",
              "      box-shadow: 0px 1px 3px 1px rgba(0, 0, 0, 0.15);\n",
              "      filter: drop-shadow(0px 1px 2px rgba(0, 0, 0, 0.3));\n",
              "      fill: #FFFFFF;\n",
              "    }\n",
              "  </style>\n",
              "\n",
              "      <script>\n",
              "        const buttonEl =\n",
              "          document.querySelector('#df-08cda3fc-acf2-4ad0-822c-b70e5470dad1 button.colab-df-convert');\n",
              "        buttonEl.style.display =\n",
              "          google.colab.kernel.accessAllowed ? 'block' : 'none';\n",
              "\n",
              "        async function convertToInteractive(key) {\n",
              "          const element = document.querySelector('#df-08cda3fc-acf2-4ad0-822c-b70e5470dad1');\n",
              "          const dataTable =\n",
              "            await google.colab.kernel.invokeFunction('convertToInteractive',\n",
              "                                                     [key], {});\n",
              "          if (!dataTable) return;\n",
              "\n",
              "          const docLinkHtml = 'Like what you see? Visit the ' +\n",
              "            '<a target=\"_blank\" href=https://colab.research.google.com/notebooks/data_table.ipynb>data table notebook</a>'\n",
              "            + ' to learn more about interactive tables.';\n",
              "          element.innerHTML = '';\n",
              "          dataTable['output_type'] = 'display_data';\n",
              "          await google.colab.output.renderOutput(dataTable, element);\n",
              "          const docLink = document.createElement('div');\n",
              "          docLink.innerHTML = docLinkHtml;\n",
              "          element.appendChild(docLink);\n",
              "        }\n",
              "      </script>\n",
              "    </div>\n",
              "  </div>\n",
              "  "
            ]
          },
          "metadata": {},
          "execution_count": 22
        }
      ]
    },
    {
      "cell_type": "code",
      "source": [
        "sns.histplot(df['price'])\n",
        "plt.show();"
      ],
      "metadata": {
        "id": "STvHFWmL_8zG",
        "colab": {
          "base_uri": "https://localhost:8080/",
          "height": 279
        },
        "outputId": "d875d529-8503-478a-b3e7-50264862e9d7"
      },
      "execution_count": null,
      "outputs": [
        {
          "output_type": "display_data",
          "data": {
            "text/plain": [
              "<Figure size 432x288 with 1 Axes>"
            ],
            "image/png": "[encoded data removed]"
          },
          "metadata": {
            "needs_background": "light"
          }
        }
      ]
    },
    {
      "cell_type": "code",
      "source": [
        "# df['temp_vlookup'] = df['product_id'].astype(str) + df['user_id'].astype(str)\n"
      ],
      "metadata": {
        "id": "G2BDqYY2bbhZ"
      },
      "execution_count": null,
      "outputs": []
    },
    {
      "cell_type": "code",
      "source": [
        "re_order_count = df[df['event_type']=='purchase'].groupby(['product_id','user_id'])['event_type'].count()"
      ],
      "metadata": {
        "id": "Yxbb6O29NcEX"
      },
      "execution_count": null,
      "outputs": []
    },
    {
      "cell_type": "code",
      "source": [
        "\n",
        "df = pd.merge(left=df, right=pd.DataFrame(re_order_count).reset_index(), how='left', \\\n",
        "                  on=['product_id','user_id'])\n",
        "\n",
        "# df.join(pd.DataFrame(re_order_count), on = 'event_type')\n",
        "# df.join(re_order_count, on = 'event_type')"
      ],
      "metadata": {
        "id": "8oL4G4hwNd_P"
      },
      "execution_count": null,
      "outputs": []
    },
    {
      "cell_type": "code",
      "source": [
        "df.rename(columns = {'event_type_x': 'event_type', 'event_type_y':'reorder_cnt'}, inplace = True)"
      ],
      "metadata": {
        "id": "uUm8B8XofvlC"
      },
      "execution_count": null,
      "outputs": []
    },
    {
      "cell_type": "code",
      "source": [
        "df['reorder_cnt']"
      ],
      "metadata": {
        "id": "qbFO0Jp-xV6L"
      },
      "execution_count": null,
      "outputs": []
    },
    {
      "cell_type": "code",
      "source": [
        "import seaborn as sns\n",
        "import matplotlib.pyplot as plt\n",
        "\n",
        "# 특정 상품에 대한 같은 월 내 구매 세션 수\n",
        "sns.distplot(df['reorder_cnt'])\n",
        "plt.show();"
      ],
      "metadata": {
        "colab": {
          "base_uri": "https://localhost:8080/",
          "height": 280
        },
        "id": "sY2XwGjFhqU8",
        "outputId": "970768ae-cd8b-4972-be4f-b5d164d06c7f"
      },
      "execution_count": null,
      "outputs": [
        {
          "output_type": "display_data",
          "data": {
            "text/plain": [
              "<Figure size 432x288 with 1 Axes>"
            ],
            "image/png": "[encoded data removed]"
          },
          "metadata": {
            "needs_background": "light"
          }
        }
      ]
    },
    {
      "cell_type": "code",
      "source": [
        "# 구매를 한 적이 없는 사람 = reorder_cnt -> null인 고객 3천8백만\n",
        "len(df[df['reorder_cnt'].isnull()])"
      ],
      "metadata": {
        "colab": {
          "base_uri": "https://localhost:8080/"
        },
        "id": "NDJKQXPlm52H",
        "outputId": "39cdbdb0-19ea-4d52-e832-c36c6a98e571"
      },
      "execution_count": null,
      "outputs": [
        {
          "output_type": "execute_result",
          "data": {
            "text/plain": [
              "38028564"
            ]
          },
          "metadata": {},
          "execution_count": 21
        }
      ]
    },
    {
      "cell_type": "code",
      "source": [
        "df[df['event_type']=='purchase']"
      ],
      "metadata": {
        "id": "TEtUdEzinTr6"
      },
      "execution_count": null,
      "outputs": []
    },
    {
      "cell_type": "code",
      "source": [
        "df.join(re_order_count.reset_index(), )"
      ],
      "metadata": {
        "id": "x8Ej_5r5Ns6D"
      },
      "execution_count": null,
      "outputs": []
    },
    {
      "cell_type": "code",
      "source": [
        "len(df['user_session'].unique())"
      ],
      "metadata": {
        "colab": {
          "base_uri": "https://localhost:8080/"
        },
        "id": "HzDOw5IGqEOi",
        "outputId": "eeb71311-a100-4e5e-a365-7dcec7359118"
      },
      "execution_count": null,
      "outputs": [
        {
          "output_type": "execute_result",
          "data": {
            "text/plain": [
              "9244422"
            ]
          },
          "metadata": {},
          "execution_count": 31
        }
      ]
    },
    {
      "cell_type": "code",
      "source": [
        "for i in df['user_session'].unique():\n",
        "  if len(df[df['user_session']==i]['product_id'].unique()) >1:\n",
        "    print(df[df['user_session']==i]['product_id'].unique())"
      ],
      "metadata": {
        "colab": {
          "base_uri": "https://localhost:8080/"
        },
        "id": "WOt75DDv86gF",
        "outputId": "be82621d-d7ca-4aa9-fa01-740977d8d4f6"
      },
      "execution_count": null,
      "outputs": [
        {
          "output_type": "stream",
          "name": "stdout",
          "text": [
            "[17200506 15100337 15100008 15100367 15100034 15100220 15100214 15100288\n",
            " 15100100]\n",
            "[1307067 1306631 1306083 1307370 1306359]\n",
            "[1004237 1005135]\n",
            "[1480613 1480714 1480734 1480456 6700940]\n",
            "[31500053 31501072 31501163]\n",
            "[28719074 28719071]\n",
            "[1004545 1801555 1801796]\n",
            "[3900746 3900930]\n",
            "[13500240 13500046 13500041 17200142 16800186 16800331 21405154 21403078]\n",
            "[23100006 50500080]\n",
            "[10900029  1004874  1004870]\n",
            "[34700031 34700023]\n",
            "[27500014 27500015  3701226]\n",
            "[19001139 19000296 19000997 19000265 19002624 19002623 19001214]\n",
            "[10800001 10800076 10800132 10800025 10800048  3300314]\n",
            "[26200591 26201858]\n",
            "[28714755 28708392 28715758 28715611 28717034 28704388]\n",
            "[3701388 3701062 3700823 4600542]\n",
            "[26200591 26201000 26201858 26400672]\n",
            "[4300070 4300376 4300285]\n",
            "[1004767 1004659]\n",
            "[26500313 26500144 21403078 21402696]\n",
            "[4100126 4100274 4100219 4100348]\n",
            "[ 1005105 12709227  1005115]\n",
            "[1307135 1307004]\n",
            "[1005073 1004158]\n",
            "[1004870 1004433 1004659 1004767]\n",
            "[27700113 27701120 27700106]\n",
            "[ 1004836 18000928  1005100]\n",
            "[32601078 32800211]\n",
            "[1004497 1005020 1004599]\n",
            "[1004785 1004321]\n",
            "[ 3500210  3500132  3500149  3500292  3500303 19400031]\n",
            "[ 1004873  1004767 26402783 26204060 26200395 26204088 26203385 26204072\n",
            " 26203380  1004856  1004833  1004750]\n",
            "[1005115 1003317 1005135 1004237 1004767 1004856 1004836 1004659]\n",
            "[6200688 6200315]\n",
            "[13100083 13101547 13100022 13104940]\n",
            "[18400215 18400077 18400336]\n",
            "[1004792 1004856 1004767]\n",
            "[5100855 1005105]\n",
            "[ 1003305  1002528  1002532 41300118 41300138  4804056  4802036]\n",
            "[6200547 6200965]\n",
            "[1003317 1004249]\n",
            "[1004792 1004867 1004869 1005165]\n",
            "[1004949 1004946 1004993 1004994 1005102]\n",
            "[29800033 29800030]\n",
            "[2700618 2701605 2700984]\n",
            "[ 3500093 10800084 10800074]\n",
            "[50600002 50600000]\n",
            "[1003756 1004281 1004415 1004284 1004625 1004467 1004288 1004669]\n",
            "[ 5100239  5100705  5100561 27400040]\n",
            "[4300382 4300260 4300376 4300149 4300266 4201230]\n",
            "[22700161 22700044]\n",
            "[1307189 1306949]\n",
            "[26204064 26204088 26204062]\n",
            "[ 1005101  5100816  1005151 10700955  1004957 10700837  1004956 10701009]\n",
            "[26300089 37900138]\n",
            "[17000063 17000038 16900137]\n",
            "[1005105 1005115]\n",
            "[12300231 12300632 12300066]\n",
            "[12703421 12703419]\n",
            "[2701639 2700609]\n",
            "[1004209 1004856]\n",
            "[ 1004870  1004530 18000919  1004766  1004874]\n",
            "[1004966 1004853]\n",
            "[4300262 4300378]\n",
            "[13103001 34800153 34800167 34800106]\n",
            "[1004858 1004767 1004833 1004834]\n",
            "[4804295 4804409 4803399 4803879]\n",
            "[1307365 1307301 1307240 1306183 1306650 1307189 1306359 1307004]\n",
            "[16400204 16400155]\n",
            "[3600163 3600661 3601244]\n",
            "[ 6000229 41900001]\n",
            "[2701646 3100871]\n",
            "[ 5700619 15800012 34800198]\n",
            "[1004870 1004836 1005115 1004739 1002544]\n",
            "[15700108 15700204 15700181 15700036 16800039 16800032]\n",
            "[15100095 15100008 15100100 15100007 17200506 17200570 10503186]\n",
            "[26300089 26300080 26300078 26300103 26300094 26300082]\n",
            "[1003363 1002524]\n",
            "[15300165 15300152 15300180]\n",
            "[26402365 26200591]\n",
            "[45600377 45600771]\n",
            "[26500134 26500002]\n",
            "[1003535 1004873 1004659]\n",
            "[2701732 3601505]\n",
            "[15100370 15100350 15100100 15100310 15100367 15100110]\n",
            "[28717124 28718142 28712566]\n",
            "[1004776 1004957]\n",
            "[3601485 3601427]\n",
            "[34800175 12718062]\n",
            "[6200315 6200292 6200687]\n",
            "[12709556 12700182 12704350]\n",
            "[ 2600164  2601340 17700280  2601810  2602038]\n",
            "[37000014 37000006 16400165 16400243]\n",
            "[1003312 4803976]\n",
            "[1004858 1004838]\n",
            "[30700012 30700000 30700003 30700007 29200010]\n",
            "[1002535 1002528 1002524]\n",
            "[31500291 31500151  6301985]\n",
            "[ 1005115 26400193 26402783]\n",
            "[1003306 1002524 1004767 1005115 4804056]\n",
            "[3700779 3701377 3701084]\n",
            "[3601524 3601505 3600661 3600666 3601537]\n",
            "[15700033 15700018 15700096 15700074 15700176]\n",
            "[1307135 1306797]\n",
            "[4200541 4200544 4201230 4200706]\n",
            "[1480163 1480558 1480607]\n",
            "[26800013 26800007]\n",
            "[49100005 46800023 15800012]\n",
            "[4804056 4802036]\n",
            "[24100257 24100265 17301529]\n",
            "[8500097 8500288 8500086]\n",
            "[1004767 1005073]\n",
            "[3600231 3600182]\n",
            "[6700946 1307179 1306746 1306405]\n",
            "[28101496 28101121 28101000]\n",
            "[6200687 6200547 6200971 6200315 6200260 6200690 5600042]\n",
            "[3900339 3900930 3900746]\n",
            "[1480163 1480509 1480608 1480598]\n",
            "[1004767 1004870]\n",
            "[30400012 30400011]\n",
            "[1004966 1004902]\n",
            "[12703421 12703419]\n",
            "[15100337 15100370 14701532]\n",
            "[1004767 1004836]\n",
            "[1003769 1004246 1004258]\n",
            "[1004659 1004655]\n",
            "[22700129 22700084]\n",
            "[1401577 1480675 1480428 1480160 1401129]\n",
            "[17301192 17300765]\n",
            "[1004740 1005021]\n",
            "[4804056 4804055 4802036]\n",
            "[25400114 25400008]\n",
            "[1004258 1003306 1004246]\n",
            "[1201448 1201297 1201389 1201472]\n",
            "[2702277 2700618]\n",
            "[3901101 3900591]\n",
            "[1004838 1004902]\n",
            "[1800930 1801860]\n",
            "[1004767 1004856]\n",
            "[1005105 1004258 1005115]\n",
            "[1004739 1004856]\n",
            "[5801510 5800560]\n",
            "[1004161 1004139 1004034 1005006]\n",
            "[2900200 2900569]\n",
            "[1004250 1005115]\n",
            "[2601936 2601299]\n",
            "[ 4802974 17800106]\n",
            "[5000575 5000339 5000261 5000495 5000476 5000602 5000668 5000090 5000121\n",
            " 5000260 5000328 5000329 5000342 5000421 5000246 5000235 5000045 5000240]\n",
            "[19100221 19100086]\n",
            "[1004839 1005105 1005130]\n",
            "[3300497 1200957]\n",
            "[1307073 1306359]\n",
            "[1801892 1801830]\n",
            "[3500168 3500178 4600483]\n",
            "[29502487 29502084]\n",
            "[1004781 1004836]\n",
            "[1004665 1004659]\n",
            "[ 5900032 42700004  5800108  5701086  6000089 42700009]\n",
            "[21410925 21411072 21409735]\n",
            "[1005124 5100574 5100702 4804055 1004767 1004249 1005129 5100343 4802036]\n",
            "[1002995 1002628 1002634 1002629 1002547]\n",
            "[12718025 12704057 12718187 12707963 12719394]\n",
            "[1004785 1004840 1004897 1004536 1003879 1003768 1004709 1005017 1005018\n",
            " 1004723]\n",
            "[40200415 13800042 13800084 13800085 13800030 13800070 13800081 32402994]\n",
            "[4300149 4300262 4300211]\n",
            "[2601299 2602113]\n",
            "[ 1005158  1004785  4803977  4100346  1801849  4804295 10701101  1004957\n",
            "  1005156  1005105  1003317]\n",
            "[28705361 28710801]\n",
            "[ 1307073 26402619  3701359  2800203]\n",
            "[26300094 26601440]\n",
            "[22700524  1004767]\n",
            "[1801881 1801382 1801955]\n",
            "[12704403 12703424]\n",
            "[1700934 1480558]\n",
            "[6301984 6301983 6302037 6301554 6301378]\n",
            "[ 4700630 12703015 12709740]\n",
            "[16600180 16600063]\n",
            "[26025655 25510241 25500885 10501725]\n",
            "[1003306 1003315]\n",
            "[3601244 3600661]\n",
            "[1701031 1500259 1700018]\n",
            "[21407401 21408246 21408260 21406576 21409662]\n",
            "[28719071 28719074 28715121 28717145]\n",
            "[1005105 1005135 1005132 1004767 1004972 1003709 1005074 1004670 1004258\n",
            " 1004226 1005144]\n",
            "[13700159 13700009]\n",
            "[4803710 4800236 4800584 4800282 4804156]\n",
            "[1004247 1004917]\n",
            "[18000964 18001068]\n",
            "[9101345 9101173]\n",
            "[1005166 1004238 1005112 1005115 1004237 1004241]\n",
            "[15901906 15901671 15901903 15901889 15901663 15900074 15901884]\n",
            "[5600042 6201019 6201016 4200544 4201085]\n",
            "[2700187 2700185 2702351]\n",
            "[12715359 12709321]\n",
            "[1004659 1004665]\n",
            "[1004767 1004210 1004886 1004446 1004174 1004856]\n",
            "[1004856 1004833 1004857 1004751 1004749]\n",
            "[1004884 1003934 1003798 1003328 1005050 1004831 1003954 1003499]\n",
            "[5100577 5100564]\n",
            "[28719071 28717145 28717050]\n",
            "[48000009 25700156 26202867]\n",
            "[26018541 37800028 37800027 37200048 28708392 37500560 37500711 37800036\n",
            " 12709380 12703498 12705001]\n",
            "[5100743 5100742 5100551 5100130]\n",
            "[1480712 1480708 1480734 1480018 1480519 1480725 1480541 1480394 1480731\n",
            " 1480456 1480465]\n",
            "[13300462 13300218 13300558 13300550 13300774 13300595]\n",
            "[1005122 1005132 1005105 1005126 1005141 1005140 1005142]\n",
            "[1004393 1004727]\n",
            "[1801542 1801544 1802005]\n",
            "[1004709 1004904 1004833]\n",
            "[2601299 2600283]\n",
            "[15100370 15100148 15100367]\n",
            "[1004872 1004870]\n",
            "[12711476 12719868]\n",
            "[38900016 42300004]\n",
            "[1004246 1005104]\n",
            "[12717054 12716818]\n",
            "[1004227 1004225 1004246 1004249 1004258 1005104]\n",
            "[16500000 16500005]\n",
            "[28100119 28100000 26010201 26300509 26300636 26300620 26300630  1004839\n",
            "  1004858 26300631 26300654 26300552 26300590 26300163 26300581 26300053\n",
            " 45900002 45900026 46400019 45900083 45900079 47600006 46200064 46300002\n",
            " 45900005 46400013 46400010]\n",
            "[1004768 1004766 1004835 1004749]\n",
            "[1307188 1307067 1306650 1306185 1307370 1307135]\n",
            "[6000157 6000271 6000241]\n",
            "[32900083 41800011]\n",
            "[5701166 5701037 5701149 5701108 5700785 5700793 5701194 5701014 5700820\n",
            " 5700673 5701248 5701255 5700944 1801084 5700853 5701243]\n",
            "[6200971 6200690]\n",
            "[12300850 12300451 12300842]\n",
            "[1005115 1003317 1004249]\n",
            "[3600666 3601515 3601279 3601525 3600999 3600835 3601214]\n",
            "[4700478 4700419]\n",
            "[19300021 19300039 19300096 19300027]\n",
            "[12711192 12709556 12710318 12711557 12700932 12711941 13100022 13100671]\n",
            "[15100072 15100183 15100337 14000061 14000507 14000058 14000031 45400138\n",
            " 25400256 25504008 25100142  5701178  5700980  5701116  5700619  5701179\n",
            "  5700414  5701128  5800617  5801545]\n",
            "[9600059 9600100]\n",
            "[1004741 1004739]\n",
            "[1005105 1005115]\n",
            "[13400310 13400622 13400652]\n",
            "[1005019 1004147 1004893 1005020 1004209 1005006 1005007]\n",
            "[1004856 1004659 1004833 1004750 1004767 1005115 1005104 1002628 1002544\n",
            " 1004766 1004768]\n",
            "[1002524 1005069 1004932]\n",
            "[4600535 4600657]\n",
            "[13104928 12703421 12711589]\n",
            "[15900112 31500231 16400014]\n",
            "[2800587 2800511 2800449 2700325 4500779 4502522]\n",
            "[14100635 14100113 14200041 14200386 14200325 14200400 14200395]\n",
            "[42800008 42800003 19100075]\n",
            "[3300495 3300323 3300441 3300399 3300313]\n",
            "[3600231 3600182]\n",
            "[25800005 16700845]\n",
            "[1200947 1004768 1005100 1005099 1005169 1004432 1005115]\n",
            "[1005073 1005014]\n",
            "[1003991 1003441 1003774 8800442]\n",
            "[12300231 12300066]\n",
            "[1004856 1004858 1004872]\n",
            "[9300035 9300034]\n",
            "[12709740 12710304 12711986]\n",
            "[6200688 6200315]\n",
            "[16700605 16700027 12000213 12702049]\n",
            "[1004750 1004856]\n",
            "[1004833 1004870 1004873 1005014]\n",
            "[1005006 1005084]\n",
            "[12707674 12715633]\n",
            "[1005115 1005105]\n",
            "[ 1004258  1004253  1005139  1003311  1005115  1005112 31200669  1801690]\n",
            "[ 3900003 22700084 22700078 22700096 22700742 22700740 22700042 22700080\n",
            " 22700822 22700844 22700745 22700063 22700746 22700068 22700067]\n",
            "[21404417 21408474 21411298 21400572 21400847 21409052 21410288 21411312\n",
            " 21411300 21401435 21402006 21404180 21406260]\n",
            "[12707959 12712333 12705292 12704781 12719134 12712064 12709953 12711990\n",
            " 12718559 12711949 12706363 12719040]\n",
            "[12500753 12500289 12500527]\n",
            "[1004838 1004768 1004781 1004708 1004720 1004794 1005003 1004990 1004321\n",
            " 1005022 1004991 1005069 1004937 1004449 1004813 1005156 1004727 1005157]\n",
            "[1005002 1005003 1004956 1004958]\n",
            "[21401322 21405784 21410256 21408569 21405339]\n",
            "[6000197 6000237 6000271]\n",
            "[1002527 1003304 1002532 1003310 1003313]\n",
            "[2600801 2602135 2601094 2602037 2600446]\n",
            "[13101215 13101252 13100788]\n",
            "[21409662 21410498 21407166 21406789 21407092]\n",
            "[ 2900200  2900536  4600542 19400021]\n",
            "[26300094 26403471 26403599 26403598 26402932 26403627 26400958 26403623\n",
            " 26402748 26403615 26403468 26403198 26403631 26402504 26402747 26402949\n",
            " 26400361]\n",
            "[38900027 38900046]\n",
            "[12710326 12719438]\n",
            "[28719273 28717895 28719067]\n",
            "[27900032 27900017 27900004 27900034 27900037 27900007 27900056 27900026\n",
            " 27900044]\n",
            "[ 1004750 38700003 38700002]\n",
            "[1004856 1004833 1004805 1004564]\n",
            "[23000199  5701214  5701112]\n",
            "[4803682 4801928 4804409 9200616 9101365 1700954 6500658 6500700]\n",
            "[5100551 5100491 5100846]\n",
            "[5100835 5100816]\n",
            "[15100370 15100337]\n",
            "[1005115 1004237 1005135]\n",
            "[12720166 12710449]\n",
            "[12709927 12700456]\n",
            "[28400775 29700027 26300085]\n",
            "[ 8500143 12716117]\n",
            "[1500021 1500399 2701737 2800440 2800048]\n",
            "[28716983 49400035 37500560]\n",
            "[4804056 4804295]\n",
            "[3600163 3600452 3601248]\n",
            "[1004838 1005022 1004785 1307073 1307074 1307187 1306569 1307136 1307035\n",
            " 1307342 1304849 1306571 1304808 1306449 1306544]\n",
            "[ 1004767 21402653 28715970]\n",
            "[21407102 21411235 21407166]\n",
            "[12703498 12709470]\n",
            "[1004856 1004858]\n",
            "[ 5100816 11400268]\n",
            "[26200140 26200214 26200061 26402644 26403284 26403347 26203488 26403212]\n",
            "[15100362 15100127]\n"
          ]
        }
      ]
    },
    {
      "cell_type": "code",
      "source": [
        "re_order_count = df[df['event_type']=='purchase'].groupby(['product_id','user_id'])['event_type'].count()\n",
        "for i in range(len(re_order_count)):\n",
        "  \n",
        "# for i,j zip(re_order_count.index[0], re_order_count[1]):\n"
      ],
      "metadata": {
        "colab": {
          "base_uri": "https://localhost:8080/"
        },
        "id": "faq2kPLFKLx2",
        "outputId": "0af8cc1e-32f9-47e3-9bd5-f15bd86fedef"
      },
      "execution_count": null,
      "outputs": [
        {
          "output_type": "execute_result",
          "data": {
            "text/plain": [
              "MultiIndex([( 1000978, 517432921),\n",
              "            ( 1000978, 518478766),\n",
              "            ( 1000978, 532945616),\n",
              "            ( 1000978, 543856131),\n",
              "            ( 1000978, 547479795),\n",
              "            ( 1000978, 559680841),\n",
              "            ( 1000978, 560163787),\n",
              "            ( 1000978, 561564140),\n",
              "            ( 1000978, 564224920),\n",
              "            ( 1000978, 565469756),\n",
              "            ...\n",
              "            (60400006, 512981817),\n",
              "            (60500001, 531271515),\n",
              "            (60500001, 553184946),\n",
              "            (60500001, 555658150),\n",
              "            (60500001, 558801181),\n",
              "            (60500002, 513065871),\n",
              "            (60500002, 517647881),\n",
              "            (60500002, 526608637),\n",
              "            (60500002, 556102277),\n",
              "            (60500009, 514446250)],\n",
              "           names=['product_id', 'user_id'], length=558484)"
            ]
          },
          "metadata": {},
          "execution_count": 30
        }
      ]
    },
    {
      "cell_type": "code",
      "source": [
        ""
      ],
      "metadata": {
        "id": "47Pa4CY7KWBA"
      },
      "execution_count": null,
      "outputs": []
    },
    {
      "cell_type": "code",
      "source": [
        "for i in df[df['event_type']=='purchase']:\n",
        "  df[df['product_id']==i['product_id']"
      ],
      "metadata": {
        "colab": {
          "base_uri": "https://localhost:8080/"
        },
        "id": "MFOy1OKGjfxq",
        "outputId": "5014bf7e-35f8-403b-adb7-cc088762f85e"
      },
      "execution_count": null,
      "outputs": [
        {
          "output_type": "execute_result",
          "data": {
            "text/plain": [
              "['brand',\n",
              " 'category_code',\n",
              " 'category_id',\n",
              " 'event_time',\n",
              " 'event_type',\n",
              " 'price',\n",
              " 'product_id',\n",
              " 'user_id',\n",
              " 'user_session']"
            ]
          },
          "metadata": {},
          "execution_count": 20
        }
      ]
    },
    {
      "cell_type": "code",
      "source": [
        ""
      ],
      "metadata": {
        "id": "RiDIcvjWjfqP"
      },
      "execution_count": null,
      "outputs": []
    },
    {
      "cell_type": "code",
      "source": [
        ""
      ],
      "metadata": {
        "id": "2s9jCcEJjfm7"
      },
      "execution_count": null,
      "outputs": []
    },
    {
      "cell_type": "code",
      "source": [
        "from datetime import datetime\n",
        "import matplotlib.pyplot as plt\n",
        "from matplotlib import dates\n",
        "\n",
        "\n",
        "# datetime.strptime(df['date'][0], '%Y-%m-%d %H:%M:%S')\n",
        "\n",
        "plt.figure()\n",
        "plt.plot(df.groupby('date').sum()['price'], 'b.-')\n",
        "plt.xticks(rotation=45)\n",
        "ax = plt.gca()\n",
        "ax.xaxis.set_major_locator(dates.MinuteLocator())"
      ],
      "metadata": {
        "id": "fnBEFgIhRWfl"
      },
      "execution_count": null,
      "outputs": []
    },
    {
      "cell_type": "code",
      "source": [
        "import pandas as pd\n",
        "import json\n",
        "\n",
        "json_file_path = '/content/drive/MyDrive/스마트폰_로그_데이터셋.json'\n",
        "\n",
        "with open(json_file_path, 'r') as j:\n",
        "  json.loads(j.read())\n"
      ],
      "metadata": {
        "colab": {
          "base_uri": "https://localhost:8080/",
          "height": 363
        },
        "id": "fbPmjbFXUaPP",
        "outputId": "f49b2e64-c9cc-4bdb-f67a-e78f228cfce5"
      },
      "execution_count": null,
      "outputs": [
        {
          "output_type": "error",
          "ename": "JSONDecodeError",
          "evalue": "ignored",
          "traceback": [
            "\u001b[0;31m---------------------------------------------------------------------------\u001b[0m",
            "\u001b[0;31mJSONDecodeError\u001b[0m                           Traceback (most recent call last)",
            "\u001b[0;32m<ipython-input-2-4d660bfc730e>\u001b[0m in \u001b[0;36m<module>\u001b[0;34m()\u001b[0m\n\u001b[1;32m      5\u001b[0m \u001b[0;34m\u001b[0m\u001b[0m\n\u001b[1;32m      6\u001b[0m \u001b[0;32mwith\u001b[0m \u001b[0mopen\u001b[0m\u001b[0;34m(\u001b[0m\u001b[0mjson_file_path\u001b[0m\u001b[0;34m,\u001b[0m \u001b[0;34m'r'\u001b[0m\u001b[0;34m)\u001b[0m \u001b[0;32mas\u001b[0m \u001b[0mj\u001b[0m\u001b[0;34m:\u001b[0m\u001b[0;34m\u001b[0m\u001b[0;34m\u001b[0m\u001b[0m\n\u001b[0;32m----> 7\u001b[0;31m   \u001b[0mjson\u001b[0m\u001b[0;34m.\u001b[0m\u001b[0mloads\u001b[0m\u001b[0;34m(\u001b[0m\u001b[0mj\u001b[0m\u001b[0;34m.\u001b[0m\u001b[0mread\u001b[0m\u001b[0;34m(\u001b[0m\u001b[0;34m)\u001b[0m\u001b[0;34m)\u001b[0m\u001b[0;34m\u001b[0m\u001b[0;34m\u001b[0m\u001b[0m\n\u001b[0m",
            "\u001b[0;32m/usr/lib/python3.7/json/__init__.py\u001b[0m in \u001b[0;36mloads\u001b[0;34m(s, encoding, cls, object_hook, parse_float, parse_int, parse_constant, object_pairs_hook, **kw)\u001b[0m\n\u001b[1;32m    346\u001b[0m             \u001b[0mparse_int\u001b[0m \u001b[0;32mis\u001b[0m \u001b[0;32mNone\u001b[0m \u001b[0;32mand\u001b[0m \u001b[0mparse_float\u001b[0m \u001b[0;32mis\u001b[0m \u001b[0;32mNone\u001b[0m \u001b[0;32mand\u001b[0m\u001b[0;34m\u001b[0m\u001b[0;34m\u001b[0m\u001b[0m\n\u001b[1;32m    347\u001b[0m             parse_constant is None and object_pairs_hook is None and not kw):\n\u001b[0;32m--> 348\u001b[0;31m         \u001b[0;32mreturn\u001b[0m \u001b[0m_default_decoder\u001b[0m\u001b[0;34m.\u001b[0m\u001b[0mdecode\u001b[0m\u001b[0;34m(\u001b[0m\u001b[0ms\u001b[0m\u001b[0;34m)\u001b[0m\u001b[0;34m\u001b[0m\u001b[0;34m\u001b[0m\u001b[0m\n\u001b[0m\u001b[1;32m    349\u001b[0m     \u001b[0;32mif\u001b[0m \u001b[0mcls\u001b[0m \u001b[0;32mis\u001b[0m \u001b[0;32mNone\u001b[0m\u001b[0;34m:\u001b[0m\u001b[0;34m\u001b[0m\u001b[0;34m\u001b[0m\u001b[0m\n\u001b[1;32m    350\u001b[0m         \u001b[0mcls\u001b[0m \u001b[0;34m=\u001b[0m \u001b[0mJSONDecoder\u001b[0m\u001b[0;34m\u001b[0m\u001b[0;34m\u001b[0m\u001b[0m\n",
            "\u001b[0;32m/usr/lib/python3.7/json/decoder.py\u001b[0m in \u001b[0;36mdecode\u001b[0;34m(self, s, _w)\u001b[0m\n\u001b[1;32m    335\u001b[0m \u001b[0;34m\u001b[0m\u001b[0m\n\u001b[1;32m    336\u001b[0m         \"\"\"\n\u001b[0;32m--> 337\u001b[0;31m         \u001b[0mobj\u001b[0m\u001b[0;34m,\u001b[0m \u001b[0mend\u001b[0m \u001b[0;34m=\u001b[0m \u001b[0mself\u001b[0m\u001b[0;34m.\u001b[0m\u001b[0mraw_decode\u001b[0m\u001b[0;34m(\u001b[0m\u001b[0ms\u001b[0m\u001b[0;34m,\u001b[0m \u001b[0midx\u001b[0m\u001b[0;34m=\u001b[0m\u001b[0m_w\u001b[0m\u001b[0;34m(\u001b[0m\u001b[0ms\u001b[0m\u001b[0;34m,\u001b[0m \u001b[0;36m0\u001b[0m\u001b[0;34m)\u001b[0m\u001b[0;34m.\u001b[0m\u001b[0mend\u001b[0m\u001b[0;34m(\u001b[0m\u001b[0;34m)\u001b[0m\u001b[0;34m)\u001b[0m\u001b[0;34m\u001b[0m\u001b[0;34m\u001b[0m\u001b[0m\n\u001b[0m\u001b[1;32m    338\u001b[0m         \u001b[0mend\u001b[0m \u001b[0;34m=\u001b[0m \u001b[0m_w\u001b[0m\u001b[0;34m(\u001b[0m\u001b[0ms\u001b[0m\u001b[0;34m,\u001b[0m \u001b[0mend\u001b[0m\u001b[0;34m)\u001b[0m\u001b[0;34m.\u001b[0m\u001b[0mend\u001b[0m\u001b[0;34m(\u001b[0m\u001b[0;34m)\u001b[0m\u001b[0;34m\u001b[0m\u001b[0;34m\u001b[0m\u001b[0m\n\u001b[1;32m    339\u001b[0m         \u001b[0;32mif\u001b[0m \u001b[0mend\u001b[0m \u001b[0;34m!=\u001b[0m \u001b[0mlen\u001b[0m\u001b[0;34m(\u001b[0m\u001b[0ms\u001b[0m\u001b[0;34m)\u001b[0m\u001b[0;34m:\u001b[0m\u001b[0;34m\u001b[0m\u001b[0;34m\u001b[0m\u001b[0m\n",
            "\u001b[0;32m/usr/lib/python3.7/json/decoder.py\u001b[0m in \u001b[0;36mraw_decode\u001b[0;34m(self, s, idx)\u001b[0m\n\u001b[1;32m    351\u001b[0m         \"\"\"\n\u001b[1;32m    352\u001b[0m         \u001b[0;32mtry\u001b[0m\u001b[0;34m:\u001b[0m\u001b[0;34m\u001b[0m\u001b[0;34m\u001b[0m\u001b[0m\n\u001b[0;32m--> 353\u001b[0;31m             \u001b[0mobj\u001b[0m\u001b[0;34m,\u001b[0m \u001b[0mend\u001b[0m \u001b[0;34m=\u001b[0m \u001b[0mself\u001b[0m\u001b[0;34m.\u001b[0m\u001b[0mscan_once\u001b[0m\u001b[0;34m(\u001b[0m\u001b[0ms\u001b[0m\u001b[0;34m,\u001b[0m \u001b[0midx\u001b[0m\u001b[0;34m)\u001b[0m\u001b[0;34m\u001b[0m\u001b[0;34m\u001b[0m\u001b[0m\n\u001b[0m\u001b[1;32m    354\u001b[0m         \u001b[0;32mexcept\u001b[0m \u001b[0mStopIteration\u001b[0m \u001b[0;32mas\u001b[0m \u001b[0merr\u001b[0m\u001b[0;34m:\u001b[0m\u001b[0;34m\u001b[0m\u001b[0;34m\u001b[0m\u001b[0m\n\u001b[1;32m    355\u001b[0m             \u001b[0;32mraise\u001b[0m \u001b[0mJSONDecodeError\u001b[0m\u001b[0;34m(\u001b[0m\u001b[0;34m\"Expecting value\"\u001b[0m\u001b[0;34m,\u001b[0m \u001b[0ms\u001b[0m\u001b[0;34m,\u001b[0m \u001b[0merr\u001b[0m\u001b[0;34m.\u001b[0m\u001b[0mvalue\u001b[0m\u001b[0;34m)\u001b[0m \u001b[0;32mfrom\u001b[0m \u001b[0;32mNone\u001b[0m\u001b[0;34m\u001b[0m\u001b[0;34m\u001b[0m\u001b[0m\n",
            "\u001b[0;31mJSONDecodeError\u001b[0m: Expecting property name enclosed in double quotes: line 15632413 column 32 (char 431674810)"
          ]
        }
      ]
    },
    {
      "cell_type": "code",
      "source": [
        "import pandas as pd\n",
        "\n",
        "df = pd.read_csv('/content/drive/MyDrive/smartphon_1.csv')\n"
      ],
      "metadata": {
        "colab": {
          "base_uri": "https://localhost:8080/",
          "height": 250
        },
        "id": "0SXU9OWdFVE_",
        "outputId": "856246c8-7a50-46bd-cdb5-ad4d4fe369c7"
      },
      "execution_count": null,
      "outputs": [
        {
          "output_type": "execute_result",
          "data": {
            "text/plain": [
              "   id      timestamp  utcoffset                        subject_id source_type  \\\n",
              "0   4  1540790989686          9  2099efc17d719274924b8c81543c7972       PHONE   \n",
              "1   7  1540790994228          9  2099efc17d719274924b8c81543c7972       PHONE   \n",
              "2  10  1540790994420          9  2099efc17d719274924b8c81543c7972       PHONE   \n",
              "3  13  1540790994486          9  2099efc17d719274924b8c81543c7972       PHONE   \n",
              "4  16  1540791001635          9  2099efc17d719274924b8c81543c7972       PHONE   \n",
              "\n",
              "            source_info          package_name  name  is_system_app  \\\n",
              "0  samsung-SM-G928S-7.0  com.nhn.android.band  BAND              0   \n",
              "1  samsung-SM-G928S-7.0  com.nhn.android.band  BAND              0   \n",
              "2  samsung-SM-G928S-7.0  com.nhn.android.band  BAND              0   \n",
              "3  samsung-SM-G928S-7.0  com.nhn.android.band  BAND              0   \n",
              "4  samsung-SM-G928S-7.0  com.nhn.android.band  BAND              0   \n",
              "\n",
              "   is_updated_system_app                type  \n",
              "0                      0    USER_INTERACTION  \n",
              "1                      0  MOVE_TO_FOREGROUND  \n",
              "2                      0  MOVE_TO_BACKGROUND  \n",
              "3                      0  MOVE_TO_FOREGROUND  \n",
              "4                      0  MOVE_TO_BACKGROUND  "
            ],
            "text/html": [
              "\n",
              "  <div id=\"df-ca81c6b0-2e5e-4e49-8c4b-b7a1be334c12\">\n",
              "    <div class=\"colab-df-container\">\n",
              "      <div>\n",
              "<style scoped>\n",
              "    .dataframe tbody tr th:only-of-type {\n",
              "        vertical-align: middle;\n",
              "    }\n",
              "\n",
              "    .dataframe tbody tr th {\n",
              "        vertical-align: top;\n",
              "    }\n",
              "\n",
              "    .dataframe thead th {\n",
              "        text-align: right;\n",
              "    }\n",
              "</style>\n",
              "<table border=\"1\" class=\"dataframe\">\n",
              "  <thead>\n",
              "    <tr style=\"text-align: right;\">\n",
              "      <th></th>\n",
              "      <th>id</th>\n",
              "      <th>timestamp</th>\n",
              "      <th>utcoffset</th>\n",
              "      <th>subject_id</th>\n",
              "      <th>source_type</th>\n",
              "      <th>source_info</th>\n",
              "      <th>package_name</th>\n",
              "      <th>name</th>\n",
              "      <th>is_system_app</th>\n",
              "      <th>is_updated_system_app</th>\n",
              "      <th>type</th>\n",
              "    </tr>\n",
              "  </thead>\n",
              "  <tbody>\n",
              "    <tr>\n",
              "      <th>0</th>\n",
              "      <td>4</td>\n",
              "      <td>1540790989686</td>\n",
              "      <td>9</td>\n",
              "      <td>2099efc17d719274924b8c81543c7972</td>\n",
              "      <td>PHONE</td>\n",
              "      <td>samsung-SM-G928S-7.0</td>\n",
              "      <td>com.nhn.android.band</td>\n",
              "      <td>BAND</td>\n",
              "      <td>0</td>\n",
              "      <td>0</td>\n",
              "      <td>USER_INTERACTION</td>\n",
              "    </tr>\n",
              "    <tr>\n",
              "      <th>1</th>\n",
              "      <td>7</td>\n",
              "      <td>1540790994228</td>\n",
              "      <td>9</td>\n",
              "      <td>2099efc17d719274924b8c81543c7972</td>\n",
              "      <td>PHONE</td>\n",
              "      <td>samsung-SM-G928S-7.0</td>\n",
              "      <td>com.nhn.android.band</td>\n",
              "      <td>BAND</td>\n",
              "      <td>0</td>\n",
              "      <td>0</td>\n",
              "      <td>MOVE_TO_FOREGROUND</td>\n",
              "    </tr>\n",
              "    <tr>\n",
              "      <th>2</th>\n",
              "      <td>10</td>\n",
              "      <td>1540790994420</td>\n",
              "      <td>9</td>\n",
              "      <td>2099efc17d719274924b8c81543c7972</td>\n",
              "      <td>PHONE</td>\n",
              "      <td>samsung-SM-G928S-7.0</td>\n",
              "      <td>com.nhn.android.band</td>\n",
              "      <td>BAND</td>\n",
              "      <td>0</td>\n",
              "      <td>0</td>\n",
              "      <td>MOVE_TO_BACKGROUND</td>\n",
              "    </tr>\n",
              "    <tr>\n",
              "      <th>3</th>\n",
              "      <td>13</td>\n",
              "      <td>1540790994486</td>\n",
              "      <td>9</td>\n",
              "      <td>2099efc17d719274924b8c81543c7972</td>\n",
              "      <td>PHONE</td>\n",
              "      <td>samsung-SM-G928S-7.0</td>\n",
              "      <td>com.nhn.android.band</td>\n",
              "      <td>BAND</td>\n",
              "      <td>0</td>\n",
              "      <td>0</td>\n",
              "      <td>MOVE_TO_FOREGROUND</td>\n",
              "    </tr>\n",
              "    <tr>\n",
              "      <th>4</th>\n",
              "      <td>16</td>\n",
              "      <td>1540791001635</td>\n",
              "      <td>9</td>\n",
              "      <td>2099efc17d719274924b8c81543c7972</td>\n",
              "      <td>PHONE</td>\n",
              "      <td>samsung-SM-G928S-7.0</td>\n",
              "      <td>com.nhn.android.band</td>\n",
              "      <td>BAND</td>\n",
              "      <td>0</td>\n",
              "      <td>0</td>\n",
              "      <td>MOVE_TO_BACKGROUND</td>\n",
              "    </tr>\n",
              "  </tbody>\n",
              "</table>\n",
              "</div>\n",
              "      <button class=\"colab-df-convert\" onclick=\"convertToInteractive('df-ca81c6b0-2e5e-4e49-8c4b-b7a1be334c12')\"\n",
              "              title=\"Convert this dataframe to an interactive table.\"\n",
              "              style=\"display:none;\">\n",
              "        \n",
              "  <svg xmlns=\"http://www.w3.org/2000/svg\" height=\"24px\"viewBox=\"0 0 24 24\"\n",
              "       width=\"24px\">\n",
              "    <path d=\"M0 0h24v24H0V0z\" fill=\"none\"/>\n",
              "    <path d=\"M18.56 5.44l.94 2.06.94-2.06 2.06-.94-2.06-.94-.94-2.06-.94 2.06-2.06.94zm-11 1L8.5 8.5l.94-2.06 2.06-.94-2.06-.94L8.5 2.5l-.94 2.06-2.06.94zm10 10l.94 2.06.94-2.06 2.06-.94-2.06-.94-.94-2.06-.94 2.06-2.06.94z\"/><path d=\"M17.41 7.96l-1.37-1.37c-.4-.4-.92-.59-1.43-.59-.52 0-1.04.2-1.43.59L10.3 9.45l-7.72 7.72c-.78.78-.78 2.05 0 2.83L4 21.41c.39.39.9.59 1.41.59.51 0 1.02-.2 1.41-.59l7.78-7.78 2.81-2.81c.8-.78.8-2.07 0-2.86zM5.41 20L4 18.59l7.72-7.72 1.47 1.35L5.41 20z\"/>\n",
              "  </svg>\n",
              "      </button>\n",
              "      \n",
              "  <style>\n",
              "    .colab-df-container {\n",
              "      display:flex;\n",
              "      flex-wrap:wrap;\n",
              "      gap: 12px;\n",
              "    }\n",
              "\n",
              "    .colab-df-convert {\n",
              "      background-color: #E8F0FE;\n",
              "      border: none;\n",
              "      border-radius: 50%;\n",
              "      cursor: pointer;\n",
              "      display: none;\n",
              "      fill: #1967D2;\n",
              "      height: 32px;\n",
              "      padding: 0 0 0 0;\n",
              "      width: 32px;\n",
              "    }\n",
              "\n",
              "    .colab-df-convert:hover {\n",
              "      background-color: #E2EBFA;\n",
              "      box-shadow: 0px 1px 2px rgba(60, 64, 67, 0.3), 0px 1px 3px 1px rgba(60, 64, 67, 0.15);\n",
              "      fill: #174EA6;\n",
              "    }\n",
              "\n",
              "    [theme=dark] .colab-df-convert {\n",
              "      background-color: #3B4455;\n",
              "      fill: #D2E3FC;\n",
              "    }\n",
              "\n",
              "    [theme=dark] .colab-df-convert:hover {\n",
              "      background-color: #434B5C;\n",
              "      box-shadow: 0px 1px 3px 1px rgba(0, 0, 0, 0.15);\n",
              "      filter: drop-shadow(0px 1px 2px rgba(0, 0, 0, 0.3));\n",
              "      fill: #FFFFFF;\n",
              "    }\n",
              "  </style>\n",
              "\n",
              "      <script>\n",
              "        const buttonEl =\n",
              "          document.querySelector('#df-ca81c6b0-2e5e-4e49-8c4b-b7a1be334c12 button.colab-df-convert');\n",
              "        buttonEl.style.display =\n",
              "          google.colab.kernel.accessAllowed ? 'block' : 'none';\n",
              "\n",
              "        async function convertToInteractive(key) {\n",
              "          const element = document.querySelector('#df-ca81c6b0-2e5e-4e49-8c4b-b7a1be334c12');\n",
              "          const dataTable =\n",
              "            await google.colab.kernel.invokeFunction('convertToInteractive',\n",
              "                                                     [key], {});\n",
              "          if (!dataTable) return;\n",
              "\n",
              "          const docLinkHtml = 'Like what you see? Visit the ' +\n",
              "            '<a target=\"_blank\" href=https://colab.research.google.com/notebooks/data_table.ipynb>data table notebook</a>'\n",
              "            + ' to learn more about interactive tables.';\n",
              "          element.innerHTML = '';\n",
              "          dataTable['output_type'] = 'display_data';\n",
              "          await google.colab.output.renderOutput(dataTable, element);\n",
              "          const docLink = document.createElement('div');\n",
              "          docLink.innerHTML = docLinkHtml;\n",
              "          element.appendChild(docLink);\n",
              "        }\n",
              "      </script>\n",
              "    </div>\n",
              "  </div>\n",
              "  "
            ]
          },
          "metadata": {},
          "execution_count": 2
        }
      ]
    },
    {
      "cell_type": "code",
      "source": [
        "for i in range(33):\n",
        "  print(len(df[df['subject_id']==df['subject_id'].unique()[i]]))"
      ],
      "metadata": {
        "colab": {
          "base_uri": "https://localhost:8080/"
        },
        "id": "-6wrM2f4F43G",
        "outputId": "fde41365-d644-4087-a208-32b4c6828c76"
      },
      "execution_count": null,
      "outputs": [
        {
          "output_type": "stream",
          "name": "stdout",
          "text": [
            "23242\n",
            "47764\n",
            "76989\n",
            "57349\n",
            "67326\n",
            "29861\n",
            "50692\n",
            "24394\n",
            "51539\n",
            "129091\n",
            "51969\n",
            "39344\n",
            "51421\n",
            "33892\n",
            "20516\n",
            "682\n",
            "26971\n",
            "41334\n",
            "72934\n",
            "30124\n",
            "16615\n",
            "57593\n",
            "24304\n",
            "130600\n",
            "25739\n",
            "34508\n",
            "76860\n",
            "43688\n",
            "63364\n",
            "57133\n",
            "27382\n",
            "76904\n",
            "26214\n"
          ]
        }
      ]
    },
    {
      "cell_type": "code",
      "source": [
        "df['type'].unique()"
      ],
      "metadata": {
        "colab": {
          "base_uri": "https://localhost:8080/"
        },
        "id": "a0n4OWDRL1YE",
        "outputId": "8a2d76ee-4f55-428a-c49f-12347fa977cb"
      },
      "execution_count": null,
      "outputs": [
        {
          "output_type": "execute_result",
          "data": {
            "text/plain": [
              "array(['USER_INTERACTION', 'MOVE_TO_FOREGROUND', 'MOVE_TO_BACKGROUND',\n",
              "       'CONFIGURATION_CHANGE', 'NONE', 'SHORTCUT_INVOCATION'],\n",
              "      dtype=object)"
            ]
          },
          "metadata": {},
          "execution_count": 27
        }
      ]
    },
    {
      "cell_type": "code",
      "source": [
        "df['name'].unique()"
      ],
      "metadata": {
        "colab": {
          "base_uri": "https://localhost:8080/"
        },
        "id": "cJDPSurtcoo6",
        "outputId": "374753db-4ac6-424f-f8c2-dd56287d74d9"
      },
      "execution_count": null,
      "outputs": [
        {
          "output_type": "execute_result",
          "data": {
            "text/plain": [
              "array(['BAND', '연락처', 'TouchWiz 홈', '삼성 인터넷', 'Google', '전화', 'Fitbit',\n",
              "       'ABC Platform', '메시지', '알람/시간', '실행 중인 애플리케이션', 'Samsung Health',\n",
              "       '네이버 카페', '카카오톡', 'Burgerking', '모아락', '캐시워크',\n",
              "       'Samsung Experience 홈', '카메라', '안드로이드 시스템', 'L.POINT', '시스템 UI',\n",
              "       '하이웍스', '하이웍스 메신저', 'Samsung Pay', '내 파일', 'Polaris Office', 'NFC',\n",
              "       'LINE', '다운로드 관리자', 'PowerPoint', '설정', 'NAVER', 'CJ ONE', '코레일톡',\n",
              "       'Gear S Plugin', 'SR 고속열차', 'Melon', 'T map', '카카오뱅크', 'Instagram',\n",
              "       'KB스타뱅킹', 'KB스마트원 통합인증', 'Gmail', '마이\\n홈플러스', '원터치알림', 'CLiP',\n",
              "       '원터치개인', '시계', '위비멤버스', 'AhnLab V3 Mobile Plus 2.0', 'KB스타알림',\n",
              "       '네이버TV', '날씨', 'Google Play 뮤직', 'Samsung Themes', '갤러리', '삼성 캡처',\n",
              "       '네이버 사전', 'Google Play 스토어', '머큐리코리아', 'NS홈쇼핑', 'Chrome',\n",
              "       'kt M모바일', 'KBO', '우리카드', '헤이카카오', '호텔스컴바인', '소프트웨어 업데이트',\n",
              "       'SBS고릴라', 'AhnLab V3 Mobile Security', 'Coinstep',\n",
              "       'CaptivePortalLogin', 'CGV', '업비트', '파인더', '음성 녹음', '후후', '네이버 지도',\n",
              "       '똑똑가계부', '카카오스토리', 'GS&POINT', '현대카드', '캘린더', '텔레그램', '점신',\n",
              "       'KT 멤버십', '영풍문고', '계산기', 'BLUE 현대오일뱅크 보너스카드', 'Facebook',\n",
              "       '고속버스 모바일', '칼로리코인지갑', '패키지 설치 프로그램', nan, '화해', 'The Day Before',\n",
              "       'OneDrive', '삼성카드', 'Podcast Addict', 'YouTube Music', 'Foodie',\n",
              "       '현대해상', '비디오 플레이어', '롯데홈쇼핑', 'SSG.COM', '현대Hmall', '모바일교보문고',\n",
              "       '11번가', 'YouTube', 'NFC 서비스', '다음', '원스토어', '핑크다이어리', 'KEB 하나은행',\n",
              "       'AliExpress', 'MBC mini', '쿠차', 'KB국민카드', 'ALSA', 'Briefing',\n",
              "       '모바일 T world', '방치타임', '이메일', 'Papago', '알바천국', '콴다 선생님', '디시인사이드',\n",
              "       'LIVE스코어', 'Mi 피트', 'Clean Master', 'Google Play 서비스', '네이버 메일',\n",
              "       '토스', 'T전화', 'T전화 통화', '삼성 클라우드', 'AIA Vitality T건강걷기',\n",
              "       'U+Box (클라우드)', 'QuestioN Diary', 'KLMS', 'ESPN', '삼성 키보드', '배달통',\n",
              "       '밥대생', 'V LIVE', '날씨정보', '네이버 웹툰', '알바몬', 'SNOW', 'AKB48 Mail',\n",
              "       '스마트 캡처', 'Quick Save', '플레이윙즈', '메모', 'MX 플레이어', 'T멤버십', '드라이브',\n",
              "       'T 안심', 'Word', 'Boomerang', '신한 FAN\\n(앱카드)', 'G마켓', '위디스크',\n",
              "       '롯데시네마', '카카오 T', '문서', '무료 공학용 계산기', 'Samsung Pass', '배경화면',\n",
              "       '포토 에디터', '위비뱅크', '인터파크 티켓', '트위터', '신한페이판', '텍뷰', 'SmartPush',\n",
              "       '사운드 선택기', '지도', '스프레드시트', 'S보이스', 'Smart\\u200bThings', '디바이스 관리',\n",
              "       'KAIST\\nPortal', 'Companion Device Manager', '키월렛 터치', '배달의민족',\n",
              "       '빅스비 홈', 'kong', 'Slack', 'Arirang Radio', 'TuneIn Radio',\n",
              "       '카카오지하철', '지하철종결자', '스타벅스', 'SecurityLogAgent', '카카오뮤직',\n",
              "       'VivaVideo', 'Nike\\u2060 Run Club', '스카이피플', '컬러노트', '티몬',\n",
              "       'EBS 반디', '블루투스', '삼성앱카드', '비디오 에디터', 'QR Scanner', 'Galaxy Apps',\n",
              "       '올레 tv 모바일', '원내비', '직방', '리브메이트', '1Q MTS', '해피포인트',\n",
              "       'KAIST Library', '빅스비 비전', 'WhatsApp', '티켓링크', 'Messenger', '다음웹툰',\n",
              "       '모바일\\n티머니', '스마트명세서', 'OTP', '하나알리미', 'Samsung Members',\n",
              "       'Samsung account', 'Samsung Experience Service', '맞춤형 서비스',\n",
              "       '마이 케이티', '투썸플레이스', 'BeautyPlus', 'KB앱카드', '음성 호출', 'InBody',\n",
              "       'SK엔카', '신세계', 'OK Cashbag', '파일', '인터파크 투어', '보안 폴더', 'PASS',\n",
              "       '연봉계산기', '아임쇼핑', '투어라이브', 'Samsung Music', '스토리 비디오 에디터',\n",
              "       '픽테일 - NewYork', 'Pinterest', 'ISP/페이북', 'T연락처', 'AfreecaTV',\n",
              "       'mVaccine for web', '옥션', 'Samsung Push Service',\n",
              "       '요금안내서 Bill Letter', 'Samsung Notes', '카카오홈', '넥슨플레이', '메이플스토리M',\n",
              "       '원스토어 서비스', '웨더퐁\\n날씨위젯', '한컴오피스 viewer', '메이플핸즈+', 'Discord', '태그',\n",
              "       'Netflix', 'oksusu', 'OP.GG', 'U-OTP+', 'Twitch', '시외버스\\n모바일',\n",
              "       '더캠프', '한국야쿠르트', 'My Data Manager', '대전버스', '내 지도', 'LFmall',\n",
              "       '사진 성형', '스마트 매니저', 'S플래너', '비디오', 'Sportractive', 'S보이스 앱',\n",
              "       '화면 캡처', '공차', 'PhotoFunia', '커피빈멤버스클럽', '카이스트 버스', '할리스커피', 'DMB',\n",
              "       '굿모닝 스페인어 사전', '비디오 에디터 Lite', 'EnStyle', '원더락', 'T 가드', 'Flud',\n",
              "       'Syrup 월렛', 'PAYCO', '클라우드베리', 'THE COUPLE', 'L.pay', 'VIBE',\n",
              "       'T pay', '지구', '리디북스', '다이닝코드', '롯데카드', '하이마트', 'Most', '네이버 클로바',\n",
              "       '미디어 저장공간', 'NGC 4388', '앱 설치 마법사', '빅스비 보이스',\n",
              "       '교보eBook for SAMSUNG', '알라딘 ebook', 'NUGU', '원스토어 북스', 'APT2you',\n",
              "       '비플릭스', '모바일팝', '나만의냉장고', '야나두', '비트소닉', '기프티콘', 'Workspace',\n",
              "       'Galaxy Wearable', 'Galaxy Watch PlugIn',\n",
              "       'Samsung Accessory Service', '한컴오피스', 'One Hand Operation +',\n",
              "       'EdgeLighting+', 'Edge screen', 'Good Lock 2018', 'Task Changer',\n",
              "       '루틴', '게임런처', '삼성 결제', 'Remote Link', 'Samsung Flow', '네이버 뮤직',\n",
              "       '리마인더', 'Samsung Pass 자동 완성', '프렌즈팝콘', '실행 프로그램', '오디오클립', '창세기전',\n",
              "       'Google Play 게임', '알람몬', '기본홈', '통화 서비스', '표류소녀',\n",
              "       'Neon Light Board', 'Android 시스템', '음악', '세컨드 스크린 설정', '서명 배경화면',\n",
              "       '스도쿠', 'Wi-Fi', '프레젠테이션', '신한카드', 'Android Easter Egg', '모비즌',\n",
              "       '동영상', 'LG System Server', '통화 화면', 'Shutdown Monitor', 'Q메모+',\n",
              "       '스크린샷 이지', '포토', '스마트택배', 'LG 키보드', '주소록', 'Collage Maker',\n",
              "       'Wolfram Alpha', '퀵툴', '카카오페이지', 'LGInstallService', '파일 관리자',\n",
              "       'QooApp', 'Laftel', '하나카드', 'Bluetooth', 'Steam', '피자', '네이버 클라우드',\n",
              "       '개복치', '제5인격', '블루라이트 차단 스크린 필터', 'KT WiFi접속', '배달요기요', 'Outlook',\n",
              "       'Canon PRINT Business', 'Skype', '지니 뮤직', 'Between', '위메프',\n",
              "       'GiGA Genie', '버스타고', 'life is a game', 'Smart Switch', '미디어팩',\n",
              "       '라디오', 'KT Shop', '삼성 계정', '게임툴즈', 'SoundAlive', 'People edge',\n",
              "       '에어 커맨드', '고객센터', 'Mendeley', '라이브 메시지', 'PENUP', 'Duo', '어시스턴트',\n",
              "       'ONE store redirector', 'OneNote', '솜노트', '번호 안내 서비스', '번역기',\n",
              "       'feedly', '프렌즈레이싱', '카카오내비', '전광판 LED', '마이 이모지 메이커', '소녀전선',\n",
              "       '벽람항로', 'Keep 메모', '무음 카메라', 'Gear Fit Plugin', 'Adobe Acrobat',\n",
              "       'Amaze', '우체국 스마트뱅킹', '롯데리아', '듀얼 메신저', 'Flightradar24',\n",
              "       'FFT Spectrum Analyzer', 'Wifi Analyzer', 'SoundHound', '사전',\n",
              "       'PUSH', '타임티켓', 'Moon+ Reader', 'Strava', '허니스크린', '젝시믹스', '삼성화재',\n",
              "       '홈&쇼핑', '롯데마트\\nM쿠폰', 'SSGPAY', 'JAM Live', '애니팡3', '위비톡',\n",
              "       'U+ 고객센터', '클래스팅', '안다르', '메가박스', '알약M', 'Fitbit Coach', 'Excel',\n",
              "       '모두의트레이닝', 'Focus To-Do', 'Authentication Framework', 'B612',\n",
              "       '신한 쏠(SOL)', 'Week Plan', 'Power Planner', 'S노트', 'MTP 애플리케이션',\n",
              "       '기본홈(홈&앱서랍)', 'LGSmartCover', '통화 관리', '알람/시계', '위베어베어스 더퍼즐',\n",
              "       '하나1Q페이', 'S-OIL 구도일 Family', '소리바다', '손에 잡히는 경제', '앱 업데이트',\n",
              "       'ipDISK', 'Pixel Launcher', 'Photo Wonder', '쏠캘린더', '편한가계부',\n",
              "       'Jaybird', 'Evernote', 'QuickPic', '쿠팡', '곰오디오', '갓피플성경',\n",
              "       '파일관리자 +', '스마트 닥터', 'LG 페이', 'Send Anywhere', 'CamScanner',\n",
              "       'Aviary', 'gStrings', '메트로놈', '업데이트 센터', 'UNIQLO', 'SmartSetting',\n",
              "       'M32-Q', '파일 보내기 및 받기', 'Quick Help Service', 'Castbox',\n",
              "       'JuiceSSH', 'LG 헬스', '이지홈', '홈 선택', 'AirVisual',\n",
              "       'Samsung Galaxy Friends', '넌얼마나쓰니', '카이스트 모바일 메일', '이마트몰',\n",
              "       'Harry Potter', '피키캐스트', 'FitDay', '오즈의타로', '내 캘린더', '신라면세점',\n",
              "       '후스콜', 'Tumblr', 'B tv 플러스', '롯데면세점', 'Runday', '타로마스터', '터치AK몰',\n",
              "       '데이트팝', '지그재그', '싸이메라', '카카오톡 치즈', 'LookPin', 'TeamViewer', '헬로우봇',\n",
              "       '번호안내서비스', '스마트 클리닝', '네트워크', '보이스 케어', 'KT 패밀리박스', '슬립 베터',\n",
              "       '뱅크샐러드', '외출전', '프렌즈팝', '추억 앨범', '나의최애캐(여)', '고음질 녹음', 'POOQ',\n",
              "       '애드투페이퍼', '퀵 비디오 편집기', 'Skyscanner', '땡처리닷컴', '콘텐츠 잠금',\n",
              "       'Helix Jump', '에어비앤비', 'Booking.com', '중고나라', 'TVING', '에브리타임',\n",
              "       'LoL 프렌즈', '아고다', '접근성', '하이브레인넷', '번역', 'LinkedIn 채용 공고 검색',\n",
              "       'LinkedIn', 'Medium', '네이버 메모', 'SPAC', 'SlideShare', '뭐야이번호',\n",
              "       '리멤버', '애드센스', 'ESLAB Collector', 'HTML 뷰어',\n",
              "       'Microsoft Remote Desktop', 'WeChat', 'CNN', 'VidyoMobile', '습관',\n",
              "       '좋은 카메라', '당근영어', '네이버 가계부', 'Watchlist', 'Snotify',\n",
              "       'TfLiteCameraDemo', 'KREDIT JOB', 'TensorFlow Demo', '\\xa0손전등',\n",
              "       '카닥', '우리반 알림장', '마이토킹톰', '爱奇艺HD', 'CJmall', '아이엠스쿨', '微信', '당근마켓',\n",
              "       '뮤직메이트', 'MILK', 'HelloTalk', '스페셜솔져', 'C.LINK Backup & Restore',\n",
              "       'T데이터쿠폰', '케이뱅크', '소리 감지', 'QingTingFM', 'Qoo10', '시스템 런처',\n",
              "       '연락처와 다이얼', 'InCallUI', '보안', '브라우저', '터치 도우미', '업데이트', '녹음기',\n",
              "       '공구마켓', '이 번호 안받아', 'Tasks edge', '뱃살 빼기', '삼성 TTS 엔진', '통화 차단기',\n",
              "       '왓챠플레이', 'Samsung+', 'Coffee Meets Bagel', '보안 Wi-Fi', '레진코믹스',\n",
              "       'OK Google enrollment', '카카오맵', '왓챠', '한컴오피스 에디터', '행아웃', '마인드카페',\n",
              "       'Apps edge', 'EdgeBlock', 'Kickstarter', 'EmergencyManagerService',\n",
              "       'Peak', 'CJ대한통운 택배', '11번가쇼킹딜', 'Xperia 홈', '뽐뿌', 'Cyworld',\n",
              "       '긴급 알림', '도돌 키보드', 'Blockfolio', '앨범', '다크어벤저3', 'Mi 홈', '배터리 관리',\n",
              "       'STAMINA 모드', 'FIDO UAF Client', 'Fingerprints ASM', '전화 서비스',\n",
              "       '키즈노트', '아이디어스', 'Qoo10 Global', \"What's New\", 'News Suite',\n",
              "       'USB 연결성', 'Movie Creator', '하나멤버스', '파일탐색기', '오디오 설정', '화면 미러링',\n",
              "       '스마트파인드라이브 Wi-Fi', '검은사막 모바일', '메모리', 'Lounge', 'SpectroCoin',\n",
              "       '홈플러스', '스타뱅킹미니', '인터파크', 'TubeDown', 'i-ONE뱅크', 'MG새마을금고',\n",
              "       '퀵 커넥트', '꼼꼼달력메모', 'NH뱅킹', '카카오스탁',\n",
              "       'com.sec.android.app.wfdbroker', '소임', '280days', '클래시 로얄',\n",
              "       '프렌즈타워', '삼성화재 다이렉트', '배틀그라운드', 'XPlayer', 'K Car', '잡플래닛',\n",
              "       '미스터피자', 'Yatse', 'KB차차차', '여행박사', 'Inbox', '모바일 네트워크', '라디오 미국',\n",
              "       '마카롱', 'DB손해보험', '나무위키', 'Shazam', 'My Application', 'Dropbox',\n",
              "       'KAIST 셔틀', '영웅문S', '카카오스탁 거래용', 'RedKiwi', 'KM플레이어', 'Dropsync',\n",
              "       '팟빵', 'Forest', 'Meitu', 'SmartThings', 'SPOTVNOW', 'DB손해보험 다이렉트',\n",
              "       '야놀자', 'SnoreLab', 'Trello', '오베이', '원센텐스', 'Moments', '호텔나우',\n",
              "       '어썸블로그', 'FaceApp', '네이버 지식iN', '인쇄 스풀러', '삼성 프린트 서비스 플러그인',\n",
              "       '일본라디오', 'ラジオ日本', '빗썸', '네이버 블로그', 'Samsung Gear', 'TISTORY',\n",
              "       '트레저 크루즈', '1분일본어', 'NHK News', 'SK stoa', 'Samsung ApexService',\n",
              "       'Samsung Pay (Gear plug-in)', 'Pacer', 'NH투자증권 QV', '다음카페',\n",
              "       'DB Navigator', '마이리얼트립', 'FlixBus', '에버랜드', 'SBB Mobile', '대한항공',\n",
              "       'KAYAK', 'Fly Delta', 'Timestamp', '삼성증권 mPOP', '홈쇼핑모아', '미세미세',\n",
              "       'DailyArt', '위키백과', 'MapMyRun', 'Android Auto', '스마일페이',\n",
              "       '30일만에 식스팩 만들기', 'Snapchat', 'Tinder', 'RealClass', '단기PLAYER',\n",
              "       '카카오 T 카풀 크루용', 'U+멤버스', '암기고래', 'U+프로야구', '잡코리아', 'GrimTalk',\n",
              "       'Mnet', 'Pokémon GO', 'StyleShare', 'Ruler', 'CLASSUM',\n",
              "       'Text Scanner', 'AnalogParis', '카카오버스', 'Yumi', '더데이', '캐시슬라이드',\n",
              "       '네이트', 'Facebook App Manager', '한화생명', '이디야멤버스', 'blind', '오픈라이더',\n",
              "       '운세의신', '유안타증권', '땡큐캠핑', '설치 마법사', '삼성 설정 마법사', '구성 업데이트',\n",
              "       'Smart Switch 에이전트', '전화 모드 설정', 'PreloadApp', 'Puzzly',\n",
              "       'Time Zone Updater', 'Samsung Pass로 자동 입력', '파일노리',\n",
              "       'Google Play 무비', '틸리언', '카카오 T 대리 기사용', '램블러', '루가', '모바일증권 나무',\n",
              "       'NH스마트인증', '코인마스터', 'YT Kids', '코인원', 'Hotels.com', '그린카', 'Uber',\n",
              "       'Sleep Cycle', '택배파인더', 'Teamup', '연애의과학', 'Gardenscapes',\n",
              "       '스와이프 벽돌깨기', 'Collage Maker Pic Grid', 'AccuBattery', '잠금화면 설정',\n",
              "       'EyeFilter', '호갱노노', 'X-plore', '내 멤버십 카드', '네이버 부동산',\n",
              "       'MX 플레이어 Pro', 'Opera', '키위플레이', 'TubeMate', 'MP3 Video Converter',\n",
              "       '더더더', 'Q리모트', 'Currency'], dtype=object)"
            ]
          },
          "metadata": {},
          "execution_count": 28
        }
      ]
    },
    {
      "cell_type": "code",
      "source": [
        "df[df['subject_id']==df['subject_id'].unique()[1]]"
      ],
      "metadata": {
        "colab": {
          "base_uri": "https://localhost:8080/",
          "height": 939
        },
        "id": "bFZdk-E2G3yB",
        "outputId": "cc868e7c-1e5c-4eed-8169-42811fedab3b"
      },
      "execution_count": null,
      "outputs": [
        {
          "output_type": "execute_result",
          "data": {
            "text/plain": [
              "              id      timestamp  utcoffset                        subject_id  \\\n",
              "180          544  1540765803075          9  7c1a65e1496fc1e1702a8910e13be1b9   \n",
              "181          547  1540765803086          9  7c1a65e1496fc1e1702a8910e13be1b9   \n",
              "182          550  1540765805069          9  7c1a65e1496fc1e1702a8910e13be1b9   \n",
              "183          553  1540765810494          9  7c1a65e1496fc1e1702a8910e13be1b9   \n",
              "184          556  1540765810584          9  7c1a65e1496fc1e1702a8910e13be1b9   \n",
              "...          ...            ...        ...                               ...   \n",
              "1086414  1105887  1540758799216          9  7c1a65e1496fc1e1702a8910e13be1b9   \n",
              "1086415  1105888  1540758799226          9  7c1a65e1496fc1e1702a8910e13be1b9   \n",
              "1086416  1105889  1540758799708          9  7c1a65e1496fc1e1702a8910e13be1b9   \n",
              "1086417  1105890  1540758799709          9  7c1a65e1496fc1e1702a8910e13be1b9   \n",
              "1086418  1105891  1540765194750          9  7c1a65e1496fc1e1702a8910e13be1b9   \n",
              "\n",
              "        source_type             source_info                      package_name  \\\n",
              "180           PHONE  samsung-SM-N910K-6.0.1  com.sec.android.app.clockpackage   \n",
              "181           PHONE  samsung-SM-N910K-6.0.1  com.sec.android.app.clockpackage   \n",
              "182           PHONE  samsung-SM-N910K-6.0.1  com.sec.android.app.clockpackage   \n",
              "183           PHONE  samsung-SM-N910K-6.0.1  com.sec.android.app.clockpackage   \n",
              "184           PHONE  samsung-SM-N910K-6.0.1   com.sec.android.app.taskmanager   \n",
              "...             ...                     ...                               ...   \n",
              "1086414       PHONE  samsung-SM-N910K-6.0.1            kvp.jjy.MispAndroid320   \n",
              "1086415       PHONE  samsung-SM-N910K-6.0.1            kvp.jjy.MispAndroid320   \n",
              "1086416       PHONE  samsung-SM-N910K-6.0.1   com.sec.android.app.taskmanager   \n",
              "1086417       PHONE  samsung-SM-N910K-6.0.1   com.sec.android.app.taskmanager   \n",
              "1086418       PHONE  samsung-SM-N910K-6.0.1                   com.android.mms   \n",
              "\n",
              "                 name  is_system_app  is_updated_system_app  \\\n",
              "180             알람/시간              1                      0   \n",
              "181             알람/시간              1                      0   \n",
              "182             알람/시간              1                      0   \n",
              "183             알람/시간              1                      0   \n",
              "184      실행 중인 애플리케이션              1                      0   \n",
              "...               ...            ...                    ...   \n",
              "1086414       ISP/페이북              0                      0   \n",
              "1086415       ISP/페이북              0                      0   \n",
              "1086416  실행 중인 애플리케이션              1                      0   \n",
              "1086417  실행 중인 애플리케이션              1                      0   \n",
              "1086418           메시지              1                      0   \n",
              "\n",
              "                       type  \n",
              "180      MOVE_TO_FOREGROUND  \n",
              "181      MOVE_TO_BACKGROUND  \n",
              "182      MOVE_TO_FOREGROUND  \n",
              "183      MOVE_TO_BACKGROUND  \n",
              "184      MOVE_TO_FOREGROUND  \n",
              "...                     ...  \n",
              "1086414  MOVE_TO_FOREGROUND  \n",
              "1086415  MOVE_TO_BACKGROUND  \n",
              "1086416  MOVE_TO_BACKGROUND  \n",
              "1086417  MOVE_TO_FOREGROUND  \n",
              "1086418    USER_INTERACTION  \n",
              "\n",
              "[47764 rows x 11 columns]"
            ],
            "text/html": [
              "\n",
              "  <div id=\"df-040ecf1b-82ad-458c-9d6c-67bcd2f04be8\">\n",
              "    <div class=\"colab-df-container\">\n",
              "      <div>\n",
              "<style scoped>\n",
              "    .dataframe tbody tr th:only-of-type {\n",
              "        vertical-align: middle;\n",
              "    }\n",
              "\n",
              "    .dataframe tbody tr th {\n",
              "        vertical-align: top;\n",
              "    }\n",
              "\n",
              "    .dataframe thead th {\n",
              "        text-align: right;\n",
              "    }\n",
              "</style>\n",
              "<table border=\"1\" class=\"dataframe\">\n",
              "  <thead>\n",
              "    <tr style=\"text-align: right;\">\n",
              "      <th></th>\n",
              "      <th>id</th>\n",
              "      <th>timestamp</th>\n",
              "      <th>utcoffset</th>\n",
              "      <th>subject_id</th>\n",
              "      <th>source_type</th>\n",
              "      <th>source_info</th>\n",
              "      <th>package_name</th>\n",
              "      <th>name</th>\n",
              "      <th>is_system_app</th>\n",
              "      <th>is_updated_system_app</th>\n",
              "      <th>type</th>\n",
              "    </tr>\n",
              "  </thead>\n",
              "  <tbody>\n",
              "    <tr>\n",
              "      <th>180</th>\n",
              "      <td>544</td>\n",
              "      <td>1540765803075</td>\n",
              "      <td>9</td>\n",
              "      <td>7c1a65e1496fc1e1702a8910e13be1b9</td>\n",
              "      <td>PHONE</td>\n",
              "      <td>samsung-SM-N910K-6.0.1</td>\n",
              "      <td>com.sec.android.app.clockpackage</td>\n",
              "      <td>알람/시간</td>\n",
              "      <td>1</td>\n",
              "      <td>0</td>\n",
              "      <td>MOVE_TO_FOREGROUND</td>\n",
              "    </tr>\n",
              "    <tr>\n",
              "      <th>181</th>\n",
              "      <td>547</td>\n",
              "      <td>1540765803086</td>\n",
              "      <td>9</td>\n",
              "      <td>7c1a65e1496fc1e1702a8910e13be1b9</td>\n",
              "      <td>PHONE</td>\n",
              "      <td>samsung-SM-N910K-6.0.1</td>\n",
              "      <td>com.sec.android.app.clockpackage</td>\n",
              "      <td>알람/시간</td>\n",
              "      <td>1</td>\n",
              "      <td>0</td>\n",
              "      <td>MOVE_TO_BACKGROUND</td>\n",
              "    </tr>\n",
              "    <tr>\n",
              "      <th>182</th>\n",
              "      <td>550</td>\n",
              "      <td>1540765805069</td>\n",
              "      <td>9</td>\n",
              "      <td>7c1a65e1496fc1e1702a8910e13be1b9</td>\n",
              "      <td>PHONE</td>\n",
              "      <td>samsung-SM-N910K-6.0.1</td>\n",
              "      <td>com.sec.android.app.clockpackage</td>\n",
              "      <td>알람/시간</td>\n",
              "      <td>1</td>\n",
              "      <td>0</td>\n",
              "      <td>MOVE_TO_FOREGROUND</td>\n",
              "    </tr>\n",
              "    <tr>\n",
              "      <th>183</th>\n",
              "      <td>553</td>\n",
              "      <td>1540765810494</td>\n",
              "      <td>9</td>\n",
              "      <td>7c1a65e1496fc1e1702a8910e13be1b9</td>\n",
              "      <td>PHONE</td>\n",
              "      <td>samsung-SM-N910K-6.0.1</td>\n",
              "      <td>com.sec.android.app.clockpackage</td>\n",
              "      <td>알람/시간</td>\n",
              "      <td>1</td>\n",
              "      <td>0</td>\n",
              "      <td>MOVE_TO_BACKGROUND</td>\n",
              "    </tr>\n",
              "    <tr>\n",
              "      <th>184</th>\n",
              "      <td>556</td>\n",
              "      <td>1540765810584</td>\n",
              "      <td>9</td>\n",
              "      <td>7c1a65e1496fc1e1702a8910e13be1b9</td>\n",
              "      <td>PHONE</td>\n",
              "      <td>samsung-SM-N910K-6.0.1</td>\n",
              "      <td>com.sec.android.app.taskmanager</td>\n",
              "      <td>실행 중인 애플리케이션</td>\n",
              "      <td>1</td>\n",
              "      <td>0</td>\n",
              "      <td>MOVE_TO_FOREGROUND</td>\n",
              "    </tr>\n",
              "    <tr>\n",
              "      <th>...</th>\n",
              "      <td>...</td>\n",
              "      <td>...</td>\n",
              "      <td>...</td>\n",
              "      <td>...</td>\n",
              "      <td>...</td>\n",
              "      <td>...</td>\n",
              "      <td>...</td>\n",
              "      <td>...</td>\n",
              "      <td>...</td>\n",
              "      <td>...</td>\n",
              "      <td>...</td>\n",
              "    </tr>\n",
              "    <tr>\n",
              "      <th>1086414</th>\n",
              "      <td>1105887</td>\n",
              "      <td>1540758799216</td>\n",
              "      <td>9</td>\n",
              "      <td>7c1a65e1496fc1e1702a8910e13be1b9</td>\n",
              "      <td>PHONE</td>\n",
              "      <td>samsung-SM-N910K-6.0.1</td>\n",
              "      <td>kvp.jjy.MispAndroid320</td>\n",
              "      <td>ISP/페이북</td>\n",
              "      <td>0</td>\n",
              "      <td>0</td>\n",
              "      <td>MOVE_TO_FOREGROUND</td>\n",
              "    </tr>\n",
              "    <tr>\n",
              "      <th>1086415</th>\n",
              "      <td>1105888</td>\n",
              "      <td>1540758799226</td>\n",
              "      <td>9</td>\n",
              "      <td>7c1a65e1496fc1e1702a8910e13be1b9</td>\n",
              "      <td>PHONE</td>\n",
              "      <td>samsung-SM-N910K-6.0.1</td>\n",
              "      <td>kvp.jjy.MispAndroid320</td>\n",
              "      <td>ISP/페이북</td>\n",
              "      <td>0</td>\n",
              "      <td>0</td>\n",
              "      <td>MOVE_TO_BACKGROUND</td>\n",
              "    </tr>\n",
              "    <tr>\n",
              "      <th>1086416</th>\n",
              "      <td>1105889</td>\n",
              "      <td>1540758799708</td>\n",
              "      <td>9</td>\n",
              "      <td>7c1a65e1496fc1e1702a8910e13be1b9</td>\n",
              "      <td>PHONE</td>\n",
              "      <td>samsung-SM-N910K-6.0.1</td>\n",
              "      <td>com.sec.android.app.taskmanager</td>\n",
              "      <td>실행 중인 애플리케이션</td>\n",
              "      <td>1</td>\n",
              "      <td>0</td>\n",
              "      <td>MOVE_TO_BACKGROUND</td>\n",
              "    </tr>\n",
              "    <tr>\n",
              "      <th>1086417</th>\n",
              "      <td>1105890</td>\n",
              "      <td>1540758799709</td>\n",
              "      <td>9</td>\n",
              "      <td>7c1a65e1496fc1e1702a8910e13be1b9</td>\n",
              "      <td>PHONE</td>\n",
              "      <td>samsung-SM-N910K-6.0.1</td>\n",
              "      <td>com.sec.android.app.taskmanager</td>\n",
              "      <td>실행 중인 애플리케이션</td>\n",
              "      <td>1</td>\n",
              "      <td>0</td>\n",
              "      <td>MOVE_TO_FOREGROUND</td>\n",
              "    </tr>\n",
              "    <tr>\n",
              "      <th>1086418</th>\n",
              "      <td>1105891</td>\n",
              "      <td>1540765194750</td>\n",
              "      <td>9</td>\n",
              "      <td>7c1a65e1496fc1e1702a8910e13be1b9</td>\n",
              "      <td>PHONE</td>\n",
              "      <td>samsung-SM-N910K-6.0.1</td>\n",
              "      <td>com.android.mms</td>\n",
              "      <td>메시지</td>\n",
              "      <td>1</td>\n",
              "      <td>0</td>\n",
              "      <td>USER_INTERACTION</td>\n",
              "    </tr>\n",
              "  </tbody>\n",
              "</table>\n",
              "<p>47764 rows × 11 columns</p>\n",
              "</div>\n",
              "      <button class=\"colab-df-convert\" onclick=\"convertToInteractive('df-040ecf1b-82ad-458c-9d6c-67bcd2f04be8')\"\n",
              "              title=\"Convert this dataframe to an interactive table.\"\n",
              "              style=\"display:none;\">\n",
              "        \n",
              "  <svg xmlns=\"http://www.w3.org/2000/svg\" height=\"24px\"viewBox=\"0 0 24 24\"\n",
              "       width=\"24px\">\n",
              "    <path d=\"M0 0h24v24H0V0z\" fill=\"none\"/>\n",
              "    <path d=\"M18.56 5.44l.94 2.06.94-2.06 2.06-.94-2.06-.94-.94-2.06-.94 2.06-2.06.94zm-11 1L8.5 8.5l.94-2.06 2.06-.94-2.06-.94L8.5 2.5l-.94 2.06-2.06.94zm10 10l.94 2.06.94-2.06 2.06-.94-2.06-.94-.94-2.06-.94 2.06-2.06.94z\"/><path d=\"M17.41 7.96l-1.37-1.37c-.4-.4-.92-.59-1.43-.59-.52 0-1.04.2-1.43.59L10.3 9.45l-7.72 7.72c-.78.78-.78 2.05 0 2.83L4 21.41c.39.39.9.59 1.41.59.51 0 1.02-.2 1.41-.59l7.78-7.78 2.81-2.81c.8-.78.8-2.07 0-2.86zM5.41 20L4 18.59l7.72-7.72 1.47 1.35L5.41 20z\"/>\n",
              "  </svg>\n",
              "      </button>\n",
              "      \n",
              "  <style>\n",
              "    .colab-df-container {\n",
              "      display:flex;\n",
              "      flex-wrap:wrap;\n",
              "      gap: 12px;\n",
              "    }\n",
              "\n",
              "    .colab-df-convert {\n",
              "      background-color: #E8F0FE;\n",
              "      border: none;\n",
              "      border-radius: 50%;\n",
              "      cursor: pointer;\n",
              "      display: none;\n",
              "      fill: #1967D2;\n",
              "      height: 32px;\n",
              "      padding: 0 0 0 0;\n",
              "      width: 32px;\n",
              "    }\n",
              "\n",
              "    .colab-df-convert:hover {\n",
              "      background-color: #E2EBFA;\n",
              "      box-shadow: 0px 1px 2px rgba(60, 64, 67, 0.3), 0px 1px 3px 1px rgba(60, 64, 67, 0.15);\n",
              "      fill: #174EA6;\n",
              "    }\n",
              "\n",
              "    [theme=dark] .colab-df-convert {\n",
              "      background-color: #3B4455;\n",
              "      fill: #D2E3FC;\n",
              "    }\n",
              "\n",
              "    [theme=dark] .colab-df-convert:hover {\n",
              "      background-color: #434B5C;\n",
              "      box-shadow: 0px 1px 3px 1px rgba(0, 0, 0, 0.15);\n",
              "      filter: drop-shadow(0px 1px 2px rgba(0, 0, 0, 0.3));\n",
              "      fill: #FFFFFF;\n",
              "    }\n",
              "  </style>\n",
              "\n",
              "      <script>\n",
              "        const buttonEl =\n",
              "          document.querySelector('#df-040ecf1b-82ad-458c-9d6c-67bcd2f04be8 button.colab-df-convert');\n",
              "        buttonEl.style.display =\n",
              "          google.colab.kernel.accessAllowed ? 'block' : 'none';\n",
              "\n",
              "        async function convertToInteractive(key) {\n",
              "          const element = document.querySelector('#df-040ecf1b-82ad-458c-9d6c-67bcd2f04be8');\n",
              "          const dataTable =\n",
              "            await google.colab.kernel.invokeFunction('convertToInteractive',\n",
              "                                                     [key], {});\n",
              "          if (!dataTable) return;\n",
              "\n",
              "          const docLinkHtml = 'Like what you see? Visit the ' +\n",
              "            '<a target=\"_blank\" href=https://colab.research.google.com/notebooks/data_table.ipynb>data table notebook</a>'\n",
              "            + ' to learn more about interactive tables.';\n",
              "          element.innerHTML = '';\n",
              "          dataTable['output_type'] = 'display_data';\n",
              "          await google.colab.output.renderOutput(dataTable, element);\n",
              "          const docLink = document.createElement('div');\n",
              "          docLink.innerHTML = docLinkHtml;\n",
              "          element.appendChild(docLink);\n",
              "        }\n",
              "      </script>\n",
              "    </div>\n",
              "  </div>\n",
              "  "
            ]
          },
          "metadata": {},
          "execution_count": 25
        }
      ]
    },
    {
      "cell_type": "code",
      "source": [
        "df[df['subject_id']==df['subject_id'][0]]"
      ],
      "metadata": {
        "colab": {
          "base_uri": "https://localhost:8080/",
          "height": 835
        },
        "id": "Lnfi2BF4Gzco",
        "outputId": "da3c51d9-59fa-4ee9-c15e-a1e1897b3bf3"
      },
      "execution_count": null,
      "outputs": [
        {
          "output_type": "execute_result",
          "data": {
            "text/plain": [
              "            id      timestamp  utcoffset                        subject_id  \\\n",
              "0            4  1540790989686          9  2099efc17d719274924b8c81543c7972   \n",
              "1            7  1540790994228          9  2099efc17d719274924b8c81543c7972   \n",
              "2           10  1540790994420          9  2099efc17d719274924b8c81543c7972   \n",
              "3           13  1540790994486          9  2099efc17d719274924b8c81543c7972   \n",
              "4           16  1540791001635          9  2099efc17d719274924b8c81543c7972   \n",
              "...        ...            ...        ...                               ...   \n",
              "826192  845665  1540789817283          9  2099efc17d719274924b8c81543c7972   \n",
              "826193  845666  1540789818740          9  2099efc17d719274924b8c81543c7972   \n",
              "826194  845667  1540789818804          9  2099efc17d719274924b8c81543c7972   \n",
              "826195  845668  1540789820013          9  2099efc17d719274924b8c81543c7972   \n",
              "826196  845669  1540789823584          9  2099efc17d719274924b8c81543c7972   \n",
              "\n",
              "       source_type           source_info                  package_name  \\\n",
              "0            PHONE  samsung-SM-G928S-7.0          com.nhn.android.band   \n",
              "1            PHONE  samsung-SM-G928S-7.0          com.nhn.android.band   \n",
              "2            PHONE  samsung-SM-G928S-7.0          com.nhn.android.band   \n",
              "3            PHONE  samsung-SM-G928S-7.0          com.nhn.android.band   \n",
              "4            PHONE  samsung-SM-G928S-7.0          com.nhn.android.band   \n",
              "...            ...                   ...                           ...   \n",
              "826192       PHONE  samsung-SM-G928S-7.0          com.nhn.android.band   \n",
              "826193       PHONE  samsung-SM-G928S-7.0          com.nhn.android.band   \n",
              "826194       PHONE  samsung-SM-G928S-7.0  com.samsung.android.contacts   \n",
              "826195       PHONE  samsung-SM-G928S-7.0       com.fitbit.FitbitMobile   \n",
              "826196       PHONE  samsung-SM-G928S-7.0  com.samsung.android.contacts   \n",
              "\n",
              "          name  is_system_app  is_updated_system_app                type  \n",
              "0         BAND              0                      0    USER_INTERACTION  \n",
              "1         BAND              0                      0  MOVE_TO_FOREGROUND  \n",
              "2         BAND              0                      0  MOVE_TO_BACKGROUND  \n",
              "3         BAND              0                      0  MOVE_TO_FOREGROUND  \n",
              "4         BAND              0                      0  MOVE_TO_BACKGROUND  \n",
              "...        ...            ...                    ...                 ...  \n",
              "826192    BAND              0                      0  MOVE_TO_FOREGROUND  \n",
              "826193    BAND              0                      0  MOVE_TO_BACKGROUND  \n",
              "826194     연락처              1                      0  MOVE_TO_FOREGROUND  \n",
              "826195  Fitbit              0                      0    USER_INTERACTION  \n",
              "826196     연락처              1                      0  MOVE_TO_BACKGROUND  \n",
              "\n",
              "[23242 rows x 11 columns]"
            ],
            "text/html": [
              "\n",
              "  <div id=\"df-180a09cc-032e-4c39-8d6f-db29d3b73bc4\">\n",
              "    <div class=\"colab-df-container\">\n",
              "      <div>\n",
              "<style scoped>\n",
              "    .dataframe tbody tr th:only-of-type {\n",
              "        vertical-align: middle;\n",
              "    }\n",
              "\n",
              "    .dataframe tbody tr th {\n",
              "        vertical-align: top;\n",
              "    }\n",
              "\n",
              "    .dataframe thead th {\n",
              "        text-align: right;\n",
              "    }\n",
              "</style>\n",
              "<table border=\"1\" class=\"dataframe\">\n",
              "  <thead>\n",
              "    <tr style=\"text-align: right;\">\n",
              "      <th></th>\n",
              "      <th>id</th>\n",
              "      <th>timestamp</th>\n",
              "      <th>utcoffset</th>\n",
              "      <th>subject_id</th>\n",
              "      <th>source_type</th>\n",
              "      <th>source_info</th>\n",
              "      <th>package_name</th>\n",
              "      <th>name</th>\n",
              "      <th>is_system_app</th>\n",
              "      <th>is_updated_system_app</th>\n",
              "      <th>type</th>\n",
              "    </tr>\n",
              "  </thead>\n",
              "  <tbody>\n",
              "    <tr>\n",
              "      <th>0</th>\n",
              "      <td>4</td>\n",
              "      <td>1540790989686</td>\n",
              "      <td>9</td>\n",
              "      <td>2099efc17d719274924b8c81543c7972</td>\n",
              "      <td>PHONE</td>\n",
              "      <td>samsung-SM-G928S-7.0</td>\n",
              "      <td>com.nhn.android.band</td>\n",
              "      <td>BAND</td>\n",
              "      <td>0</td>\n",
              "      <td>0</td>\n",
              "      <td>USER_INTERACTION</td>\n",
              "    </tr>\n",
              "    <tr>\n",
              "      <th>1</th>\n",
              "      <td>7</td>\n",
              "      <td>1540790994228</td>\n",
              "      <td>9</td>\n",
              "      <td>2099efc17d719274924b8c81543c7972</td>\n",
              "      <td>PHONE</td>\n",
              "      <td>samsung-SM-G928S-7.0</td>\n",
              "      <td>com.nhn.android.band</td>\n",
              "      <td>BAND</td>\n",
              "      <td>0</td>\n",
              "      <td>0</td>\n",
              "      <td>MOVE_TO_FOREGROUND</td>\n",
              "    </tr>\n",
              "    <tr>\n",
              "      <th>2</th>\n",
              "      <td>10</td>\n",
              "      <td>1540790994420</td>\n",
              "      <td>9</td>\n",
              "      <td>2099efc17d719274924b8c81543c7972</td>\n",
              "      <td>PHONE</td>\n",
              "      <td>samsung-SM-G928S-7.0</td>\n",
              "      <td>com.nhn.android.band</td>\n",
              "      <td>BAND</td>\n",
              "      <td>0</td>\n",
              "      <td>0</td>\n",
              "      <td>MOVE_TO_BACKGROUND</td>\n",
              "    </tr>\n",
              "    <tr>\n",
              "      <th>3</th>\n",
              "      <td>13</td>\n",
              "      <td>1540790994486</td>\n",
              "      <td>9</td>\n",
              "      <td>2099efc17d719274924b8c81543c7972</td>\n",
              "      <td>PHONE</td>\n",
              "      <td>samsung-SM-G928S-7.0</td>\n",
              "      <td>com.nhn.android.band</td>\n",
              "      <td>BAND</td>\n",
              "      <td>0</td>\n",
              "      <td>0</td>\n",
              "      <td>MOVE_TO_FOREGROUND</td>\n",
              "    </tr>\n",
              "    <tr>\n",
              "      <th>4</th>\n",
              "      <td>16</td>\n",
              "      <td>1540791001635</td>\n",
              "      <td>9</td>\n",
              "      <td>2099efc17d719274924b8c81543c7972</td>\n",
              "      <td>PHONE</td>\n",
              "      <td>samsung-SM-G928S-7.0</td>\n",
              "      <td>com.nhn.android.band</td>\n",
              "      <td>BAND</td>\n",
              "      <td>0</td>\n",
              "      <td>0</td>\n",
              "      <td>MOVE_TO_BACKGROUND</td>\n",
              "    </tr>\n",
              "    <tr>\n",
              "      <th>...</th>\n",
              "      <td>...</td>\n",
              "      <td>...</td>\n",
              "      <td>...</td>\n",
              "      <td>...</td>\n",
              "      <td>...</td>\n",
              "      <td>...</td>\n",
              "      <td>...</td>\n",
              "      <td>...</td>\n",
              "      <td>...</td>\n",
              "      <td>...</td>\n",
              "      <td>...</td>\n",
              "    </tr>\n",
              "    <tr>\n",
              "      <th>826192</th>\n",
              "      <td>845665</td>\n",
              "      <td>1540789817283</td>\n",
              "      <td>9</td>\n",
              "      <td>2099efc17d719274924b8c81543c7972</td>\n",
              "      <td>PHONE</td>\n",
              "      <td>samsung-SM-G928S-7.0</td>\n",
              "      <td>com.nhn.android.band</td>\n",
              "      <td>BAND</td>\n",
              "      <td>0</td>\n",
              "      <td>0</td>\n",
              "      <td>MOVE_TO_FOREGROUND</td>\n",
              "    </tr>\n",
              "    <tr>\n",
              "      <th>826193</th>\n",
              "      <td>845666</td>\n",
              "      <td>1540789818740</td>\n",
              "      <td>9</td>\n",
              "      <td>2099efc17d719274924b8c81543c7972</td>\n",
              "      <td>PHONE</td>\n",
              "      <td>samsung-SM-G928S-7.0</td>\n",
              "      <td>com.nhn.android.band</td>\n",
              "      <td>BAND</td>\n",
              "      <td>0</td>\n",
              "      <td>0</td>\n",
              "      <td>MOVE_TO_BACKGROUND</td>\n",
              "    </tr>\n",
              "    <tr>\n",
              "      <th>826194</th>\n",
              "      <td>845667</td>\n",
              "      <td>1540789818804</td>\n",
              "      <td>9</td>\n",
              "      <td>2099efc17d719274924b8c81543c7972</td>\n",
              "      <td>PHONE</td>\n",
              "      <td>samsung-SM-G928S-7.0</td>\n",
              "      <td>com.samsung.android.contacts</td>\n",
              "      <td>연락처</td>\n",
              "      <td>1</td>\n",
              "      <td>0</td>\n",
              "      <td>MOVE_TO_FOREGROUND</td>\n",
              "    </tr>\n",
              "    <tr>\n",
              "      <th>826195</th>\n",
              "      <td>845668</td>\n",
              "      <td>1540789820013</td>\n",
              "      <td>9</td>\n",
              "      <td>2099efc17d719274924b8c81543c7972</td>\n",
              "      <td>PHONE</td>\n",
              "      <td>samsung-SM-G928S-7.0</td>\n",
              "      <td>com.fitbit.FitbitMobile</td>\n",
              "      <td>Fitbit</td>\n",
              "      <td>0</td>\n",
              "      <td>0</td>\n",
              "      <td>USER_INTERACTION</td>\n",
              "    </tr>\n",
              "    <tr>\n",
              "      <th>826196</th>\n",
              "      <td>845669</td>\n",
              "      <td>1540789823584</td>\n",
              "      <td>9</td>\n",
              "      <td>2099efc17d719274924b8c81543c7972</td>\n",
              "      <td>PHONE</td>\n",
              "      <td>samsung-SM-G928S-7.0</td>\n",
              "      <td>com.samsung.android.contacts</td>\n",
              "      <td>연락처</td>\n",
              "      <td>1</td>\n",
              "      <td>0</td>\n",
              "      <td>MOVE_TO_BACKGROUND</td>\n",
              "    </tr>\n",
              "  </tbody>\n",
              "</table>\n",
              "<p>23242 rows × 11 columns</p>\n",
              "</div>\n",
              "      <button class=\"colab-df-convert\" onclick=\"convertToInteractive('df-180a09cc-032e-4c39-8d6f-db29d3b73bc4')\"\n",
              "              title=\"Convert this dataframe to an interactive table.\"\n",
              "              style=\"display:none;\">\n",
              "        \n",
              "  <svg xmlns=\"http://www.w3.org/2000/svg\" height=\"24px\"viewBox=\"0 0 24 24\"\n",
              "       width=\"24px\">\n",
              "    <path d=\"M0 0h24v24H0V0z\" fill=\"none\"/>\n",
              "    <path d=\"M18.56 5.44l.94 2.06.94-2.06 2.06-.94-2.06-.94-.94-2.06-.94 2.06-2.06.94zm-11 1L8.5 8.5l.94-2.06 2.06-.94-2.06-.94L8.5 2.5l-.94 2.06-2.06.94zm10 10l.94 2.06.94-2.06 2.06-.94-2.06-.94-.94-2.06-.94 2.06-2.06.94z\"/><path d=\"M17.41 7.96l-1.37-1.37c-.4-.4-.92-.59-1.43-.59-.52 0-1.04.2-1.43.59L10.3 9.45l-7.72 7.72c-.78.78-.78 2.05 0 2.83L4 21.41c.39.39.9.59 1.41.59.51 0 1.02-.2 1.41-.59l7.78-7.78 2.81-2.81c.8-.78.8-2.07 0-2.86zM5.41 20L4 18.59l7.72-7.72 1.47 1.35L5.41 20z\"/>\n",
              "  </svg>\n",
              "      </button>\n",
              "      \n",
              "  <style>\n",
              "    .colab-df-container {\n",
              "      display:flex;\n",
              "      flex-wrap:wrap;\n",
              "      gap: 12px;\n",
              "    }\n",
              "\n",
              "    .colab-df-convert {\n",
              "      background-color: #E8F0FE;\n",
              "      border: none;\n",
              "      border-radius: 50%;\n",
              "      cursor: pointer;\n",
              "      display: none;\n",
              "      fill: #1967D2;\n",
              "      height: 32px;\n",
              "      padding: 0 0 0 0;\n",
              "      width: 32px;\n",
              "    }\n",
              "\n",
              "    .colab-df-convert:hover {\n",
              "      background-color: #E2EBFA;\n",
              "      box-shadow: 0px 1px 2px rgba(60, 64, 67, 0.3), 0px 1px 3px 1px rgba(60, 64, 67, 0.15);\n",
              "      fill: #174EA6;\n",
              "    }\n",
              "\n",
              "    [theme=dark] .colab-df-convert {\n",
              "      background-color: #3B4455;\n",
              "      fill: #D2E3FC;\n",
              "    }\n",
              "\n",
              "    [theme=dark] .colab-df-convert:hover {\n",
              "      background-color: #434B5C;\n",
              "      box-shadow: 0px 1px 3px 1px rgba(0, 0, 0, 0.15);\n",
              "      filter: drop-shadow(0px 1px 2px rgba(0, 0, 0, 0.3));\n",
              "      fill: #FFFFFF;\n",
              "    }\n",
              "  </style>\n",
              "\n",
              "      <script>\n",
              "        const buttonEl =\n",
              "          document.querySelector('#df-180a09cc-032e-4c39-8d6f-db29d3b73bc4 button.colab-df-convert');\n",
              "        buttonEl.style.display =\n",
              "          google.colab.kernel.accessAllowed ? 'block' : 'none';\n",
              "\n",
              "        async function convertToInteractive(key) {\n",
              "          const element = document.querySelector('#df-180a09cc-032e-4c39-8d6f-db29d3b73bc4');\n",
              "          const dataTable =\n",
              "            await google.colab.kernel.invokeFunction('convertToInteractive',\n",
              "                                                     [key], {});\n",
              "          if (!dataTable) return;\n",
              "\n",
              "          const docLinkHtml = 'Like what you see? Visit the ' +\n",
              "            '<a target=\"_blank\" href=https://colab.research.google.com/notebooks/data_table.ipynb>data table notebook</a>'\n",
              "            + ' to learn more about interactive tables.';\n",
              "          element.innerHTML = '';\n",
              "          dataTable['output_type'] = 'display_data';\n",
              "          await google.colab.output.renderOutput(dataTable, element);\n",
              "          const docLink = document.createElement('div');\n",
              "          docLink.innerHTML = docLinkHtml;\n",
              "          element.appendChild(docLink);\n",
              "        }\n",
              "      </script>\n",
              "    </div>\n",
              "  </div>\n",
              "  "
            ]
          },
          "metadata": {},
          "execution_count": 17
        }
      ]
    },
    {
      "cell_type": "code",
      "source": [
        "with open('/content/drive/MyDrive/스마트폰_로그_데이터셋2.json', 'r') as json_file:\n",
        "    json_data = json_file.read()\n",
        "    # json_data = json.load(json_file)\n",
        "    # utf_data = json_data.decode('utf-8')\n",
        "    # ascii_data = json_data.encode('ascii', 'ignore')"
      ],
      "metadata": {
        "id": "udqFdSWQXT11"
      },
      "execution_count": null,
      "outputs": []
    },
    {
      "cell_type": "code",
      "source": [
        "print(json_data[:100])"
      ],
      "metadata": {
        "colab": {
          "base_uri": "https://localhost:8080/"
        },
        "id": "y1oKkfgfGxCT",
        "outputId": "aaf8d371-e7ce-42c3-e1a0-c5d62793e89a"
      },
      "execution_count": null,
      "outputs": [
        {
          "output_type": "stream",
          "name": "stdout",
          "text": [
            "[\n",
            "  {\n",
            "    \"timestamp\": 1540790989686,\n",
            "    \"utcoffset\": 9,\n",
            "    \"pid\": \"2099efc17d719274924b8c81543c79\n"
          ]
        }
      ]
    },
    {
      "cell_type": "code",
      "source": [
        "print(json_data[-100:])"
      ],
      "metadata": {
        "colab": {
          "base_uri": "https://localhost:8080/"
        },
        "id": "z3_EOiVNH4My",
        "outputId": "36732af5-dcf2-4647-836e-6a708c7357ec"
      },
      "execution_count": null,
      "outputs": [
        {
          "output_type": "stream",
          "name": "stdout",
          "text": [
            " \"package_name\": \"com.kakao.talk\",\n",
            "    \"name\": \"카카오톡\",\n",
            "    \"is_system_app\": 0,\n",
            "    \"is_updated_syste\n"
          ]
        }
      ]
    },
    {
      "cell_type": "code",
      "source": [
        "a = '{\"is_updated_syste\"}'\n",
        "\n",
        "print(a)"
      ],
      "metadata": {
        "colab": {
          "base_uri": "https://localhost:8080/"
        },
        "id": "6m0KHuzQHfB-",
        "outputId": "741653c8-9aab-4353-8e19-b6dd6057af91"
      },
      "execution_count": null,
      "outputs": [
        {
          "output_type": "stream",
          "name": "stdout",
          "text": [
            "{\"is_updated_syste\"}\n"
          ]
        }
      ]
    },
    {
      "cell_type": "code",
      "source": [
        "json_data = json_data+"
      ],
      "metadata": {
        "id": "R01uN8k7H80P"
      },
      "execution_count": null,
      "outputs": []
    },
    {
      "cell_type": "code",
      "source": [
        "# import io\n",
        "\n",
        "# downloaded = io.BytesIO()\n",
        "for i in range(1000):\n",
        "  print(json_data[i])"
      ],
      "metadata": {
        "id": "lAARk_dUWRdF"
      },
      "execution_count": null,
      "outputs": []
    },
    {
      "cell_type": "code",
      "source": [
        "from pandas import json_normalize\n",
        "df = json_normalize(json_data['timestamp']) #Results contain the required data\n",
        "print(df)"
      ],
      "metadata": {
        "colab": {
          "base_uri": "https://localhost:8080/",
          "height": 211
        },
        "id": "BHELnIYkXANk",
        "outputId": "d3ce7e47-d5c0-4b40-994a-603c95dccc17"
      },
      "execution_count": null,
      "outputs": [
        {
          "output_type": "error",
          "ename": "TypeError",
          "evalue": "ignored",
          "traceback": [
            "\u001b[0;31m---------------------------------------------------------------------------\u001b[0m",
            "\u001b[0;31mTypeError\u001b[0m                                 Traceback (most recent call last)",
            "\u001b[0;32m<ipython-input-39-93e69596b154>\u001b[0m in \u001b[0;36m<module>\u001b[0;34m()\u001b[0m\n\u001b[1;32m      1\u001b[0m \u001b[0;32mfrom\u001b[0m \u001b[0mpandas\u001b[0m \u001b[0;32mimport\u001b[0m \u001b[0mjson_normalize\u001b[0m\u001b[0;34m\u001b[0m\u001b[0;34m\u001b[0m\u001b[0m\n\u001b[0;32m----> 2\u001b[0;31m \u001b[0mdf\u001b[0m \u001b[0;34m=\u001b[0m \u001b[0mjson_normalize\u001b[0m\u001b[0;34m(\u001b[0m\u001b[0mjson_data\u001b[0m\u001b[0;34m[\u001b[0m\u001b[0;34m'timestamp'\u001b[0m\u001b[0;34m]\u001b[0m\u001b[0;34m)\u001b[0m \u001b[0;31m#Results contain the required data\u001b[0m\u001b[0;34m\u001b[0m\u001b[0;34m\u001b[0m\u001b[0m\n\u001b[0m\u001b[1;32m      3\u001b[0m \u001b[0mprint\u001b[0m\u001b[0;34m(\u001b[0m\u001b[0mdf\u001b[0m\u001b[0;34m)\u001b[0m\u001b[0;34m\u001b[0m\u001b[0;34m\u001b[0m\u001b[0m\n",
            "\u001b[0;31mTypeError\u001b[0m: string indices must be integers"
          ]
        }
      ]
    },
    {
      "cell_type": "code",
      "source": [
        "type(json_data)"
      ],
      "metadata": {
        "colab": {
          "base_uri": "https://localhost:8080/"
        },
        "id": "A1Dys97RrwuE",
        "outputId": "b3a01b50-8411-4ed0-b178-8400bb47b010"
      },
      "execution_count": null,
      "outputs": [
        {
          "output_type": "execute_result",
          "data": {
            "text/plain": [
              "str"
            ]
          },
          "metadata": {},
          "execution_count": 43
        }
      ]
    },
    {
      "cell_type": "code",
      "source": [
        ""
      ],
      "metadata": {
        "id": "UZRHXrKLr32Z"
      },
      "execution_count": null,
      "outputs": []
    }
  ]
}